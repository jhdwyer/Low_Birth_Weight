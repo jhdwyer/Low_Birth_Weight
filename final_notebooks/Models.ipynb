{
 "cells": [
  {
   "cell_type": "markdown",
   "metadata": {},
   "source": [
    "# Models to Predict Low Birth Weight\n",
    "**Author: Jaclyn Dwyer**\n",
    "\n",
    "**Project Goal**: To help Kaiser Permanente determine how to identify areas that need higher level NICUs, the goal of this project is to predict the percentage of low birth weight (LBW) births in California census tracts based off their population characteristics and environmental health hazards."
   ]
  },
  {
   "cell_type": "markdown",
   "metadata": {},
   "source": [
    "## Overview"
   ]
  },
  {
   "cell_type": "markdown",
   "metadata": {},
   "source": [
    "Models are created in order to obtain the best predictions for percentage of LBW based off of population characteristics and environmental health hazards. The models are evaluated using RMSE score and R-Squared score. The RMSE score is used to gauge how concentrated the data is around the line of best fit and for the final model is used to determine how off the model is on average compared to the entire range of the target variable. The R-Squared score is used to capture how much variance the models are accounting for. Since a good R-Squared score is relative to the field being studied, a benchmark score is needed. According to [researchgate](https://www.researchgate.net/) an acceptable R-Sqaured score in the scientific community is above 0.5. Therefore, the goal for the final model is to get a low RMSE score and R-Squared score above 0.5."
   ]
  },
  {
   "cell_type": "code",
   "execution_count": 1,
   "metadata": {},
   "outputs": [],
   "source": [
    "import pandas as pd\n",
    "pd.set_option('display.max_columns', 100)\n",
    "from sklearn.model_selection import train_test_split\n",
    "import numpy as np\n",
    "from statsmodels.formula.api import ols\n",
    "from sklearn.linear_model import LinearRegression\n",
    "from sklearn.metrics import mean_absolute_error, mean_squared_error\n",
    "import seaborn as sns\n",
    "sns.set(style=\"darkgrid\")\n",
    "from sklearn.model_selection import cross_val_score\n",
    "from sklearn.model_selection import KFold\n",
    "from itertools import combinations\n",
    "from sklearn.feature_selection import SelectKBest, f_regression, mutual_info_regression\n",
    "import matplotlib.pyplot as plt\n",
    "import matplotlib.lines as mlines\n",
    "%matplotlib inline\n",
    "from sklearn.feature_selection import RFECV\n",
    "from sklearn.metrics import r2_score\n",
    "from sklearn.ensemble import RandomForestRegressor, GradientBoostingRegressor\n",
    "from sklearn.model_selection import train_test_split, cross_val_score, GridSearchCV"
   ]
  },
  {
   "cell_type": "code",
   "execution_count": 2,
   "metadata": {},
   "outputs": [],
   "source": [
    "#read in data\n",
    "df18 = pd.read_csv('data/merged/post_EDA_and_FE_df18')\n",
    "\n",
    "#drop Unamed\n",
    "df18.drop(columns = ['Unnamed: 0'], axis = 1, inplace = True)"
   ]
  },
  {
   "cell_type": "markdown",
   "metadata": {},
   "source": [
    "## Final Data Preparation"
   ]
  },
  {
   "cell_type": "markdown",
   "metadata": {},
   "source": [
    "Some final data preparation is done before running the models including creating dummy variables from categorical features, renaming columns created from the dummy variables by changing letters to lowercase and getting rid of spaces, and dropping columns not wanted in the models."
   ]
  },
  {
   "cell_type": "code",
   "execution_count": 3,
   "metadata": {},
   "outputs": [
    {
     "data": {
      "text/html": [
       "<div>\n",
       "<style scoped>\n",
       "    .dataframe tbody tr th:only-of-type {\n",
       "        vertical-align: middle;\n",
       "    }\n",
       "\n",
       "    .dataframe tbody tr th {\n",
       "        vertical-align: top;\n",
       "    }\n",
       "\n",
       "    .dataframe thead th {\n",
       "        text-align: right;\n",
       "    }\n",
       "</style>\n",
       "<table border=\"1\" class=\"dataframe\">\n",
       "  <thead>\n",
       "    <tr style=\"text-align: right;\">\n",
       "      <th></th>\n",
       "      <th>total_population</th>\n",
       "      <th>california_county</th>\n",
       "      <th>sb_535_disadvantaged</th>\n",
       "      <th>ozone</th>\n",
       "      <th>pm2_5</th>\n",
       "      <th>diesel_pm</th>\n",
       "      <th>drinking_water</th>\n",
       "      <th>pesticides</th>\n",
       "      <th>tox_release</th>\n",
       "      <th>traffic</th>\n",
       "      <th>cleanup_sites</th>\n",
       "      <th>groundwater_threats</th>\n",
       "      <th>haz_waste</th>\n",
       "      <th>imp_water_bodies</th>\n",
       "      <th>solid_waste</th>\n",
       "      <th>pollution_burden_score</th>\n",
       "      <th>lbw</th>\n",
       "      <th>education</th>\n",
       "      <th>linguistic_isolation</th>\n",
       "      <th>unemployment</th>\n",
       "      <th>housing_burden</th>\n",
       "      <th>Pop. Char. Score</th>\n",
       "      <th>less_10_yrs</th>\n",
       "      <th>yrs_11_64</th>\n",
       "      <th>greater_65</th>\n",
       "      <th>hispanic</th>\n",
       "      <th>white</th>\n",
       "      <th>african_american</th>\n",
       "      <th>native_american</th>\n",
       "      <th>asian_american</th>\n",
       "      <th>other</th>\n",
       "      <th>prev_ozone</th>\n",
       "      <th>prev_pm2_5</th>\n",
       "      <th>prev_diesel_pm</th>\n",
       "      <th>prev_drinking_water</th>\n",
       "      <th>prev_tox_release</th>\n",
       "      <th>prev_traffic</th>\n",
       "      <th>prev_groundwater_threats</th>\n",
       "      <th>prev_haz_waste</th>\n",
       "      <th>prev_imp_water_bodies</th>\n",
       "      <th>prev_solid_waste</th>\n",
       "      <th>prev_lbw</th>\n",
       "      <th>pm_breakdown</th>\n",
       "      <th>traffic_breakdown</th>\n",
       "      <th>cleanup_sites_breakdown</th>\n",
       "      <th>education_breakdown</th>\n",
       "      <th>hispanic_breakdown</th>\n",
       "      <th>white_breakdown</th>\n",
       "      <th>african_american_breakdown</th>\n",
       "      <th>asian_american_breakdown</th>\n",
       "      <th>smoking_prevalence</th>\n",
       "    </tr>\n",
       "  </thead>\n",
       "  <tbody>\n",
       "    <tr>\n",
       "      <th>0</th>\n",
       "      <td>3174</td>\n",
       "      <td>Fresno</td>\n",
       "      <td>Yes</td>\n",
       "      <td>0.065</td>\n",
       "      <td>15.40</td>\n",
       "      <td>48.524</td>\n",
       "      <td>681.20</td>\n",
       "      <td>2.75</td>\n",
       "      <td>18551.957190</td>\n",
       "      <td>909.14</td>\n",
       "      <td>80.5</td>\n",
       "      <td>45.75</td>\n",
       "      <td>0.795</td>\n",
       "      <td>0</td>\n",
       "      <td>21.75</td>\n",
       "      <td>9.85</td>\n",
       "      <td>7.44</td>\n",
       "      <td>53.3</td>\n",
       "      <td>16.2</td>\n",
       "      <td>17.6</td>\n",
       "      <td>26.0</td>\n",
       "      <td>9.55</td>\n",
       "      <td>18.8</td>\n",
       "      <td>73.6</td>\n",
       "      <td>7.6</td>\n",
       "      <td>65.3</td>\n",
       "      <td>4.2</td>\n",
       "      <td>24.6</td>\n",
       "      <td>0.5</td>\n",
       "      <td>3.5</td>\n",
       "      <td>1.8</td>\n",
       "      <td>0.255228</td>\n",
       "      <td>14.746087</td>\n",
       "      <td>44.23</td>\n",
       "      <td>519.882370</td>\n",
       "      <td>96414.458370</td>\n",
       "      <td>1217.535680</td>\n",
       "      <td>55.75</td>\n",
       "      <td>0.520</td>\n",
       "      <td>0</td>\n",
       "      <td>5.0</td>\n",
       "      <td>5.80253</td>\n",
       "      <td>top</td>\n",
       "      <td>top</td>\n",
       "      <td>top</td>\n",
       "      <td>top</td>\n",
       "      <td>More</td>\n",
       "      <td>Less</td>\n",
       "      <td>More</td>\n",
       "      <td>Less</td>\n",
       "      <td>10.6</td>\n",
       "    </tr>\n",
       "    <tr>\n",
       "      <th>1</th>\n",
       "      <td>6133</td>\n",
       "      <td>San Bernardino</td>\n",
       "      <td>Yes</td>\n",
       "      <td>0.062</td>\n",
       "      <td>13.31</td>\n",
       "      <td>38.556</td>\n",
       "      <td>904.66</td>\n",
       "      <td>1.37</td>\n",
       "      <td>7494.236622</td>\n",
       "      <td>782.26</td>\n",
       "      <td>66.2</td>\n",
       "      <td>36.00</td>\n",
       "      <td>1.250</td>\n",
       "      <td>5</td>\n",
       "      <td>12.00</td>\n",
       "      <td>10.00</td>\n",
       "      <td>7.04</td>\n",
       "      <td>53.3</td>\n",
       "      <td>33.4</td>\n",
       "      <td>12.3</td>\n",
       "      <td>34.1</td>\n",
       "      <td>9.07</td>\n",
       "      <td>19.7</td>\n",
       "      <td>76.1</td>\n",
       "      <td>4.2</td>\n",
       "      <td>91.1</td>\n",
       "      <td>5.8</td>\n",
       "      <td>0.7</td>\n",
       "      <td>0.3</td>\n",
       "      <td>1.4</td>\n",
       "      <td>0.7</td>\n",
       "      <td>0.465401</td>\n",
       "      <td>13.888224</td>\n",
       "      <td>47.08</td>\n",
       "      <td>604.311803</td>\n",
       "      <td>8122.687693</td>\n",
       "      <td>1232.874128</td>\n",
       "      <td>49.00</td>\n",
       "      <td>1.845</td>\n",
       "      <td>5</td>\n",
       "      <td>2.0</td>\n",
       "      <td>6.38952</td>\n",
       "      <td>top</td>\n",
       "      <td>top</td>\n",
       "      <td>top</td>\n",
       "      <td>top</td>\n",
       "      <td>More</td>\n",
       "      <td>Less</td>\n",
       "      <td>Less</td>\n",
       "      <td>Less</td>\n",
       "      <td>13.5</td>\n",
       "    </tr>\n",
       "  </tbody>\n",
       "</table>\n",
       "</div>"
      ],
      "text/plain": [
       "   total_population california_county sb_535_disadvantaged  ozone  pm2_5  \\\n",
       "0              3174           Fresno                   Yes  0.065  15.40   \n",
       "1              6133    San Bernardino                  Yes  0.062  13.31   \n",
       "\n",
       "   diesel_pm  drinking_water  pesticides   tox_release  traffic  \\\n",
       "0     48.524          681.20        2.75  18551.957190   909.14   \n",
       "1     38.556          904.66        1.37   7494.236622   782.26   \n",
       "\n",
       "   cleanup_sites  groundwater_threats  haz_waste  imp_water_bodies  \\\n",
       "0           80.5                45.75      0.795                 0   \n",
       "1           66.2                36.00      1.250                 5   \n",
       "\n",
       "   solid_waste  pollution_burden_score   lbw  education  linguistic_isolation  \\\n",
       "0        21.75                    9.85  7.44       53.3                  16.2   \n",
       "1        12.00                   10.00  7.04       53.3                  33.4   \n",
       "\n",
       "   unemployment  housing_burden  Pop. Char. Score  less_10_yrs  yrs_11_64  \\\n",
       "0          17.6            26.0              9.55         18.8       73.6   \n",
       "1          12.3            34.1              9.07         19.7       76.1   \n",
       "\n",
       "   greater_65  hispanic  white  african_american  native_american  \\\n",
       "0         7.6      65.3    4.2              24.6              0.5   \n",
       "1         4.2      91.1    5.8               0.7              0.3   \n",
       "\n",
       "   asian_american  other  prev_ozone  prev_pm2_5  prev_diesel_pm  \\\n",
       "0             3.5    1.8    0.255228   14.746087           44.23   \n",
       "1             1.4    0.7    0.465401   13.888224           47.08   \n",
       "\n",
       "   prev_drinking_water  prev_tox_release  prev_traffic  \\\n",
       "0           519.882370      96414.458370   1217.535680   \n",
       "1           604.311803       8122.687693   1232.874128   \n",
       "\n",
       "   prev_groundwater_threats  prev_haz_waste  prev_imp_water_bodies  \\\n",
       "0                     55.75           0.520                      0   \n",
       "1                     49.00           1.845                      5   \n",
       "\n",
       "   prev_solid_waste  prev_lbw pm_breakdown traffic_breakdown  \\\n",
       "0               5.0   5.80253          top               top   \n",
       "1               2.0   6.38952          top               top   \n",
       "\n",
       "  cleanup_sites_breakdown education_breakdown hispanic_breakdown  \\\n",
       "0                     top                 top               More   \n",
       "1                     top                 top               More   \n",
       "\n",
       "  white_breakdown african_american_breakdown asian_american_breakdown  \\\n",
       "0            Less                       More                     Less   \n",
       "1            Less                       Less                     Less   \n",
       "\n",
       "   smoking_prevalence  \n",
       "0                10.6  \n",
       "1                13.5  "
      ]
     },
     "execution_count": 3,
     "metadata": {},
     "output_type": "execute_result"
    }
   ],
   "source": [
    "df18.head(2)"
   ]
  },
  {
   "cell_type": "code",
   "execution_count": 4,
   "metadata": {},
   "outputs": [],
   "source": [
    "#create dummy variables\n",
    "cc_dummies = pd.get_dummies(df18['california_county'], prefix='cc', drop_first=True)\n",
    "disadvantaged_dummies = pd.get_dummies(df18['sb_535_disadvantaged'], prefix='disadvantaged', drop_first=True)\n",
    "pm_dummies = pd.get_dummies(df18['pm_breakdown'], prefix='pm_breakdown', drop_first=True)\n",
    "traffic_breakdown_dummies = pd.get_dummies(df18['traffic_breakdown'], prefix='traffic_breakdown', drop_first=True)\n",
    "cleanup_sites_breakdown_dummies = pd.get_dummies(df18['cleanup_sites_breakdown'], prefix='cleanup_sites_breakdown', drop_first=True)\n",
    "education_breakdown_dummies = pd.get_dummies(df18['education_breakdown'], prefix='education_breakdown', drop_first=True)\n",
    "hispanic_breakdown_dummies = pd.get_dummies(df18['hispanic_breakdown'], prefix='hispanic_breakdown', drop_first=True)\n",
    "white_breakdown_dummies = pd.get_dummies(df18['white_breakdown'], prefix='white_breakdown', drop_first=True)\n",
    "african_american_breakdown_dummies = pd.get_dummies(df18['african_american_breakdown'], prefix='african_american_breakdown', drop_first=True)\n",
    "asian_american_breakdown_dummies = pd.get_dummies(df18['asian_american_breakdown'], prefix='asian_american_breakdown', drop_first=True)\n",
    "\n",
    "\n",
    "df18 = pd.concat([df18, cc_dummies, disadvantaged_dummies, pm_dummies, traffic_breakdown_dummies, cleanup_sites_breakdown_dummies, \n",
    "                  education_breakdown_dummies, hispanic_breakdown_dummies, white_breakdown_dummies, \n",
    "                african_american_breakdown_dummies, asian_american_breakdown_dummies], axis=1)"
   ]
  },
  {
   "cell_type": "code",
   "execution_count": 5,
   "metadata": {},
   "outputs": [],
   "source": [
    "#rename columns\n",
    "df18.rename(columns = {'Pop. Char. Score': 'pop_char_score', 'cc_Amador ': 'cc_amador', 'cc_Butte ' : 'cc_butte', \n",
    "                       'cc_Calaveras ': 'cc_calaveras', 'cc_Colusa ': 'cc_colusa', 'cc_Contra Costa': 'cc_contra_costa', \n",
    "                       'cc_Del Norte': 'cc_del_norte', 'cc_El Dorado': 'cc_el_dorado', 'cc_Fresno ': 'cc_fresno', \n",
    "                       'cc_Glenn ': 'cc_glenn', 'cc_Humboldt ': 'cc_humboldt', 'cc_Imperial ': 'cc_imperial', 'cc_Inyo ': 'cc_inyo', \n",
    "                       'cc_Kern ': 'cc_kern', 'cc_Kings ': 'cc_kings', 'cc_Lake ': 'cc_lake', 'cc_Lassen ': 'cc_lassen', \n",
    "                       'cc_Los Angeles': 'cc_los_angeles', 'cc_Madera ': 'cc_madera', 'cc_Marin ': 'cc_marin', \n",
    "                       'cc_Mariposa ': 'cc_mariposa', 'cc_Mendocino ': 'cc_mendocino', 'cc_Merced ': 'cc_merced', 'cc_Mono ': 'cc_mono', \n",
    "                       'cc_Monterey ': 'cc_monterey', 'cc_Napa ': 'cc_napa', 'cc_Nevada ': 'cc_nevada', 'cc_Orange ': 'cc_orange', \n",
    "                       'cc_Placer ': 'cc_placer', 'cc_Plumas ': 'cc_plumas', 'cc_Riverside ': 'cc_riverside', 'cc_Sacramento ': 'cc_sacramento', \n",
    "                       'cc_San Benito': 'cc_san_benito', 'cc_San Bernardino': 'cc_san_bernardino', \n",
    "                       'cc_San Diego': 'cc_san_diego', 'cc_San Francisco': 'cc_san_francisco', 'cc_San Joaquin': 'cc_san_joaquin', \n",
    "                       'cc_San Luis Obispo': 'cc_san_luis_obispo', 'cc_San Mateo': 'cc_san_mateo', \n",
    "                       'cc_Santa Barbara': 'cc_santa_barbara', 'cc_Santa Clara': 'cc_santa_clara', 'cc_Santa Cruz': 'cc_santa_cruz', \n",
    "                       'cc_Shasta ': 'cc_shasta', 'cc_Sierra ': 'cc_sierra', 'cc_Siskiyou ': 'cc_siskiyou', 'cc_Solano ': 'cc_solano', \n",
    "                       'cc_Sonoma ': 'cc_sonoma', 'cc_Stanislaus ': 'cc_stanislaus', 'cc_Sutter ': 'cc_sutter', 'cc_Tehama ': 'cc_tehama', \n",
    "                       'cc_Trinity ': 'cc_trinity', 'cc_Tulare ': 'cc_tulare', 'cc_Tuolumne ': 'cc_tuolumne', 'cc_Ventura ': 'cc_ventura', \n",
    "                       'cc_Yolo ': 'cc_yolo', 'cc_Yuba ': 'cc_yuba'}, inplace = True)"
   ]
  },
  {
   "cell_type": "code",
   "execution_count": 6,
   "metadata": {},
   "outputs": [],
   "source": [
    "#drop columns\n",
    "df18.drop(columns = ['california_county', 'sb_535_disadvantaged', \n",
    "                     'pm_breakdown', 'traffic_breakdown', 'cleanup_sites_breakdown', 'education_breakdown', \n",
    "                     'hispanic_breakdown', 'white_breakdown', 'african_american_breakdown', \n",
    "                     'asian_american_breakdown', \n",
    "                     'pop_char_score'], axis = 1, inplace = True)"
   ]
  },
  {
   "cell_type": "code",
   "execution_count": 7,
   "metadata": {},
   "outputs": [
    {
     "data": {
      "text/html": [
       "<div>\n",
       "<style scoped>\n",
       "    .dataframe tbody tr th:only-of-type {\n",
       "        vertical-align: middle;\n",
       "    }\n",
       "\n",
       "    .dataframe tbody tr th {\n",
       "        vertical-align: top;\n",
       "    }\n",
       "\n",
       "    .dataframe thead th {\n",
       "        text-align: right;\n",
       "    }\n",
       "</style>\n",
       "<table border=\"1\" class=\"dataframe\">\n",
       "  <thead>\n",
       "    <tr style=\"text-align: right;\">\n",
       "      <th></th>\n",
       "      <th>total_population</th>\n",
       "      <th>ozone</th>\n",
       "      <th>pm2_5</th>\n",
       "      <th>diesel_pm</th>\n",
       "      <th>drinking_water</th>\n",
       "      <th>pesticides</th>\n",
       "      <th>tox_release</th>\n",
       "      <th>traffic</th>\n",
       "      <th>cleanup_sites</th>\n",
       "      <th>groundwater_threats</th>\n",
       "      <th>haz_waste</th>\n",
       "      <th>imp_water_bodies</th>\n",
       "      <th>solid_waste</th>\n",
       "      <th>pollution_burden_score</th>\n",
       "      <th>lbw</th>\n",
       "      <th>education</th>\n",
       "      <th>linguistic_isolation</th>\n",
       "      <th>unemployment</th>\n",
       "      <th>housing_burden</th>\n",
       "      <th>less_10_yrs</th>\n",
       "      <th>yrs_11_64</th>\n",
       "      <th>greater_65</th>\n",
       "      <th>hispanic</th>\n",
       "      <th>white</th>\n",
       "      <th>african_american</th>\n",
       "      <th>native_american</th>\n",
       "      <th>asian_american</th>\n",
       "      <th>other</th>\n",
       "      <th>prev_ozone</th>\n",
       "      <th>prev_pm2_5</th>\n",
       "      <th>prev_diesel_pm</th>\n",
       "      <th>prev_drinking_water</th>\n",
       "      <th>prev_tox_release</th>\n",
       "      <th>prev_traffic</th>\n",
       "      <th>prev_groundwater_threats</th>\n",
       "      <th>prev_haz_waste</th>\n",
       "      <th>prev_imp_water_bodies</th>\n",
       "      <th>prev_solid_waste</th>\n",
       "      <th>prev_lbw</th>\n",
       "      <th>smoking_prevalence</th>\n",
       "      <th>cc_amador</th>\n",
       "      <th>cc_butte</th>\n",
       "      <th>cc_calaveras</th>\n",
       "      <th>cc_colusa</th>\n",
       "      <th>cc_contra_costa</th>\n",
       "      <th>cc_del_norte</th>\n",
       "      <th>cc_el_dorado</th>\n",
       "      <th>cc_fresno</th>\n",
       "      <th>cc_glenn</th>\n",
       "      <th>cc_humboldt</th>\n",
       "      <th>...</th>\n",
       "      <th>cc_marin</th>\n",
       "      <th>cc_mariposa</th>\n",
       "      <th>cc_mendocino</th>\n",
       "      <th>cc_merced</th>\n",
       "      <th>cc_mono</th>\n",
       "      <th>cc_monterey</th>\n",
       "      <th>cc_napa</th>\n",
       "      <th>cc_nevada</th>\n",
       "      <th>cc_orange</th>\n",
       "      <th>cc_placer</th>\n",
       "      <th>cc_plumas</th>\n",
       "      <th>cc_riverside</th>\n",
       "      <th>cc_sacramento</th>\n",
       "      <th>cc_san_benito</th>\n",
       "      <th>cc_san_bernardino</th>\n",
       "      <th>cc_san_diego</th>\n",
       "      <th>cc_san_francisco</th>\n",
       "      <th>cc_san_joaquin</th>\n",
       "      <th>cc_san_luis_obispo</th>\n",
       "      <th>cc_san_mateo</th>\n",
       "      <th>cc_santa_barbara</th>\n",
       "      <th>cc_santa_clara</th>\n",
       "      <th>cc_santa_cruz</th>\n",
       "      <th>cc_shasta</th>\n",
       "      <th>cc_sierra</th>\n",
       "      <th>cc_siskiyou</th>\n",
       "      <th>cc_solano</th>\n",
       "      <th>cc_sonoma</th>\n",
       "      <th>cc_stanislaus</th>\n",
       "      <th>cc_sutter</th>\n",
       "      <th>cc_tehama</th>\n",
       "      <th>cc_trinity</th>\n",
       "      <th>cc_tulare</th>\n",
       "      <th>cc_tuolumne</th>\n",
       "      <th>cc_ventura</th>\n",
       "      <th>cc_yolo</th>\n",
       "      <th>cc_yuba</th>\n",
       "      <th>disadvantaged_Yes</th>\n",
       "      <th>pm_breakdown_middle</th>\n",
       "      <th>pm_breakdown_top</th>\n",
       "      <th>traffic_breakdown_middle</th>\n",
       "      <th>traffic_breakdown_top</th>\n",
       "      <th>cleanup_sites_breakdown_top</th>\n",
       "      <th>education_breakdown_lower_middle</th>\n",
       "      <th>education_breakdown_top</th>\n",
       "      <th>education_breakdown_upper_middle</th>\n",
       "      <th>hispanic_breakdown_More</th>\n",
       "      <th>white_breakdown_More</th>\n",
       "      <th>african_american_breakdown_More</th>\n",
       "      <th>asian_american_breakdown_More</th>\n",
       "    </tr>\n",
       "  </thead>\n",
       "  <tbody>\n",
       "    <tr>\n",
       "      <th>0</th>\n",
       "      <td>3174</td>\n",
       "      <td>0.065</td>\n",
       "      <td>15.40</td>\n",
       "      <td>48.524</td>\n",
       "      <td>681.20</td>\n",
       "      <td>2.75</td>\n",
       "      <td>18551.957190</td>\n",
       "      <td>909.14</td>\n",
       "      <td>80.5</td>\n",
       "      <td>45.75</td>\n",
       "      <td>0.795</td>\n",
       "      <td>0</td>\n",
       "      <td>21.75</td>\n",
       "      <td>9.85</td>\n",
       "      <td>7.44</td>\n",
       "      <td>53.3</td>\n",
       "      <td>16.2</td>\n",
       "      <td>17.6</td>\n",
       "      <td>26.0</td>\n",
       "      <td>18.8</td>\n",
       "      <td>73.6</td>\n",
       "      <td>7.6</td>\n",
       "      <td>65.3</td>\n",
       "      <td>4.2</td>\n",
       "      <td>24.6</td>\n",
       "      <td>0.5</td>\n",
       "      <td>3.5</td>\n",
       "      <td>1.8</td>\n",
       "      <td>0.255228</td>\n",
       "      <td>14.746087</td>\n",
       "      <td>44.23</td>\n",
       "      <td>519.882370</td>\n",
       "      <td>96414.458370</td>\n",
       "      <td>1217.535680</td>\n",
       "      <td>55.75</td>\n",
       "      <td>0.520</td>\n",
       "      <td>0</td>\n",
       "      <td>5.0</td>\n",
       "      <td>5.80253</td>\n",
       "      <td>10.6</td>\n",
       "      <td>0</td>\n",
       "      <td>0</td>\n",
       "      <td>0</td>\n",
       "      <td>0</td>\n",
       "      <td>0</td>\n",
       "      <td>0</td>\n",
       "      <td>0</td>\n",
       "      <td>1</td>\n",
       "      <td>0</td>\n",
       "      <td>0</td>\n",
       "      <td>...</td>\n",
       "      <td>0</td>\n",
       "      <td>0</td>\n",
       "      <td>0</td>\n",
       "      <td>0</td>\n",
       "      <td>0</td>\n",
       "      <td>0</td>\n",
       "      <td>0</td>\n",
       "      <td>0</td>\n",
       "      <td>0</td>\n",
       "      <td>0</td>\n",
       "      <td>0</td>\n",
       "      <td>0</td>\n",
       "      <td>0</td>\n",
       "      <td>0</td>\n",
       "      <td>0</td>\n",
       "      <td>0</td>\n",
       "      <td>0</td>\n",
       "      <td>0</td>\n",
       "      <td>0</td>\n",
       "      <td>0</td>\n",
       "      <td>0</td>\n",
       "      <td>0</td>\n",
       "      <td>0</td>\n",
       "      <td>0</td>\n",
       "      <td>0</td>\n",
       "      <td>0</td>\n",
       "      <td>0</td>\n",
       "      <td>0</td>\n",
       "      <td>0</td>\n",
       "      <td>0</td>\n",
       "      <td>0</td>\n",
       "      <td>0</td>\n",
       "      <td>0</td>\n",
       "      <td>0</td>\n",
       "      <td>0</td>\n",
       "      <td>0</td>\n",
       "      <td>0</td>\n",
       "      <td>1</td>\n",
       "      <td>0</td>\n",
       "      <td>1</td>\n",
       "      <td>0</td>\n",
       "      <td>1</td>\n",
       "      <td>1</td>\n",
       "      <td>0</td>\n",
       "      <td>1</td>\n",
       "      <td>0</td>\n",
       "      <td>1</td>\n",
       "      <td>0</td>\n",
       "      <td>1</td>\n",
       "      <td>0</td>\n",
       "    </tr>\n",
       "    <tr>\n",
       "      <th>1</th>\n",
       "      <td>6133</td>\n",
       "      <td>0.062</td>\n",
       "      <td>13.31</td>\n",
       "      <td>38.556</td>\n",
       "      <td>904.66</td>\n",
       "      <td>1.37</td>\n",
       "      <td>7494.236622</td>\n",
       "      <td>782.26</td>\n",
       "      <td>66.2</td>\n",
       "      <td>36.00</td>\n",
       "      <td>1.250</td>\n",
       "      <td>5</td>\n",
       "      <td>12.00</td>\n",
       "      <td>10.00</td>\n",
       "      <td>7.04</td>\n",
       "      <td>53.3</td>\n",
       "      <td>33.4</td>\n",
       "      <td>12.3</td>\n",
       "      <td>34.1</td>\n",
       "      <td>19.7</td>\n",
       "      <td>76.1</td>\n",
       "      <td>4.2</td>\n",
       "      <td>91.1</td>\n",
       "      <td>5.8</td>\n",
       "      <td>0.7</td>\n",
       "      <td>0.3</td>\n",
       "      <td>1.4</td>\n",
       "      <td>0.7</td>\n",
       "      <td>0.465401</td>\n",
       "      <td>13.888224</td>\n",
       "      <td>47.08</td>\n",
       "      <td>604.311803</td>\n",
       "      <td>8122.687693</td>\n",
       "      <td>1232.874128</td>\n",
       "      <td>49.00</td>\n",
       "      <td>1.845</td>\n",
       "      <td>5</td>\n",
       "      <td>2.0</td>\n",
       "      <td>6.38952</td>\n",
       "      <td>13.5</td>\n",
       "      <td>0</td>\n",
       "      <td>0</td>\n",
       "      <td>0</td>\n",
       "      <td>0</td>\n",
       "      <td>0</td>\n",
       "      <td>0</td>\n",
       "      <td>0</td>\n",
       "      <td>0</td>\n",
       "      <td>0</td>\n",
       "      <td>0</td>\n",
       "      <td>...</td>\n",
       "      <td>0</td>\n",
       "      <td>0</td>\n",
       "      <td>0</td>\n",
       "      <td>0</td>\n",
       "      <td>0</td>\n",
       "      <td>0</td>\n",
       "      <td>0</td>\n",
       "      <td>0</td>\n",
       "      <td>0</td>\n",
       "      <td>0</td>\n",
       "      <td>0</td>\n",
       "      <td>0</td>\n",
       "      <td>0</td>\n",
       "      <td>0</td>\n",
       "      <td>1</td>\n",
       "      <td>0</td>\n",
       "      <td>0</td>\n",
       "      <td>0</td>\n",
       "      <td>0</td>\n",
       "      <td>0</td>\n",
       "      <td>0</td>\n",
       "      <td>0</td>\n",
       "      <td>0</td>\n",
       "      <td>0</td>\n",
       "      <td>0</td>\n",
       "      <td>0</td>\n",
       "      <td>0</td>\n",
       "      <td>0</td>\n",
       "      <td>0</td>\n",
       "      <td>0</td>\n",
       "      <td>0</td>\n",
       "      <td>0</td>\n",
       "      <td>0</td>\n",
       "      <td>0</td>\n",
       "      <td>0</td>\n",
       "      <td>0</td>\n",
       "      <td>0</td>\n",
       "      <td>1</td>\n",
       "      <td>0</td>\n",
       "      <td>1</td>\n",
       "      <td>0</td>\n",
       "      <td>1</td>\n",
       "      <td>1</td>\n",
       "      <td>0</td>\n",
       "      <td>1</td>\n",
       "      <td>0</td>\n",
       "      <td>1</td>\n",
       "      <td>0</td>\n",
       "      <td>0</td>\n",
       "      <td>0</td>\n",
       "    </tr>\n",
       "  </tbody>\n",
       "</table>\n",
       "<p>2 rows × 108 columns</p>\n",
       "</div>"
      ],
      "text/plain": [
       "   total_population  ozone  pm2_5  diesel_pm  drinking_water  pesticides  \\\n",
       "0              3174  0.065  15.40     48.524          681.20        2.75   \n",
       "1              6133  0.062  13.31     38.556          904.66        1.37   \n",
       "\n",
       "    tox_release  traffic  cleanup_sites  groundwater_threats  haz_waste  \\\n",
       "0  18551.957190   909.14           80.5                45.75      0.795   \n",
       "1   7494.236622   782.26           66.2                36.00      1.250   \n",
       "\n",
       "   imp_water_bodies  solid_waste  pollution_burden_score   lbw  education  \\\n",
       "0                 0        21.75                    9.85  7.44       53.3   \n",
       "1                 5        12.00                   10.00  7.04       53.3   \n",
       "\n",
       "   linguistic_isolation  unemployment  housing_burden  less_10_yrs  yrs_11_64  \\\n",
       "0                  16.2          17.6            26.0         18.8       73.6   \n",
       "1                  33.4          12.3            34.1         19.7       76.1   \n",
       "\n",
       "   greater_65  hispanic  white  african_american  native_american  \\\n",
       "0         7.6      65.3    4.2              24.6              0.5   \n",
       "1         4.2      91.1    5.8               0.7              0.3   \n",
       "\n",
       "   asian_american  other  prev_ozone  prev_pm2_5  prev_diesel_pm  \\\n",
       "0             3.5    1.8    0.255228   14.746087           44.23   \n",
       "1             1.4    0.7    0.465401   13.888224           47.08   \n",
       "\n",
       "   prev_drinking_water  prev_tox_release  prev_traffic  \\\n",
       "0           519.882370      96414.458370   1217.535680   \n",
       "1           604.311803       8122.687693   1232.874128   \n",
       "\n",
       "   prev_groundwater_threats  prev_haz_waste  prev_imp_water_bodies  \\\n",
       "0                     55.75           0.520                      0   \n",
       "1                     49.00           1.845                      5   \n",
       "\n",
       "   prev_solid_waste  prev_lbw  smoking_prevalence  cc_amador  cc_butte  \\\n",
       "0               5.0   5.80253                10.6          0         0   \n",
       "1               2.0   6.38952                13.5          0         0   \n",
       "\n",
       "   cc_calaveras  cc_colusa  cc_contra_costa  cc_del_norte  cc_el_dorado  \\\n",
       "0             0          0                0             0             0   \n",
       "1             0          0                0             0             0   \n",
       "\n",
       "   cc_fresno  cc_glenn  cc_humboldt  ...  cc_marin  cc_mariposa  cc_mendocino  \\\n",
       "0          1         0            0  ...         0            0             0   \n",
       "1          0         0            0  ...         0            0             0   \n",
       "\n",
       "   cc_merced  cc_mono  cc_monterey  cc_napa  cc_nevada  cc_orange  cc_placer  \\\n",
       "0          0        0            0        0          0          0          0   \n",
       "1          0        0            0        0          0          0          0   \n",
       "\n",
       "   cc_plumas  cc_riverside  cc_sacramento  cc_san_benito  cc_san_bernardino  \\\n",
       "0          0             0              0              0                  0   \n",
       "1          0             0              0              0                  1   \n",
       "\n",
       "   cc_san_diego  cc_san_francisco  cc_san_joaquin  cc_san_luis_obispo  \\\n",
       "0             0                 0               0                   0   \n",
       "1             0                 0               0                   0   \n",
       "\n",
       "   cc_san_mateo  cc_santa_barbara  cc_santa_clara  cc_santa_cruz  cc_shasta  \\\n",
       "0             0                 0               0              0          0   \n",
       "1             0                 0               0              0          0   \n",
       "\n",
       "   cc_sierra  cc_siskiyou  cc_solano  cc_sonoma  cc_stanislaus  cc_sutter  \\\n",
       "0          0            0          0          0              0          0   \n",
       "1          0            0          0          0              0          0   \n",
       "\n",
       "   cc_tehama  cc_trinity  cc_tulare  cc_tuolumne  cc_ventura  cc_yolo  \\\n",
       "0          0           0          0            0           0        0   \n",
       "1          0           0          0            0           0        0   \n",
       "\n",
       "   cc_yuba  disadvantaged_Yes  pm_breakdown_middle  pm_breakdown_top  \\\n",
       "0        0                  1                    0                 1   \n",
       "1        0                  1                    0                 1   \n",
       "\n",
       "   traffic_breakdown_middle  traffic_breakdown_top  \\\n",
       "0                         0                      1   \n",
       "1                         0                      1   \n",
       "\n",
       "   cleanup_sites_breakdown_top  education_breakdown_lower_middle  \\\n",
       "0                            1                                 0   \n",
       "1                            1                                 0   \n",
       "\n",
       "   education_breakdown_top  education_breakdown_upper_middle  \\\n",
       "0                        1                                 0   \n",
       "1                        1                                 0   \n",
       "\n",
       "   hispanic_breakdown_More  white_breakdown_More  \\\n",
       "0                        1                     0   \n",
       "1                        1                     0   \n",
       "\n",
       "   african_american_breakdown_More  asian_american_breakdown_More  \n",
       "0                                1                              0  \n",
       "1                                0                              0  \n",
       "\n",
       "[2 rows x 108 columns]"
      ]
     },
     "execution_count": 7,
     "metadata": {},
     "output_type": "execute_result"
    }
   ],
   "source": [
    "df18.head(2)"
   ]
  },
  {
   "cell_type": "markdown",
   "metadata": {},
   "source": [
    "## Train Test Split"
   ]
  },
  {
   "cell_type": "markdown",
   "metadata": {},
   "source": [
    "The data is split into two sets in order to train the model on one, test the model on the other, and evaluate the overall performance of the model. "
   ]
  },
  {
   "cell_type": "code",
   "execution_count": 8,
   "metadata": {},
   "outputs": [],
   "source": [
    "df18_features = df18.drop(columns = 'lbw', axis = 1)"
   ]
  },
  {
   "cell_type": "code",
   "execution_count": 9,
   "metadata": {},
   "outputs": [],
   "source": [
    "X_train, X_test, y_train, y_test = train_test_split(df18_features, \n",
    "                                                    df18['lbw'], \n",
    "                                                    random_state=20, \n",
    "                                                    test_size=0.2)"
   ]
  },
  {
   "cell_type": "markdown",
   "metadata": {},
   "source": [
    "## Baseline Model"
   ]
  },
  {
   "cell_type": "markdown",
   "metadata": {},
   "source": [
    "A baseline model is created to start modeling."
   ]
  },
  {
   "cell_type": "code",
   "execution_count": 10,
   "metadata": {},
   "outputs": [],
   "source": [
    "#instantiate \n",
    "baseline = LinearRegression()\n",
    "\n",
    "#fit \n",
    "baseline = baseline.fit(X_train, y_train)"
   ]
  },
  {
   "cell_type": "code",
   "execution_count": 11,
   "metadata": {},
   "outputs": [],
   "source": [
    "#predict on sets\n",
    "y_train_pred = baseline.predict(X_train)\n",
    "\n",
    "y_test_pred = baseline.predict(X_test)"
   ]
  },
  {
   "cell_type": "code",
   "execution_count": 12,
   "metadata": {},
   "outputs": [],
   "source": [
    "#rmse scores\n",
    "mse = mean_squared_error(y_train, y_train_pred)\n",
    "rmse = np.sqrt(mse)\n",
    "\n",
    "mse_test = mean_squared_error(y_test, y_test_pred)\n",
    "rmse_test = np.sqrt(mse_test)"
   ]
  },
  {
   "cell_type": "code",
   "execution_count": 13,
   "metadata": {},
   "outputs": [],
   "source": [
    "#r-squared scores\n",
    "r2 = r2_score(y_train, y_train_pred)\n",
    "\n",
    "r2_test = r2_score(y_test, y_test_pred)"
   ]
  },
  {
   "cell_type": "code",
   "execution_count": 14,
   "metadata": {
    "scrolled": true
   },
   "outputs": [
    {
     "name": "stdout",
     "output_type": "stream",
     "text": [
      "baseline train: 0.992679838557695, rsquared: 0.5945651529055369\n",
      "baseline test: 1.0018120881541097, rsquared: 0.5647889636400716\n"
     ]
    }
   ],
   "source": [
    "print('baseline train: ' + str(rmse) + ', ' + 'rsquared: ' + str(r2))\n",
    "print('baseline test: ' + str(rmse_test) + ', ' + 'rsquared: ' + str(r2_test))"
   ]
  },
  {
   "cell_type": "markdown",
   "metadata": {},
   "source": [
    "The results of the train and test RMSE are very similar not eliciting any concerns for overfitting when evaluated by RMSE. The model accounted for about 59% of the variance on the train set and about 56% on the test set."
   ]
  },
  {
   "cell_type": "markdown",
   "metadata": {},
   "source": [
    "## Interactions Model"
   ]
  },
  {
   "cell_type": "markdown",
   "metadata": {},
   "source": [
    "### Create Interactions"
   ]
  },
  {
   "cell_type": "markdown",
   "metadata": {},
   "source": [
    "To try a achieve a lower RMSE score, all possible interactions are created. Cross validations are used as well. If the interaction improves the score from the baseline model, the interaction is stored in an interactions list. "
   ]
  },
  {
   "cell_type": "code",
   "execution_count": null,
   "metadata": {},
   "outputs": [],
   "source": [
    "#create interactions\n",
    "regression = LinearRegression()\n",
    "\n",
    "X = df18.drop('lbw', axis=1)\n",
    "y = df18['lbw']\n",
    "\n",
    "crossvalidation = KFold(n_splits=10, shuffle=True, random_state=1)\n",
    "baseline = np.mean(cross_val_score(regression, X, y, scoring='neg_root_mean_squared_error', cv=crossvalidation))\n",
    "\n",
    "\n",
    "interactions = []\n",
    "\n",
    "feat_combinations = combinations(X.columns, 2)\n",
    "\n",
    "data = X.copy()\n",
    "for i, (a, b) in enumerate(feat_combinations):\n",
    "    data['interaction'] = data[a] * data[b]\n",
    "    score = np.mean(cross_val_score(regression, data, y, scoring='neg_root_mean_squared_error', cv=crossvalidation))\n",
    "    if score > baseline:\n",
    "        interactions.append((a, b, round(score,3)))\n",
    "    \n",
    "    if i % 50 == 0:\n",
    "        print(i)"
   ]
  },
  {
   "cell_type": "markdown",
   "metadata": {},
   "source": [
    "The interactions found above are added to the data set to use for modeling."
   ]
  },
  {
   "cell_type": "code",
   "execution_count": 19,
   "metadata": {},
   "outputs": [],
   "source": [
    "#function to create new column\n",
    "def create_interaction(i, dataframe, interactions):\n",
    "    new_column = interactions[i][0] + '_and_' + interactions[i][1]\n",
    "    dataframe[new_column] = dataframe[interactions[i][0]] * dataframe[interactions[i][1]]"
   ]
  },
  {
   "cell_type": "code",
   "execution_count": 20,
   "metadata": {},
   "outputs": [],
   "source": [
    "#add interactions to data set\n",
    "for i in range(0,len(interactions)):\n",
    "    create_interaction(i, df18, interactions)"
   ]
  },
  {
   "cell_type": "markdown",
   "metadata": {},
   "source": [
    "### Train Test Split"
   ]
  },
  {
   "cell_type": "markdown",
   "metadata": {},
   "source": [
    "A second train test split is conducted in order to include the interactions."
   ]
  },
  {
   "cell_type": "code",
   "execution_count": 21,
   "metadata": {},
   "outputs": [],
   "source": [
    "df18_features_i = df18.drop(columns = 'lbw', axis = 1)"
   ]
  },
  {
   "cell_type": "code",
   "execution_count": 22,
   "metadata": {},
   "outputs": [],
   "source": [
    "X_train_i, X_test_i, y_train_i, y_test_i = train_test_split(df18_features_i, \n",
    "                                                    df18['lbw'], \n",
    "                                                    random_state=20, \n",
    "                                                    test_size=0.2)"
   ]
  },
  {
   "cell_type": "markdown",
   "metadata": {},
   "source": [
    "### Create Interaction Model"
   ]
  },
  {
   "cell_type": "code",
   "execution_count": 23,
   "metadata": {},
   "outputs": [],
   "source": [
    "#instantiate \n",
    "interactions = LinearRegression()\n",
    "\n",
    "#fit \n",
    "interactions = interactions.fit(X_train_i, y_train_i)"
   ]
  },
  {
   "cell_type": "code",
   "execution_count": 24,
   "metadata": {},
   "outputs": [],
   "source": [
    "#predict \n",
    "y_train_pred_i = interactions.predict(X_train_i)\n",
    "\n",
    "y_test_pred_i = interactions.predict(X_test_i)"
   ]
  },
  {
   "cell_type": "code",
   "execution_count": 25,
   "metadata": {},
   "outputs": [],
   "source": [
    "#rmse scores\n",
    "mse_i = mean_squared_error(y_train_i, y_train_pred_i)\n",
    "rmse_i = np.sqrt(mse_i)\n",
    "\n",
    "mse_test_i = mean_squared_error(y_test_i, y_test_pred_i)\n",
    "rmse_test_i = np.sqrt(mse_test_i)"
   ]
  },
  {
   "cell_type": "code",
   "execution_count": 26,
   "metadata": {},
   "outputs": [],
   "source": [
    "#r-squared scores\n",
    "r2_i = r2_score(y_train_i, y_train_pred_i)\n",
    "\n",
    "r2_test_i = r2_score(y_test_i, y_test_pred_i)"
   ]
  },
  {
   "cell_type": "code",
   "execution_count": 27,
   "metadata": {},
   "outputs": [
    {
     "name": "stdout",
     "output_type": "stream",
     "text": [
      "baseline train: 0.992679838557695, rsquared: 0.5945651529055369\n",
      "baseline test: 1.0018120881541097, rsquared: 0.5647889636400716\n",
      "interactions train: 0.8294342010117169, rsquared: 0.7169477906729933\n",
      "interactions test: 1.116289329005952, rsquared: 0.45964283943559303\n"
     ]
    }
   ],
   "source": [
    "print('baseline train: ' + str(rmse) + ', ' + 'rsquared: ' + str(r2))\n",
    "print('baseline test: ' + str(rmse_test) + ', ' + 'rsquared: ' + str(r2_test))\n",
    "print('interactions train: ' + str(rmse_i) + ', ' + 'rsquared: ' + str(r2_i))\n",
    "print('interactions test: ' + str(rmse_test_i) + ', ' + 'rsquared: ' + str(r2_test_i))"
   ]
  },
  {
   "cell_type": "markdown",
   "metadata": {},
   "source": [
    "Adding the interactions resulted in a lowered RMSE score and higher R-Squared score for the train set. However, the RMSE of the test set increased and the R-Squared for the test set decreased, indicating that the model is overfitted. In order to try and account for overfitting some features are dropped using feature elimination techniques."
   ]
  },
  {
   "cell_type": "markdown",
   "metadata": {},
   "source": [
    "## Select K Best Model"
   ]
  },
  {
   "cell_type": "markdown",
   "metadata": {},
   "source": [
    "Select K best is used in order to try and eliminate some features to account for overfitting and create improved predictions. This model was previously run with a k equal to 50, 75, 100, 150, 200, and 300 in order to obtain the best train and test scores. The results are shown in the graph below."
   ]
  },
  {
   "cell_type": "code",
   "execution_count": 28,
   "metadata": {
    "scrolled": false
   },
   "outputs": [
    {
     "data": {
      "image/png": "[encoded data removed]",
      "text/plain": [
       "<Figure size 1080x360 with 1 Axes>"
      ]
     },
     "metadata": {
      "needs_background": "light"
     },
     "output_type": "display_data"
    }
   ],
   "source": [
    "#plot graph\n",
    "f, axes = plt.subplots(1, figsize=(15,5))\n",
    "line = sns.lineplot(x= [50, 75, 100, 150, 200, 300],\n",
    "                    y=[0.98, 0.97, 0.97, 0.96, 0.94, 0.93])\n",
    "line2 = sns.lineplot(x= [50, 75, 100, 150, 200, 300],\n",
    "                    y=[0.98, 0.98, 0.97, 0.97, 0.97, 0.97])\n",
    "line.axes.set_title(\"Kbest Train vs Test RMSE Results\",fontsize=18)\n",
    "line.set_xlabel(\"K Values\",fontsize=15)\n",
    "line.set_ylabel(\"Train & Test RMSE Scores\",fontsize=15)\n",
    "\n",
    "#create proxy artist legent\n",
    "blue_line = mlines.Line2D([], [], color='blue', label='Train')\n",
    "orange_line = mlines.Line2D([], [], color='orange', label='Test')\n",
    "line.legend(handles=[blue_line, orange_line]);"
   ]
  },
  {
   "cell_type": "markdown",
   "metadata": {},
   "source": [
    "Looking at the graph above, the best k value to use for RMSE scores seems to be 100. The k values less than 100 had higher RMSE scores and k values over 100 started indicating the model may be overfitting. The graph for the R-Squared values are plotted below."
   ]
  },
  {
   "cell_type": "code",
   "execution_count": 29,
   "metadata": {
    "scrolled": true
   },
   "outputs": [
    {
     "data": {
      "image/png": "[encoded data removed]",
      "text/plain": [
       "<Figure size 1080x360 with 1 Axes>"
      ]
     },
     "metadata": {
      "needs_background": "light"
     },
     "output_type": "display_data"
    }
   ],
   "source": [
    "\n",
    "f, axes = plt.subplots(1, figsize=(15,5))\n",
    "\n",
    "line3 = sns.lineplot(x= [50, 75, 100, 150, 200, 300],\n",
    "                    y=[0.61, 0.61, 0.62, 0.62, 0.63, 0.65])\n",
    "line4 = sns.lineplot(x= [50, 75, 100, 150, 200, 300],\n",
    "                    y=[0.59, 0.59, 0.59, 0.59, 0.59, 0.59])\n",
    "line.axes.set_title(\"Kbest Train vs Test R-Squared Results\",fontsize=18)\n",
    "line.set_xlabel(\"K Values\",fontsize=15)\n",
    "line.set_ylabel(\"Train & Test R-Squared Scores\",fontsize=15)\n",
    "#create proxy artist legent\n",
    "blue_line = mlines.Line2D([], [], color='blue', label='Train')\n",
    "orange_line = mlines.Line2D([], [], color='orange', label='Test')\n",
    "line3.legend(handles=[blue_line, orange_line]);"
   ]
  },
  {
   "cell_type": "markdown",
   "metadata": {},
   "source": [
    "Since the best k value for RMSE was 100, looking at the R-Squared scores for a k value of 100 does support choosing a k value of 100. A k value less than 100 has a tiny bit of a better R-squared, however only by 0.01, so a k value of 100 is okay to choose. A k value more that 100 (besides 150) starts to lead to a higher R-Squared for the the train set which can indicate overfitting. Therefore, a k value of 100 is chosen."
   ]
  },
  {
   "cell_type": "code",
   "execution_count": 30,
   "metadata": {},
   "outputs": [
    {
     "name": "stderr",
     "output_type": "stream",
     "text": [
      "/Users/jaclynhenn/opt/anaconda3/envs/learn-env/lib/python3.8/site-packages/sklearn/feature_selection/_univariate_selection.py:302: RuntimeWarning: invalid value encountered in true_divide\n",
      "  corr /= X_norms\n"
     ]
    },
    {
     "data": {
      "text/plain": [
       "SelectKBest(k=100, score_func=<function f_regression at 0x7f91778f13a0>)"
      ]
     },
     "execution_count": 30,
     "metadata": {},
     "output_type": "execute_result"
    }
   ],
   "source": [
    "#istantiate\n",
    "selector = SelectKBest(f_regression, k=100)\n",
    "\n",
    "#fit\n",
    "selector.fit(X_train_i, y_train_i)"
   ]
  },
  {
   "cell_type": "code",
   "execution_count": 31,
   "metadata": {},
   "outputs": [],
   "source": [
    "selector.get_support();"
   ]
  },
  {
   "cell_type": "code",
   "execution_count": 32,
   "metadata": {},
   "outputs": [],
   "source": [
    "#get selected and removed columns\n",
    "selected_k_columns = X_train_i.columns[selector.get_support()]\n",
    "removed_k_columns = X_train_i.columns[~selector.get_support()]\n",
    "\n",
    "#istantiate\n",
    "kbest = LinearRegression()\n",
    "\n",
    "#fit \n",
    "kbest = kbest.fit(X_train_i[selected_k_columns], y_train_i)"
   ]
  },
  {
   "cell_type": "code",
   "execution_count": 33,
   "metadata": {},
   "outputs": [],
   "source": [
    "#predict on train and test set\n",
    "y_train_pred_k = kbest.predict(X_train_i[selected_k_columns])\n",
    "\n",
    "y_test_pred_k = kbest.predict(X_test_i[selected_k_columns])"
   ]
  },
  {
   "cell_type": "code",
   "execution_count": 34,
   "metadata": {},
   "outputs": [],
   "source": [
    "#rmse scores\n",
    "mse_k = mean_squared_error(y_train_i, y_train_pred_k)\n",
    "rmse_k = np.sqrt(mse_k)\n",
    "\n",
    "mse_test_k = mean_squared_error(y_test_i, y_test_pred_k)\n",
    "rmse_test_k = np.sqrt(mse_test_k)"
   ]
  },
  {
   "cell_type": "code",
   "execution_count": 35,
   "metadata": {},
   "outputs": [],
   "source": [
    "#give true value and predictions\n",
    "r2_k = r2_score(y_train_i, y_train_pred_k)\n",
    "\n",
    "r2_test_k = r2_score(y_test_i, y_test_pred_k)"
   ]
  },
  {
   "cell_type": "code",
   "execution_count": 36,
   "metadata": {},
   "outputs": [
    {
     "name": "stdout",
     "output_type": "stream",
     "text": [
      "baseline train: 0.992679838557695, rsquared: 0.5945651529055369\n",
      "baseline test: 1.0018120881541097, rsquared: 0.5647889636400716\n",
      "interactions train: 0.8294342010117169, rsquared: 0.7169477906729933\n",
      "interactions test: 1.116289329005952, rsquared: 0.45964283943559303\n",
      "kbest train: 0.9655497462605852, rsquared: 0.616423511656868\n",
      "kbest test: 0.9742428708851975, rsquared: 0.5884128214391924\n"
     ]
    }
   ],
   "source": [
    "print('baseline train: ' + str(rmse) + ', ' + 'rsquared: ' + str(r2))\n",
    "print('baseline test: ' + str(rmse_test) + ', ' + 'rsquared: ' + str(r2_test))\n",
    "print('interactions train: ' + str(rmse_i) + ', ' + 'rsquared: ' + str(r2_i))\n",
    "print('interactions test: ' + str(rmse_test_i) + ', ' + 'rsquared: ' + str(r2_test_i))\n",
    "print('kbest train: ' + str(rmse_k) + ', ' + 'rsquared: ' + str(r2_k))\n",
    "print('kbest test: ' + str(rmse_test_k) + ', ' + 'rsquared: ' + str(r2_test_k))"
   ]
  },
  {
   "cell_type": "markdown",
   "metadata": {},
   "source": [
    "The results from the Kbest model show a decrease in the RMSE score compared to the baseline model and do not show as much signs of overfitting as seen in the interactions model, making the Kbest model the preferred model."
   ]
  },
  {
   "cell_type": "markdown",
   "metadata": {},
   "source": [
    "## Recursive Feature Elimination (RFE)"
   ]
  },
  {
   "cell_type": "markdown",
   "metadata": {},
   "source": [
    "One more feature elimination technique is run on the features selected in the kbest model.\n",
    "A best subset of features is created by a process of eliminating underperforming features of a model one by one."
   ]
  },
  {
   "cell_type": "code",
   "execution_count": 37,
   "metadata": {
    "scrolled": true
   },
   "outputs": [
    {
     "name": "stdout",
     "output_type": "stream",
     "text": [
      "Fitting estimator with 100 features.\n",
      "Fitting estimator with 99 features.\n"
     ]
    },
    {
     "data": {
      "text/plain": [
       "RFECV(cv=7, estimator=LinearRegression(), n_jobs=-1,\n",
       "      scoring='neg_root_mean_squared_error', verbose=1)"
      ]
     },
     "execution_count": 37,
     "metadata": {},
     "output_type": "execute_result"
    }
   ],
   "source": [
    "#istantiate\n",
    "ols = LinearRegression()\n",
    "\n",
    "# Create recursive feature eliminator that scores features by mean squared errors\n",
    "selector = RFECV(estimator=ols, step=1, cv=7,  scoring='neg_root_mean_squared_error', n_jobs=-1, verbose=1)\n",
    "\n",
    "# Fit  \n",
    "selector.fit(X_train_i[selected_k_columns], y_train)"
   ]
  },
  {
   "cell_type": "code",
   "execution_count": 38,
   "metadata": {
    "scrolled": true
   },
   "outputs": [],
   "source": [
    "#get selected and removed\n",
    "selected_rfe = X_train_i[selected_k_columns].columns[selector.support_]\n",
    "removed_rfe = X_train_i[selected_k_columns].columns[~selector.support_]"
   ]
  },
  {
   "cell_type": "code",
   "execution_count": 39,
   "metadata": {},
   "outputs": [],
   "source": [
    "#instantiate\n",
    "rfe = LinearRegression()\n",
    "\n",
    "#fit \n",
    "rfe = rfe.fit(X_train_i[selected_rfe], y_train_i)"
   ]
  },
  {
   "cell_type": "code",
   "execution_count": 40,
   "metadata": {},
   "outputs": [],
   "source": [
    "#predict\n",
    "y_train_pred_rfe = rfe.predict(X_train_i[selected_rfe])\n",
    "\n",
    "y_test_pred_rfe = rfe.predict(X_test_i[selected_rfe])"
   ]
  },
  {
   "cell_type": "code",
   "execution_count": 41,
   "metadata": {},
   "outputs": [],
   "source": [
    "#rmse score\n",
    "mse_rfe = mean_squared_error(y_train_i, y_train_pred_rfe)\n",
    "rmse_rfe = np.sqrt(mse_rfe)\n",
    "\n",
    "mse_test_rfe = mean_squared_error(y_test_i, y_test_pred_rfe)\n",
    "rmse_test_rfe = np.sqrt(mse_test_rfe)"
   ]
  },
  {
   "cell_type": "code",
   "execution_count": 42,
   "metadata": {},
   "outputs": [],
   "source": [
    "#r-squared score\n",
    "r2_rfe = r2_score(y_train_i, y_train_pred_rfe)\n",
    "\n",
    "r2_test_rfe = r2_score(y_test_i, y_test_pred_rfe)"
   ]
  },
  {
   "cell_type": "code",
   "execution_count": 43,
   "metadata": {},
   "outputs": [
    {
     "name": "stdout",
     "output_type": "stream",
     "text": [
      "baseline train: 0.992679838557695, rsquared: 0.5945651529055369\n",
      "baseline test: 1.0018120881541097, rsquared: 0.5647889636400716\n",
      "interactions train: 0.8294342010117169, rsquared: 0.7169477906729933\n",
      "interactions test: 1.116289329005952, rsquared: 0.45964283943559303\n",
      "kbest train: 0.9655497462605852, rsquared: 0.616423511656868\n",
      "kbest test: 0.9742428708851975, rsquared: 0.5884128214391924\n",
      "rfe train: 0.9656882744676683, rsquared: 0.6163134397001213\n",
      "rfe test: 0.9746467059427252, rsquared: 0.5880715353275165\n"
     ]
    }
   ],
   "source": [
    "print('baseline train: ' + str(rmse) + ', ' + 'rsquared: ' + str(r2))\n",
    "print('baseline test: ' + str(rmse_test) + ', ' + 'rsquared: ' + str(r2_test))\n",
    "print('interactions train: ' + str(rmse_i) + ', ' + 'rsquared: ' + str(r2_i))\n",
    "print('interactions test: ' + str(rmse_test_i) + ', ' + 'rsquared: ' + str(r2_test_i))\n",
    "print('kbest train: ' + str(rmse_k) + ', ' + 'rsquared: ' + str(r2_k))\n",
    "print('kbest test: ' + str(rmse_test_k) + ', ' + 'rsquared: ' + str(r2_test_k))\n",
    "print('rfe train: ' + str(rmse_rfe) + ', ' + 'rsquared: ' + str(r2_rfe))\n",
    "print('rfe test: ' + str(rmse_test_rfe) + ', ' + 'rsquared: ' + str(r2_test_rfe))"
   ]
  },
  {
   "cell_type": "markdown",
   "metadata": {},
   "source": [
    "The Kbest model and RFE model are extremely similar, however, the RFE model very slightly improved the model by decreasing the difference in the train and test sets. Therefore, the RFE model is preferred."
   ]
  },
  {
   "cell_type": "markdown",
   "metadata": {},
   "source": [
    "## GridSearch Random Forest Model"
   ]
  },
  {
   "cell_type": "markdown",
   "metadata": {},
   "source": [
    "A random forest model is run with parameters found using GridSearch."
   ]
  },
  {
   "cell_type": "code",
   "execution_count": 45,
   "metadata": {},
   "outputs": [],
   "source": [
    "#instantiate\n",
    "forest = RandomForestRegressor(random_state = 20)"
   ]
  },
  {
   "cell_type": "code",
   "execution_count": 46,
   "metadata": {},
   "outputs": [],
   "source": [
    "#create custom scorer for RMSE\n",
    "custom_scorer = 'neg_root_mean_squared_error'"
   ]
  },
  {
   "cell_type": "code",
   "execution_count": 47,
   "metadata": {},
   "outputs": [],
   "source": [
    "#get dict of params\n",
    "rf_param_grid = {\n",
    "    'bootstrap': [True],\n",
    "    'max_depth': [5, 10],\n",
    "    'max_features': [2, 3],\n",
    "    'min_samples_leaf': [3, 4, 5],\n",
    "    'min_samples_split': [8, 10, 12],\n",
    "    'n_estimators': [50, 100, 200, 300],\n",
    "    'random_state': [0],\n",
    "}\n",
    "\n",
    "#instantiate  \n",
    "forest_grid_search = GridSearchCV(estimator = forest, param_grid = rf_param_grid, \n",
    "                          cv = 3, n_jobs = -1, verbose = 2, scoring = custom_scorer)"
   ]
  },
  {
   "cell_type": "code",
   "execution_count": 48,
   "metadata": {},
   "outputs": [
    {
     "name": "stdout",
     "output_type": "stream",
     "text": [
      "Fitting 3 folds for each of 144 candidates, totalling 432 fits\n"
     ]
    },
    {
     "name": "stderr",
     "output_type": "stream",
     "text": [
      "[Parallel(n_jobs=-1)]: Using backend LokyBackend with 4 concurrent workers.\n",
      "[Parallel(n_jobs=-1)]: Done  33 tasks      | elapsed:    8.6s\n",
      "[Parallel(n_jobs=-1)]: Done 154 tasks      | elapsed:   40.7s\n",
      "[Parallel(n_jobs=-1)]: Done 357 tasks      | elapsed:  1.9min\n",
      "[Parallel(n_jobs=-1)]: Done 432 out of 432 | elapsed:  2.4min finished\n"
     ]
    },
    {
     "data": {
      "text/plain": [
       "GridSearchCV(cv=3, estimator=RandomForestRegressor(random_state=20), n_jobs=-1,\n",
       "             param_grid={'bootstrap': [True], 'max_depth': [5, 10],\n",
       "                         'max_features': [2, 3], 'min_samples_leaf': [3, 4, 5],\n",
       "                         'min_samples_split': [8, 10, 12],\n",
       "                         'n_estimators': [50, 100, 200, 300],\n",
       "                         'random_state': [0]},\n",
       "             scoring='neg_root_mean_squared_error', verbose=2)"
      ]
     },
     "execution_count": 48,
     "metadata": {},
     "output_type": "execute_result"
    }
   ],
   "source": [
    "#fit \n",
    "forest_grid_search.fit(X_train_i[selected_rfe], y_train_i)"
   ]
  },
  {
   "cell_type": "code",
   "execution_count": 49,
   "metadata": {},
   "outputs": [],
   "source": [
    "#instantiate with best params model\n",
    "gs_forest = forest_grid_search.best_estimator_"
   ]
  },
  {
   "cell_type": "code",
   "execution_count": 50,
   "metadata": {},
   "outputs": [
    {
     "data": {
      "text/plain": [
       "RandomForestRegressor(max_depth=10, max_features=3, min_samples_leaf=4,\n",
       "                      min_samples_split=10, n_estimators=300, random_state=0)"
      ]
     },
     "execution_count": 50,
     "metadata": {},
     "output_type": "execute_result"
    }
   ],
   "source": [
    "#fit with best params model\n",
    "gs_forest.fit(X_train_i[selected_rfe], y_train_i)"
   ]
  },
  {
   "cell_type": "code",
   "execution_count": 51,
   "metadata": {},
   "outputs": [],
   "source": [
    "#predict \n",
    "y_train_pred_gsrf = gs_forest.predict(X_train_i[selected_rfe])\n",
    "\n",
    "y_test_pred_gsrf = gs_forest.predict(X_test_i[selected_rfe])"
   ]
  },
  {
   "cell_type": "code",
   "execution_count": 52,
   "metadata": {},
   "outputs": [],
   "source": [
    "#rmse score\n",
    "mse_gsrf = mean_squared_error(y_train_i, y_train_pred_gsrf)\n",
    "rmse_gsrf = np.sqrt(mse_gsrf)\n",
    "\n",
    "mse_test_gsrf = mean_squared_error(y_test_i, y_test_pred_gsrf)\n",
    "rmse_test_gsrf = np.sqrt(mse_test_gsrf)"
   ]
  },
  {
   "cell_type": "code",
   "execution_count": 53,
   "metadata": {},
   "outputs": [],
   "source": [
    "#r-square score\n",
    "r2_gsrf = r2_score(y_train_i, y_train_pred_gsrf)\n",
    "\n",
    "r2_test_gsrf = r2_score(y_test_i, y_test_pred_gsrf)"
   ]
  },
  {
   "cell_type": "code",
   "execution_count": 54,
   "metadata": {},
   "outputs": [
    {
     "name": "stdout",
     "output_type": "stream",
     "text": [
      "baseline train: 0.992679838557695, rsquared: 0.5945651529055369\n",
      "baseline test: 1.0018120881541097, rsquared: 0.5647889636400716\n",
      "interactions train: 0.8294342010117169, rsquared: 0.7169477906729933\n",
      "interactions test: 1.116289329005952, rsquared: 0.45964283943559303\n",
      "kbest train: 0.9655497462605852, rsquared: 0.616423511656868\n",
      "kbest test: 0.9742428708851975, rsquared: 0.5884128214391924\n",
      "rfe train: 0.9656882744676683, rsquared: 0.6163134397001213\n",
      "rfe test: 0.9746467059427252, rsquared: 0.5880715353275165\n",
      "gridsearch rf train: 0.9320045338563372, rsquared: 0.6426130247799028\n",
      "gridsearch rf test: 1.0754258142729094, rsquared: 0.49847997500804464\n"
     ]
    }
   ],
   "source": [
    "print('baseline train: ' + str(rmse) + ', ' + 'rsquared: ' + str(r2))\n",
    "print('baseline test: ' + str(rmse_test) + ', ' + 'rsquared: ' + str(r2_test))\n",
    "print('interactions train: ' + str(rmse_i) + ', ' + 'rsquared: ' + str(r2_i))\n",
    "print('interactions test: ' + str(rmse_test_i) + ', ' + 'rsquared: ' + str(r2_test_i))\n",
    "print('kbest train: ' + str(rmse_k) + ', ' + 'rsquared: ' + str(r2_k))\n",
    "print('kbest test: ' + str(rmse_test_k) + ', ' + 'rsquared: ' + str(r2_test_k))\n",
    "print('rfe train: ' + str(rmse_rfe) + ', ' + 'rsquared: ' + str(r2_rfe))\n",
    "print('rfe test: ' + str(rmse_test_rfe) + ', ' + 'rsquared: ' + str(r2_test_rfe))\n",
    "print('gridsearch rf train: ' + str(rmse_gsrf) + ', ' + 'rsquared: ' + str(r2_gsrf))\n",
    "print('gridsearch rf test: ' + str(rmse_test_gsrf) + ', ' + 'rsquared: ' + str(r2_test_gsrf))"
   ]
  },
  {
   "cell_type": "markdown",
   "metadata": {},
   "source": [
    "With the random forest model created with gridsearch both the train scores improved but both the test scores declined, indicating overfitting. Therefore, the RFE model is the preferred model."
   ]
  },
  {
   "cell_type": "markdown",
   "metadata": {},
   "source": [
    "## Final Model"
   ]
  },
  {
   "cell_type": "markdown",
   "metadata": {},
   "source": [
    "The model with the most similar test and train scores, low RMSE scores, and high R-Squared scores is the RFE model. The model is further evaluated below."
   ]
  },
  {
   "cell_type": "markdown",
   "metadata": {},
   "source": [
    "### Check Assumptions"
   ]
  },
  {
   "cell_type": "markdown",
   "metadata": {},
   "source": [
    "Homoscedasticity is checked below by plotting the residuals. The graph appears to be homoscedastic."
   ]
  },
  {
   "cell_type": "code",
   "execution_count": 100,
   "metadata": {
    "scrolled": true
   },
   "outputs": [
    {
     "name": "stderr",
     "output_type": "stream",
     "text": [
      "/Users/jaclynhenn/opt/anaconda3/envs/learn-env/lib/python3.8/site-packages/seaborn/_decorators.py:36: FutureWarning: Pass the following variables as keyword args: x, y. From version 0.12, the only valid positional argument will be `data`, and passing other arguments without an explicit keyword will result in an error or misinterpretation.\n",
      "  warnings.warn(\n"
     ]
    },
    {
     "data": {
      "image/png": "[encoded data removed]",
      "text/plain": [
       "<Figure size 432x288 with 1 Axes>"
      ]
     },
     "metadata": {
      "needs_background": "light"
     },
     "output_type": "display_data"
    }
   ],
   "source": [
    "#Plot Residuals\n",
    "f, axes = plt.subplots(1)\n",
    "rs = sns.residplot(y_train_pred_rfe, y_train_i, lowess=True, color=\"b\")\n",
    "rs.axes.set_title(\"Residuals\",fontsize=15);"
   ]
  },
  {
   "cell_type": "markdown",
   "metadata": {},
   "source": [
    "A histogram of residuals is plotted below to check normality. The residuals appear to follow a normal distribution."
   ]
  },
  {
   "cell_type": "code",
   "execution_count": 99,
   "metadata": {
    "scrolled": true
   },
   "outputs": [
    {
     "name": "stderr",
     "output_type": "stream",
     "text": [
      "/Users/jaclynhenn/opt/anaconda3/envs/learn-env/lib/python3.8/site-packages/seaborn/distributions.py:2551: FutureWarning: `distplot` is a deprecated function and will be removed in a future version. Please adapt your code to use either `displot` (a figure-level function with similar flexibility) or `histplot` (an axes-level function for histograms).\n",
      "  warnings.warn(msg, FutureWarning)\n",
      "/Users/jaclynhenn/opt/anaconda3/envs/learn-env/lib/python3.8/site-packages/seaborn/distributions.py:2055: FutureWarning: The `axis` variable is no longer used and will be removed. Instead, assign variables directly to `x` or `y`.\n",
      "  warnings.warn(msg, FutureWarning)\n"
     ]
    },
    {
     "data": {
      "image/png": "[encoded data removed]",
      "text/plain": [
       "<Figure size 432x288 with 1 Axes>"
      ]
     },
     "metadata": {
      "needs_background": "light"
     },
     "output_type": "display_data"
    }
   ],
   "source": [
    "#Plot Residuals\n",
    "residuals_2 =  y_train_i - y_train_pred_rfe\n",
    "\n",
    "f, axes = plt.subplots(1)\n",
    "hs = sns.distplot(residuals_2, kde=True, rug=True)\n",
    "hs.axes.set_title(\"Residuals\",fontsize=15);"
   ]
  },
  {
   "cell_type": "markdown",
   "metadata": {},
   "source": [
    "### Evaluate RMSE Score"
   ]
  },
  {
   "cell_type": "markdown",
   "metadata": {},
   "source": [
    "To evaluate the RMSE score the score is used to determine how off the model is on average compared to the entire range of the target variable by looking at the min and max of LBW. "
   ]
  },
  {
   "cell_type": "code",
   "execution_count": 83,
   "metadata": {},
   "outputs": [
    {
     "data": {
      "text/plain": [
       "0.06485482031347671"
      ]
     },
     "execution_count": 83,
     "metadata": {},
     "output_type": "execute_result"
    }
   ],
   "source": [
    "0.9656882744676683 / (y_train_i.max() - y_train_i.min())"
   ]
  },
  {
   "cell_type": "markdown",
   "metadata": {},
   "source": [
    "The results indicate a good RMSE score."
   ]
  },
  {
   "cell_type": "markdown",
   "metadata": {},
   "source": [
    "### Selected RFE"
   ]
  },
  {
   "cell_type": "markdown",
   "metadata": {},
   "source": [
    "The features which made it into the final model are viewed below. "
   ]
  },
  {
   "cell_type": "code",
   "execution_count": 62,
   "metadata": {
    "scrolled": true
   },
   "outputs": [
    {
     "data": {
      "text/plain": [
       "Index(['education', 'unemployment', 'housing_burden', 'white',\n",
       "       'african_american', 'prev_lbw', 'disadvantaged_Yes',\n",
       "       'white_breakdown_More', 'african_american_breakdown_More',\n",
       "       'total_population_and_african_american',\n",
       "       'total_population_and_disadvantaged_Yes',\n",
       "       'total_population_and_white_breakdown_More', 'ozone_and_education',\n",
       "       'ozone_and_housing_burden', 'ozone_and_white',\n",
       "       'ozone_and_african_american', 'ozone_and_prev_lbw',\n",
       "       'ozone_and_disadvantaged_Yes', 'ozone_and_white_breakdown_More',\n",
       "       'ozone_and_african_american_breakdown_More', 'pm2_5_and_education',\n",
       "       'pm2_5_and_housing_burden', 'pm2_5_and_white',\n",
       "       'pm2_5_and_african_american', 'pm2_5_and_prev_lbw',\n",
       "       'pm2_5_and_hispanic_breakdown_More', 'pm2_5_and_white_breakdown_More',\n",
       "       'pm2_5_and_african_american_breakdown_More',\n",
       "       'diesel_pm_and_disadvantaged_Yes',\n",
       "       'pollution_burden_score_and_education',\n",
       "       'pollution_burden_score_and_housing_burden',\n",
       "       'pollution_burden_score_and_white',\n",
       "       'pollution_burden_score_and_african_american',\n",
       "       'pollution_burden_score_and_prev_lbw',\n",
       "       'pollution_burden_score_and_white_breakdown_More',\n",
       "       'pollution_burden_score_and_african_american_breakdown_More',\n",
       "       'education_and_unemployment', 'education_and_housing_burden',\n",
       "       'education_and_yrs_11_64', 'education_and_prev_pm2_5',\n",
       "       'education_and_prev_lbw', 'education_and_smoking_prevalence',\n",
       "       'education_and_disadvantaged_Yes',\n",
       "       'education_and_african_american_breakdown_More',\n",
       "       'linguistic_isolation_and_prev_lbw', 'unemployment_and_less_10_yrs',\n",
       "       'unemployment_and_hispanic', 'unemployment_and_prev_lbw',\n",
       "       'unemployment_and_hispanic_breakdown_More',\n",
       "       'housing_burden_and_less_10_yrs', 'housing_burden_and_hispanic',\n",
       "       'housing_burden_and_prev_pm2_5', 'housing_burden_and_prev_lbw',\n",
       "       'housing_burden_and_disadvantaged_Yes',\n",
       "       'housing_burden_and_white_breakdown_More', 'less_10_yrs_and_white',\n",
       "       'less_10_yrs_and_prev_lbw', 'less_10_yrs_and_disadvantaged_Yes',\n",
       "       'less_10_yrs_and_hispanic_breakdown_More',\n",
       "       'less_10_yrs_and_white_breakdown_More',\n",
       "       'less_10_yrs_and_african_american_breakdown_More',\n",
       "       'yrs_11_64_and_white', 'yrs_11_64_and_disadvantaged_Yes',\n",
       "       'yrs_11_64_and_white_breakdown_More', 'greater_65_and_white',\n",
       "       'greater_65_and_disadvantaged_Yes',\n",
       "       'greater_65_and_white_breakdown_More', 'hispanic_and_african_american',\n",
       "       'hispanic_and_prev_lbw', 'hispanic_and_disadvantaged_Yes',\n",
       "       'hispanic_and_african_american_breakdown_More', 'white_and_prev_pm2_5',\n",
       "       'white_and_prev_lbw', 'white_and_smoking_prevalence',\n",
       "       'white_and_white_breakdown_More', 'african_american_and_prev_pm2_5',\n",
       "       'african_american_and_prev_drinking_water',\n",
       "       'african_american_and_prev_lbw',\n",
       "       'african_american_and_smoking_prevalence',\n",
       "       'african_american_and_cc_los_angeles',\n",
       "       'african_american_and_disadvantaged_Yes',\n",
       "       'african_american_and_hispanic_breakdown_More',\n",
       "       'african_american_and_african_american_breakdown_More',\n",
       "       'other_and_disadvantaged_Yes', 'other_and_white_breakdown_More',\n",
       "       'prev_pm2_5_and_prev_lbw', 'prev_pm2_5_and_hispanic_breakdown_More',\n",
       "       'prev_pm2_5_and_white_breakdown_More',\n",
       "       'prev_pm2_5_and_african_american_breakdown_More',\n",
       "       'prev_diesel_pm_and_disadvantaged_Yes',\n",
       "       'prev_lbw_and_disadvantaged_Yes',\n",
       "       'prev_lbw_and_hispanic_breakdown_More',\n",
       "       'prev_lbw_and_white_breakdown_More',\n",
       "       'prev_lbw_and_african_american_breakdown_More',\n",
       "       'smoking_prevalence_and_disadvantaged_Yes',\n",
       "       'smoking_prevalence_and_white_breakdown_More',\n",
       "       'disadvantaged_Yes_and_hispanic_breakdown_More',\n",
       "       'hispanic_breakdown_More_and_african_american_breakdown_More'],\n",
       "      dtype='object')"
      ]
     },
     "execution_count": 62,
     "metadata": {},
     "output_type": "execute_result"
    }
   ],
   "source": [
    "selected_rfe"
   ]
  },
  {
   "cell_type": "markdown",
   "metadata": {},
   "source": [
    "Both population characteristics as well as environmental health hazards features are seen in the selected RFE features. "
   ]
  },
  {
   "cell_type": "markdown",
   "metadata": {},
   "source": [
    "### Significant Features"
   ]
  },
  {
   "cell_type": "markdown",
   "metadata": {},
   "source": [
    "An ols model is created using the selected RFE. The summary table is visualized in order to determine which features were considered significant for predictions."
   ]
  },
  {
   "cell_type": "code",
   "execution_count": 77,
   "metadata": {},
   "outputs": [],
   "source": [
    "#reset ols\n",
    "ols = None"
   ]
  },
  {
   "cell_type": "code",
   "execution_count": null,
   "metadata": {},
   "outputs": [],
   "source": [
    "#import statsmodels\n",
    "import statsmodels.formula.api as sm"
   ]
  },
  {
   "cell_type": "code",
   "execution_count": 79,
   "metadata": {},
   "outputs": [
    {
     "data": {
      "text/html": [
       "<table class=\"simpletable\">\n",
       "<caption>OLS Regression Results</caption>\n",
       "<tr>\n",
       "  <th>Dep. Variable:</th>           <td>lbw</td>       <th>  R-squared:         </th> <td>   0.613</td> \n",
       "</tr>\n",
       "<tr>\n",
       "  <th>Model:</th>                   <td>OLS</td>       <th>  Adj. R-squared:    </th> <td>   0.608</td> \n",
       "</tr>\n",
       "<tr>\n",
       "  <th>Method:</th>             <td>Least Squares</td>  <th>  F-statistic:       </th> <td>   128.4</td> \n",
       "</tr>\n",
       "<tr>\n",
       "  <th>Date:</th>             <td>Wed, 05 May 2021</td> <th>  Prob (F-statistic):</th>  <td>  0.00</td>  \n",
       "</tr>\n",
       "<tr>\n",
       "  <th>Time:</th>                 <td>14:55:19</td>     <th>  Log-Likelihood:    </th> <td> -10811.</td> \n",
       "</tr>\n",
       "<tr>\n",
       "  <th>No. Observations:</th>      <td>  7812</td>      <th>  AIC:               </th> <td>2.181e+04</td>\n",
       "</tr>\n",
       "<tr>\n",
       "  <th>Df Residuals:</th>          <td>  7716</td>      <th>  BIC:               </th> <td>2.248e+04</td>\n",
       "</tr>\n",
       "<tr>\n",
       "  <th>Df Model:</th>              <td>    95</td>      <th>                     </th>     <td> </td>    \n",
       "</tr>\n",
       "<tr>\n",
       "  <th>Covariance Type:</th>      <td>nonrobust</td>    <th>                     </th>     <td> </td>    \n",
       "</tr>\n",
       "</table>\n",
       "<table class=\"simpletable\">\n",
       "<tr>\n",
       "                               <td></td>                                  <th>coef</th>     <th>std err</th>      <th>t</th>      <th>P>|t|</th>  <th>[0.025</th>    <th>0.975]</th>  \n",
       "</tr>\n",
       "<tr>\n",
       "  <th>Intercept</th>                                                   <td>   -6.2044</td> <td>    0.886</td> <td>   -7.006</td> <td> 0.000</td> <td>   -7.940</td> <td>   -4.468</td>\n",
       "</tr>\n",
       "<tr>\n",
       "  <th>education</th>                                                   <td>    0.0784</td> <td>    0.028</td> <td>    2.818</td> <td> 0.005</td> <td>    0.024</td> <td>    0.133</td>\n",
       "</tr>\n",
       "<tr>\n",
       "  <th>unemployment</th>                                                <td>   -0.0327</td> <td>    0.035</td> <td>   -0.929</td> <td> 0.353</td> <td>   -0.102</td> <td>    0.036</td>\n",
       "</tr>\n",
       "<tr>\n",
       "  <th>housing_burden</th>                                              <td>    0.0209</td> <td>    0.026</td> <td>    0.791</td> <td> 0.429</td> <td>   -0.031</td> <td>    0.073</td>\n",
       "</tr>\n",
       "<tr>\n",
       "  <th>white</th>                                                       <td>-3.107e-05</td> <td> 6.09e-06</td> <td>   -5.103</td> <td> 0.000</td> <td> -4.3e-05</td> <td>-1.91e-05</td>\n",
       "</tr>\n",
       "<tr>\n",
       "  <th>african_american</th>                                            <td>    0.0206</td> <td>    0.037</td> <td>    0.562</td> <td> 0.574</td> <td>   -0.051</td> <td>    0.093</td>\n",
       "</tr>\n",
       "<tr>\n",
       "  <th>prev_lbw</th>                                                    <td>    2.5601</td> <td>    0.192</td> <td>   13.365</td> <td> 0.000</td> <td>    2.185</td> <td>    2.936</td>\n",
       "</tr>\n",
       "<tr>\n",
       "  <th>disadvantaged_Yes</th>                                           <td>   -0.0003</td> <td>    0.000</td> <td>   -1.489</td> <td> 0.136</td> <td>   -0.001</td> <td>    0.000</td>\n",
       "</tr>\n",
       "<tr>\n",
       "  <th>white_breakdown_More</th>                                        <td>   -0.0001</td> <td>    0.000</td> <td>   -0.390</td> <td> 0.697</td> <td>   -0.001</td> <td>    0.000</td>\n",
       "</tr>\n",
       "<tr>\n",
       "  <th>african_american_breakdown_More</th>                             <td>    1.7621</td> <td>    0.432</td> <td>    4.081</td> <td> 0.000</td> <td>    0.916</td> <td>    2.609</td>\n",
       "</tr>\n",
       "<tr>\n",
       "  <th>total_population_and_african_american</th>                       <td>-3.884e-06</td> <td> 7.19e-07</td> <td>   -5.402</td> <td> 0.000</td> <td>-5.29e-06</td> <td>-2.47e-06</td>\n",
       "</tr>\n",
       "<tr>\n",
       "  <th>total_population_and_disadvantaged_Yes</th>                      <td> -3.95e-05</td> <td> 1.41e-05</td> <td>   -2.807</td> <td> 0.005</td> <td>-6.71e-05</td> <td>-1.19e-05</td>\n",
       "</tr>\n",
       "<tr>\n",
       "  <th>total_population_and_white_breakdown_More</th>                   <td> 8.582e-05</td> <td>  9.2e-06</td> <td>    9.327</td> <td> 0.000</td> <td> 6.78e-05</td> <td>    0.000</td>\n",
       "</tr>\n",
       "<tr>\n",
       "  <th>ozone_and_education</th>                                         <td>    0.3465</td> <td>    0.180</td> <td>    1.922</td> <td> 0.055</td> <td>   -0.007</td> <td>    0.700</td>\n",
       "</tr>\n",
       "<tr>\n",
       "  <th>ozone_and_housing_burden</th>                                    <td>    0.0135</td> <td>    0.200</td> <td>    0.067</td> <td> 0.946</td> <td>   -0.379</td> <td>    0.406</td>\n",
       "</tr>\n",
       "<tr>\n",
       "  <th>ozone_and_white</th>                                             <td>    0.3325</td> <td>    0.136</td> <td>    2.446</td> <td> 0.014</td> <td>    0.066</td> <td>    0.599</td>\n",
       "</tr>\n",
       "<tr>\n",
       "  <th>ozone_and_african_american</th>                                  <td>    0.6908</td> <td>    0.300</td> <td>    2.299</td> <td> 0.022</td> <td>    0.102</td> <td>    1.280</td>\n",
       "</tr>\n",
       "<tr>\n",
       "  <th>ozone_and_prev_lbw</th>                                          <td>   -3.4215</td> <td>    1.703</td> <td>   -2.009</td> <td> 0.045</td> <td>   -6.761</td> <td>   -0.082</td>\n",
       "</tr>\n",
       "<tr>\n",
       "  <th>ozone_and_disadvantaged_Yes</th>                                 <td>    9.1145</td> <td>    4.405</td> <td>    2.069</td> <td> 0.039</td> <td>    0.479</td> <td>   17.750</td>\n",
       "</tr>\n",
       "<tr>\n",
       "  <th>ozone_and_white_breakdown_More</th>                              <td>   -0.5293</td> <td>    5.980</td> <td>   -0.089</td> <td> 0.929</td> <td>  -12.252</td> <td>   11.193</td>\n",
       "</tr>\n",
       "<tr>\n",
       "  <th>ozone_and_african_american_breakdown_More</th>                   <td>   -5.5504</td> <td>    3.241</td> <td>   -1.712</td> <td> 0.087</td> <td>  -11.904</td> <td>    0.803</td>\n",
       "</tr>\n",
       "<tr>\n",
       "  <th>pm2_5_and_education</th>                                         <td>   -0.0009</td> <td>    0.001</td> <td>   -0.729</td> <td> 0.466</td> <td>   -0.003</td> <td>    0.002</td>\n",
       "</tr>\n",
       "<tr>\n",
       "  <th>pm2_5_and_housing_burden</th>                                    <td>   -0.0014</td> <td>    0.002</td> <td>   -0.870</td> <td> 0.385</td> <td>   -0.005</td> <td>    0.002</td>\n",
       "</tr>\n",
       "<tr>\n",
       "  <th>pm2_5_and_white</th>                                             <td>   -0.0019</td> <td>    0.001</td> <td>   -1.896</td> <td> 0.058</td> <td>   -0.004</td> <td> 6.58e-05</td>\n",
       "</tr>\n",
       "<tr>\n",
       "  <th>pm2_5_and_african_american</th>                                  <td>    0.0015</td> <td>    0.003</td> <td>    0.493</td> <td> 0.622</td> <td>   -0.004</td> <td>    0.007</td>\n",
       "</tr>\n",
       "<tr>\n",
       "  <th>pm2_5_and_prev_lbw</th>                                          <td>    0.0227</td> <td>    0.012</td> <td>    1.833</td> <td> 0.067</td> <td>   -0.002</td> <td>    0.047</td>\n",
       "</tr>\n",
       "<tr>\n",
       "  <th>pm2_5_and_hispanic_breakdown_More</th>                           <td>   -0.0282</td> <td>    0.031</td> <td>   -0.905</td> <td> 0.365</td> <td>   -0.089</td> <td>    0.033</td>\n",
       "</tr>\n",
       "<tr>\n",
       "  <th>pm2_5_and_white_breakdown_More</th>                              <td>    0.0505</td> <td>    0.042</td> <td>    1.191</td> <td> 0.234</td> <td>   -0.033</td> <td>    0.134</td>\n",
       "</tr>\n",
       "<tr>\n",
       "  <th>pm2_5_and_african_american_breakdown_More</th>                   <td>    0.0041</td> <td>    0.028</td> <td>    0.147</td> <td> 0.883</td> <td>   -0.050</td> <td>    0.058</td>\n",
       "</tr>\n",
       "<tr>\n",
       "  <th>diesel_pm_and_disadvantaged_Yes</th>                             <td>    0.0027</td> <td>    0.002</td> <td>    1.176</td> <td> 0.240</td> <td>   -0.002</td> <td>    0.007</td>\n",
       "</tr>\n",
       "<tr>\n",
       "  <th>pollution_burden_score_and_education</th>                        <td>    0.0004</td> <td>    0.001</td> <td>    0.375</td> <td> 0.707</td> <td>   -0.002</td> <td>    0.003</td>\n",
       "</tr>\n",
       "<tr>\n",
       "  <th>pollution_burden_score_and_housing_burden</th>                   <td>   -0.0027</td> <td>    0.002</td> <td>   -1.732</td> <td> 0.083</td> <td>   -0.006</td> <td>    0.000</td>\n",
       "</tr>\n",
       "<tr>\n",
       "  <th>pollution_burden_score_and_white</th>                            <td>    0.0005</td> <td>    0.001</td> <td>    0.588</td> <td> 0.557</td> <td>   -0.001</td> <td>    0.002</td>\n",
       "</tr>\n",
       "<tr>\n",
       "  <th>pollution_burden_score_and_african_american</th>                 <td>-5.526e-05</td> <td>    0.002</td> <td>   -0.034</td> <td> 0.973</td> <td>   -0.003</td> <td>    0.003</td>\n",
       "</tr>\n",
       "<tr>\n",
       "  <th>pollution_burden_score_and_prev_lbw</th>                         <td>   -0.0081</td> <td>    0.010</td> <td>   -0.810</td> <td> 0.418</td> <td>   -0.028</td> <td>    0.012</td>\n",
       "</tr>\n",
       "<tr>\n",
       "  <th>pollution_burden_score_and_white_breakdown_More</th>             <td>    0.0412</td> <td>    0.039</td> <td>    1.047</td> <td> 0.295</td> <td>   -0.036</td> <td>    0.118</td>\n",
       "</tr>\n",
       "<tr>\n",
       "  <th>pollution_burden_score_and_african_american_breakdown_More</th>  <td>    0.0077</td> <td>    0.023</td> <td>    0.331</td> <td> 0.740</td> <td>   -0.038</td> <td>    0.054</td>\n",
       "</tr>\n",
       "<tr>\n",
       "  <th>education_and_unemployment</th>                                  <td>    0.0002</td> <td>    0.000</td> <td>    0.648</td> <td> 0.517</td> <td>   -0.000</td> <td>    0.001</td>\n",
       "</tr>\n",
       "<tr>\n",
       "  <th>education_and_housing_burden</th>                                <td>   -0.0003</td> <td>    0.000</td> <td>   -1.545</td> <td> 0.122</td> <td>   -0.001</td> <td>  8.7e-05</td>\n",
       "</tr>\n",
       "<tr>\n",
       "  <th>education_and_yrs_11_64</th>                                     <td>   -0.0010</td> <td>    0.000</td> <td>   -4.581</td> <td> 0.000</td> <td>   -0.001</td> <td>   -0.001</td>\n",
       "</tr>\n",
       "<tr>\n",
       "  <th>education_and_prev_pm2_5</th>                                    <td>    0.0005</td> <td>    0.001</td> <td>    0.351</td> <td> 0.726</td> <td>   -0.002</td> <td>    0.003</td>\n",
       "</tr>\n",
       "<tr>\n",
       "  <th>education_and_prev_lbw</th>                                      <td>   -0.0026</td> <td>    0.004</td> <td>   -0.670</td> <td> 0.503</td> <td>   -0.010</td> <td>    0.005</td>\n",
       "</tr>\n",
       "<tr>\n",
       "  <th>education_and_smoking_prevalence</th>                            <td>-7.293e-05</td> <td>    0.000</td> <td>   -0.183</td> <td> 0.855</td> <td>   -0.001</td> <td>    0.001</td>\n",
       "</tr>\n",
       "<tr>\n",
       "  <th>education_and_disadvantaged_Yes</th>                             <td>    0.0064</td> <td>    0.005</td> <td>    1.381</td> <td> 0.167</td> <td>   -0.003</td> <td>    0.015</td>\n",
       "</tr>\n",
       "<tr>\n",
       "  <th>education_and_african_american_breakdown_More</th>               <td>    0.0041</td> <td>    0.004</td> <td>    1.168</td> <td> 0.243</td> <td>   -0.003</td> <td>    0.011</td>\n",
       "</tr>\n",
       "<tr>\n",
       "  <th>linguistic_isolation_and_prev_lbw</th>                           <td>   -0.0010</td> <td>    0.000</td> <td>   -2.280</td> <td> 0.023</td> <td>   -0.002</td> <td>   -0.000</td>\n",
       "</tr>\n",
       "<tr>\n",
       "  <th>unemployment_and_less_10_yrs</th>                                <td>    0.0001</td> <td>    0.001</td> <td>    0.176</td> <td> 0.860</td> <td>   -0.001</td> <td>    0.002</td>\n",
       "</tr>\n",
       "<tr>\n",
       "  <th>unemployment_and_hispanic</th>                                   <td>   -0.0001</td> <td>    0.000</td> <td>   -0.537</td> <td> 0.591</td> <td>   -0.001</td> <td>    0.000</td>\n",
       "</tr>\n",
       "<tr>\n",
       "  <th>unemployment_and_prev_lbw</th>                                   <td>    0.0087</td> <td>    0.007</td> <td>    1.289</td> <td> 0.198</td> <td>   -0.005</td> <td>    0.022</td>\n",
       "</tr>\n",
       "<tr>\n",
       "  <th>unemployment_and_hispanic_breakdown_More</th>                    <td>   -0.0140</td> <td>    0.009</td> <td>   -1.545</td> <td> 0.122</td> <td>   -0.032</td> <td>    0.004</td>\n",
       "</tr>\n",
       "<tr>\n",
       "  <th>housing_burden_and_less_10_yrs</th>                              <td>    0.0004</td> <td>    0.000</td> <td>    1.043</td> <td> 0.297</td> <td>   -0.000</td> <td>    0.001</td>\n",
       "</tr>\n",
       "<tr>\n",
       "  <th>housing_burden_and_hispanic</th>                                 <td>    0.0004</td> <td>    0.000</td> <td>    2.592</td> <td> 0.010</td> <td> 9.01e-05</td> <td>    0.001</td>\n",
       "</tr>\n",
       "<tr>\n",
       "  <th>housing_burden_and_prev_pm2_5</th>                               <td>    0.0008</td> <td>    0.002</td> <td>    0.507</td> <td> 0.612</td> <td>   -0.002</td> <td>    0.004</td>\n",
       "</tr>\n",
       "<tr>\n",
       "  <th>housing_burden_and_prev_lbw</th>                                 <td>   -0.0037</td> <td>    0.005</td> <td>   -0.810</td> <td> 0.418</td> <td>   -0.013</td> <td>    0.005</td>\n",
       "</tr>\n",
       "<tr>\n",
       "  <th>housing_burden_and_disadvantaged_Yes</th>                        <td>    0.0019</td> <td>    0.006</td> <td>    0.351</td> <td> 0.726</td> <td>   -0.009</td> <td>    0.013</td>\n",
       "</tr>\n",
       "<tr>\n",
       "  <th>housing_burden_and_white_breakdown_More</th>                     <td>    0.0117</td> <td>    0.004</td> <td>    2.594</td> <td> 0.010</td> <td>    0.003</td> <td>    0.020</td>\n",
       "</tr>\n",
       "<tr>\n",
       "  <th>less_10_yrs_and_white</th>                                       <td>   -0.0006</td> <td>    0.000</td> <td>   -1.843</td> <td> 0.065</td> <td>   -0.001</td> <td> 3.89e-05</td>\n",
       "</tr>\n",
       "<tr>\n",
       "  <th>less_10_yrs_and_prev_lbw</th>                                    <td>   -0.0102</td> <td>    0.003</td> <td>   -3.186</td> <td> 0.001</td> <td>   -0.017</td> <td>   -0.004</td>\n",
       "</tr>\n",
       "<tr>\n",
       "  <th>less_10_yrs_and_disadvantaged_Yes</th>                           <td>   -0.0428</td> <td>    0.014</td> <td>   -2.983</td> <td> 0.003</td> <td>   -0.071</td> <td>   -0.015</td>\n",
       "</tr>\n",
       "<tr>\n",
       "  <th>less_10_yrs_and_hispanic_breakdown_More</th>                     <td>    0.0368</td> <td>    0.010</td> <td>    3.521</td> <td> 0.000</td> <td>    0.016</td> <td>    0.057</td>\n",
       "</tr>\n",
       "<tr>\n",
       "  <th>less_10_yrs_and_white_breakdown_More</th>                        <td>   -0.0038</td> <td>    0.016</td> <td>   -0.241</td> <td> 0.810</td> <td>   -0.035</td> <td>    0.027</td>\n",
       "</tr>\n",
       "<tr>\n",
       "  <th>less_10_yrs_and_african_american_breakdown_More</th>             <td>    0.0030</td> <td>    0.009</td> <td>    0.342</td> <td> 0.732</td> <td>   -0.014</td> <td>    0.020</td>\n",
       "</tr>\n",
       "<tr>\n",
       "  <th>yrs_11_64_and_white</th>                                         <td>   -0.0011</td> <td>    0.000</td> <td>   -5.786</td> <td> 0.000</td> <td>   -0.001</td> <td>   -0.001</td>\n",
       "</tr>\n",
       "<tr>\n",
       "  <th>yrs_11_64_and_disadvantaged_Yes</th>                             <td>    0.0192</td> <td>    0.006</td> <td>    3.054</td> <td> 0.002</td> <td>    0.007</td> <td>    0.032</td>\n",
       "</tr>\n",
       "<tr>\n",
       "  <th>yrs_11_64_and_white_breakdown_More</th>                          <td>   -0.0079</td> <td>    0.008</td> <td>   -1.017</td> <td> 0.309</td> <td>   -0.023</td> <td>    0.007</td>\n",
       "</tr>\n",
       "<tr>\n",
       "  <th>greater_65_and_white</th>                                        <td>   -0.0014</td> <td>    0.000</td> <td>   -6.212</td> <td> 0.000</td> <td>   -0.002</td> <td>   -0.001</td>\n",
       "</tr>\n",
       "<tr>\n",
       "  <th>greater_65_and_disadvantaged_Yes</th>                            <td>   -0.0114</td> <td>    0.009</td> <td>   -1.229</td> <td> 0.219</td> <td>   -0.029</td> <td>    0.007</td>\n",
       "</tr>\n",
       "<tr>\n",
       "  <th>greater_65_and_white_breakdown_More</th>                         <td>    0.0014</td> <td>    0.011</td> <td>    0.128</td> <td> 0.898</td> <td>   -0.020</td> <td>    0.023</td>\n",
       "</tr>\n",
       "<tr>\n",
       "  <th>hispanic_and_african_american</th>                               <td>    0.0004</td> <td>    0.000</td> <td>    2.360</td> <td> 0.018</td> <td> 5.94e-05</td> <td>    0.001</td>\n",
       "</tr>\n",
       "<tr>\n",
       "  <th>hispanic_and_prev_lbw</th>                                       <td>   -0.0015</td> <td>    0.001</td> <td>   -1.886</td> <td> 0.059</td> <td>   -0.003</td> <td> 5.74e-05</td>\n",
       "</tr>\n",
       "<tr>\n",
       "  <th>hispanic_and_disadvantaged_Yes</th>                              <td>   -0.0066</td> <td>    0.003</td> <td>   -1.979</td> <td> 0.048</td> <td>   -0.013</td> <td>-6.25e-05</td>\n",
       "</tr>\n",
       "<tr>\n",
       "  <th>hispanic_and_african_american_breakdown_More</th>                <td>   -0.0056</td> <td>    0.003</td> <td>   -1.895</td> <td> 0.058</td> <td>   -0.011</td> <td>    0.000</td>\n",
       "</tr>\n",
       "<tr>\n",
       "  <th>white_and_prev_pm2_5</th>                                        <td>    0.0015</td> <td>    0.001</td> <td>    1.476</td> <td> 0.140</td> <td>   -0.000</td> <td>    0.004</td>\n",
       "</tr>\n",
       "<tr>\n",
       "  <th>white_and_prev_lbw</th>                                          <td>    0.0160</td> <td>    0.003</td> <td>    4.742</td> <td> 0.000</td> <td>    0.009</td> <td>    0.023</td>\n",
       "</tr>\n",
       "<tr>\n",
       "  <th>white_and_smoking_prevalence</th>                                <td>    0.0001</td> <td>    0.000</td> <td>    0.466</td> <td> 0.642</td> <td>   -0.000</td> <td>    0.001</td>\n",
       "</tr>\n",
       "<tr>\n",
       "  <th>white_and_white_breakdown_More</th>                              <td>    0.0039</td> <td>    0.003</td> <td>    1.327</td> <td> 0.185</td> <td>   -0.002</td> <td>    0.010</td>\n",
       "</tr>\n",
       "<tr>\n",
       "  <th>african_american_and_prev_pm2_5</th>                             <td>   -0.0045</td> <td>    0.003</td> <td>   -1.570</td> <td> 0.116</td> <td>   -0.010</td> <td>    0.001</td>\n",
       "</tr>\n",
       "<tr>\n",
       "  <th>african_american_and_prev_drinking_water</th>                    <td> 9.878e-06</td> <td> 1.12e-05</td> <td>    0.879</td> <td> 0.379</td> <td>-1.22e-05</td> <td> 3.19e-05</td>\n",
       "</tr>\n",
       "<tr>\n",
       "  <th>african_american_and_prev_lbw</th>                               <td>    0.0124</td> <td>    0.004</td> <td>    3.281</td> <td> 0.001</td> <td>    0.005</td> <td>    0.020</td>\n",
       "</tr>\n",
       "<tr>\n",
       "  <th>african_american_and_smoking_prevalence</th>                     <td>   -0.0007</td> <td>    0.001</td> <td>   -0.495</td> <td> 0.620</td> <td>   -0.003</td> <td>    0.002</td>\n",
       "</tr>\n",
       "<tr>\n",
       "  <th>african_american_and_cc_los_angeles</th>                         <td>    0.0021</td> <td>    0.004</td> <td>    0.469</td> <td> 0.639</td> <td>   -0.007</td> <td>    0.011</td>\n",
       "</tr>\n",
       "<tr>\n",
       "  <th>african_american_and_disadvantaged_Yes</th>                      <td>   -0.0057</td> <td>    0.004</td> <td>   -1.365</td> <td> 0.172</td> <td>   -0.014</td> <td>    0.002</td>\n",
       "</tr>\n",
       "<tr>\n",
       "  <th>african_american_and_hispanic_breakdown_More</th>                <td>   -0.0069</td> <td>    0.006</td> <td>   -1.224</td> <td> 0.221</td> <td>   -0.018</td> <td>    0.004</td>\n",
       "</tr>\n",
       "<tr>\n",
       "  <th>african_american_and_african_american_breakdown_More</th>        <td>   -0.0552</td> <td>    0.025</td> <td>   -2.217</td> <td> 0.027</td> <td>   -0.104</td> <td>   -0.006</td>\n",
       "</tr>\n",
       "<tr>\n",
       "  <th>other_and_disadvantaged_Yes</th>                                 <td>   -0.0202</td> <td>    0.038</td> <td>   -0.526</td> <td> 0.599</td> <td>   -0.095</td> <td>    0.055</td>\n",
       "</tr>\n",
       "<tr>\n",
       "  <th>other_and_white_breakdown_More</th>                              <td>   -0.0401</td> <td>    0.019</td> <td>   -2.117</td> <td> 0.034</td> <td>   -0.077</td> <td>   -0.003</td>\n",
       "</tr>\n",
       "<tr>\n",
       "  <th>prev_pm2_5_and_prev_lbw</th>                                     <td>   -0.0182</td> <td>    0.012</td> <td>   -1.477</td> <td> 0.140</td> <td>   -0.042</td> <td>    0.006</td>\n",
       "</tr>\n",
       "<tr>\n",
       "  <th>prev_pm2_5_and_hispanic_breakdown_More</th>                      <td>    0.0504</td> <td>    0.031</td> <td>    1.650</td> <td> 0.099</td> <td>   -0.009</td> <td>    0.110</td>\n",
       "</tr>\n",
       "<tr>\n",
       "  <th>prev_pm2_5_and_white_breakdown_More</th>                         <td>   -0.0391</td> <td>    0.045</td> <td>   -0.864</td> <td> 0.388</td> <td>   -0.128</td> <td>    0.050</td>\n",
       "</tr>\n",
       "<tr>\n",
       "  <th>prev_pm2_5_and_african_american_breakdown_More</th>              <td>    0.0186</td> <td>    0.028</td> <td>    0.659</td> <td> 0.510</td> <td>   -0.037</td> <td>    0.074</td>\n",
       "</tr>\n",
       "<tr>\n",
       "  <th>prev_diesel_pm_and_disadvantaged_Yes</th>                        <td>    0.0004</td> <td>    0.002</td> <td>    0.179</td> <td> 0.858</td> <td>   -0.004</td> <td>    0.005</td>\n",
       "</tr>\n",
       "<tr>\n",
       "  <th>prev_lbw_and_disadvantaged_Yes</th>                              <td>   -0.0170</td> <td>    0.094</td> <td>   -0.182</td> <td> 0.856</td> <td>   -0.200</td> <td>    0.166</td>\n",
       "</tr>\n",
       "<tr>\n",
       "  <th>prev_lbw_and_hispanic_breakdown_More</th>                        <td>   -0.1114</td> <td>    0.042</td> <td>   -2.672</td> <td> 0.008</td> <td>   -0.193</td> <td>   -0.030</td>\n",
       "</tr>\n",
       "<tr>\n",
       "  <th>prev_lbw_and_white_breakdown_More</th>                           <td>   -0.0559</td> <td>    0.134</td> <td>   -0.416</td> <td> 0.677</td> <td>   -0.319</td> <td>    0.207</td>\n",
       "</tr>\n",
       "<tr>\n",
       "  <th>prev_lbw_and_african_american_breakdown_More</th>                <td>   -0.3195</td> <td>    0.077</td> <td>   -4.177</td> <td> 0.000</td> <td>   -0.469</td> <td>   -0.170</td>\n",
       "</tr>\n",
       "<tr>\n",
       "  <th>smoking_prevalence_and_disadvantaged_Yes</th>                    <td>   -0.0283</td> <td>    0.019</td> <td>   -1.491</td> <td> 0.136</td> <td>   -0.065</td> <td>    0.009</td>\n",
       "</tr>\n",
       "<tr>\n",
       "  <th>smoking_prevalence_and_white_breakdown_More</th>                 <td>   -0.0077</td> <td>    0.022</td> <td>   -0.345</td> <td> 0.730</td> <td>   -0.051</td> <td>    0.036</td>\n",
       "</tr>\n",
       "<tr>\n",
       "  <th>disadvantaged_Yes_and_hispanic_breakdown_More</th>               <td>    0.0114</td> <td>    0.128</td> <td>    0.090</td> <td> 0.929</td> <td>   -0.239</td> <td>    0.262</td>\n",
       "</tr>\n",
       "<tr>\n",
       "  <th>hispanic_breakdown_More_and_african_american_breakdown_More</th> <td>    0.0851</td> <td>    0.098</td> <td>    0.871</td> <td> 0.384</td> <td>   -0.106</td> <td>    0.277</td>\n",
       "</tr>\n",
       "</table>\n",
       "<table class=\"simpletable\">\n",
       "<tr>\n",
       "  <th>Omnibus:</th>       <td>490.657</td> <th>  Durbin-Watson:     </th> <td>   1.936</td> \n",
       "</tr>\n",
       "<tr>\n",
       "  <th>Prob(Omnibus):</th> <td> 0.000</td>  <th>  Jarque-Bera (JB):  </th> <td>1322.977</td> \n",
       "</tr>\n",
       "<tr>\n",
       "  <th>Skew:</th>          <td> 0.347</td>  <th>  Prob(JB):          </th> <td>5.24e-288</td>\n",
       "</tr>\n",
       "<tr>\n",
       "  <th>Kurtosis:</th>      <td> 4.893</td>  <th>  Cond. No.          </th> <td>1.20e+16</td> \n",
       "</tr>\n",
       "</table><br/><br/>Notes:<br/>[1] Standard Errors assume that the covariance matrix of the errors is correctly specified.<br/>[2] The smallest eigenvalue is 1.45e-19. This might indicate that there are<br/>strong multicollinearity problems or that the design matrix is singular."
      ],
      "text/plain": [
       "<class 'statsmodels.iolib.summary.Summary'>\n",
       "\"\"\"\n",
       "                            OLS Regression Results                            \n",
       "==============================================================================\n",
       "Dep. Variable:                    lbw   R-squared:                       0.613\n",
       "Model:                            OLS   Adj. R-squared:                  0.608\n",
       "Method:                 Least Squares   F-statistic:                     128.4\n",
       "Date:                Wed, 05 May 2021   Prob (F-statistic):               0.00\n",
       "Time:                        14:55:19   Log-Likelihood:                -10811.\n",
       "No. Observations:                7812   AIC:                         2.181e+04\n",
       "Df Residuals:                    7716   BIC:                         2.248e+04\n",
       "Df Model:                          95                                         \n",
       "Covariance Type:            nonrobust                                         \n",
       "===============================================================================================================================\n",
       "                                                                  coef    std err          t      P>|t|      [0.025      0.975]\n",
       "-------------------------------------------------------------------------------------------------------------------------------\n",
       "Intercept                                                      -6.2044      0.886     -7.006      0.000      -7.940      -4.468\n",
       "education                                                       0.0784      0.028      2.818      0.005       0.024       0.133\n",
       "unemployment                                                   -0.0327      0.035     -0.929      0.353      -0.102       0.036\n",
       "housing_burden                                                  0.0209      0.026      0.791      0.429      -0.031       0.073\n",
       "white                                                       -3.107e-05   6.09e-06     -5.103      0.000    -4.3e-05   -1.91e-05\n",
       "african_american                                                0.0206      0.037      0.562      0.574      -0.051       0.093\n",
       "prev_lbw                                                        2.5601      0.192     13.365      0.000       2.185       2.936\n",
       "disadvantaged_Yes                                              -0.0003      0.000     -1.489      0.136      -0.001       0.000\n",
       "white_breakdown_More                                           -0.0001      0.000     -0.390      0.697      -0.001       0.000\n",
       "african_american_breakdown_More                                 1.7621      0.432      4.081      0.000       0.916       2.609\n",
       "total_population_and_african_american                       -3.884e-06   7.19e-07     -5.402      0.000   -5.29e-06   -2.47e-06\n",
       "total_population_and_disadvantaged_Yes                       -3.95e-05   1.41e-05     -2.807      0.005   -6.71e-05   -1.19e-05\n",
       "total_population_and_white_breakdown_More                    8.582e-05    9.2e-06      9.327      0.000    6.78e-05       0.000\n",
       "ozone_and_education                                             0.3465      0.180      1.922      0.055      -0.007       0.700\n",
       "ozone_and_housing_burden                                        0.0135      0.200      0.067      0.946      -0.379       0.406\n",
       "ozone_and_white                                                 0.3325      0.136      2.446      0.014       0.066       0.599\n",
       "ozone_and_african_american                                      0.6908      0.300      2.299      0.022       0.102       1.280\n",
       "ozone_and_prev_lbw                                             -3.4215      1.703     -2.009      0.045      -6.761      -0.082\n",
       "ozone_and_disadvantaged_Yes                                     9.1145      4.405      2.069      0.039       0.479      17.750\n",
       "ozone_and_white_breakdown_More                                 -0.5293      5.980     -0.089      0.929     -12.252      11.193\n",
       "ozone_and_african_american_breakdown_More                      -5.5504      3.241     -1.712      0.087     -11.904       0.803\n",
       "pm2_5_and_education                                            -0.0009      0.001     -0.729      0.466      -0.003       0.002\n",
       "pm2_5_and_housing_burden                                       -0.0014      0.002     -0.870      0.385      -0.005       0.002\n",
       "pm2_5_and_white                                                -0.0019      0.001     -1.896      0.058      -0.004    6.58e-05\n",
       "pm2_5_and_african_american                                      0.0015      0.003      0.493      0.622      -0.004       0.007\n",
       "pm2_5_and_prev_lbw                                              0.0227      0.012      1.833      0.067      -0.002       0.047\n",
       "pm2_5_and_hispanic_breakdown_More                              -0.0282      0.031     -0.905      0.365      -0.089       0.033\n",
       "pm2_5_and_white_breakdown_More                                  0.0505      0.042      1.191      0.234      -0.033       0.134\n",
       "pm2_5_and_african_american_breakdown_More                       0.0041      0.028      0.147      0.883      -0.050       0.058\n",
       "diesel_pm_and_disadvantaged_Yes                                 0.0027      0.002      1.176      0.240      -0.002       0.007\n",
       "pollution_burden_score_and_education                            0.0004      0.001      0.375      0.707      -0.002       0.003\n",
       "pollution_burden_score_and_housing_burden                      -0.0027      0.002     -1.732      0.083      -0.006       0.000\n",
       "pollution_burden_score_and_white                                0.0005      0.001      0.588      0.557      -0.001       0.002\n",
       "pollution_burden_score_and_african_american                 -5.526e-05      0.002     -0.034      0.973      -0.003       0.003\n",
       "pollution_burden_score_and_prev_lbw                            -0.0081      0.010     -0.810      0.418      -0.028       0.012\n",
       "pollution_burden_score_and_white_breakdown_More                 0.0412      0.039      1.047      0.295      -0.036       0.118\n",
       "pollution_burden_score_and_african_american_breakdown_More      0.0077      0.023      0.331      0.740      -0.038       0.054\n",
       "education_and_unemployment                                      0.0002      0.000      0.648      0.517      -0.000       0.001\n",
       "education_and_housing_burden                                   -0.0003      0.000     -1.545      0.122      -0.001     8.7e-05\n",
       "education_and_yrs_11_64                                        -0.0010      0.000     -4.581      0.000      -0.001      -0.001\n",
       "education_and_prev_pm2_5                                        0.0005      0.001      0.351      0.726      -0.002       0.003\n",
       "education_and_prev_lbw                                         -0.0026      0.004     -0.670      0.503      -0.010       0.005\n",
       "education_and_smoking_prevalence                            -7.293e-05      0.000     -0.183      0.855      -0.001       0.001\n",
       "education_and_disadvantaged_Yes                                 0.0064      0.005      1.381      0.167      -0.003       0.015\n",
       "education_and_african_american_breakdown_More                   0.0041      0.004      1.168      0.243      -0.003       0.011\n",
       "linguistic_isolation_and_prev_lbw                              -0.0010      0.000     -2.280      0.023      -0.002      -0.000\n",
       "unemployment_and_less_10_yrs                                    0.0001      0.001      0.176      0.860      -0.001       0.002\n",
       "unemployment_and_hispanic                                      -0.0001      0.000     -0.537      0.591      -0.001       0.000\n",
       "unemployment_and_prev_lbw                                       0.0087      0.007      1.289      0.198      -0.005       0.022\n",
       "unemployment_and_hispanic_breakdown_More                       -0.0140      0.009     -1.545      0.122      -0.032       0.004\n",
       "housing_burden_and_less_10_yrs                                  0.0004      0.000      1.043      0.297      -0.000       0.001\n",
       "housing_burden_and_hispanic                                     0.0004      0.000      2.592      0.010    9.01e-05       0.001\n",
       "housing_burden_and_prev_pm2_5                                   0.0008      0.002      0.507      0.612      -0.002       0.004\n",
       "housing_burden_and_prev_lbw                                    -0.0037      0.005     -0.810      0.418      -0.013       0.005\n",
       "housing_burden_and_disadvantaged_Yes                            0.0019      0.006      0.351      0.726      -0.009       0.013\n",
       "housing_burden_and_white_breakdown_More                         0.0117      0.004      2.594      0.010       0.003       0.020\n",
       "less_10_yrs_and_white                                          -0.0006      0.000     -1.843      0.065      -0.001    3.89e-05\n",
       "less_10_yrs_and_prev_lbw                                       -0.0102      0.003     -3.186      0.001      -0.017      -0.004\n",
       "less_10_yrs_and_disadvantaged_Yes                              -0.0428      0.014     -2.983      0.003      -0.071      -0.015\n",
       "less_10_yrs_and_hispanic_breakdown_More                         0.0368      0.010      3.521      0.000       0.016       0.057\n",
       "less_10_yrs_and_white_breakdown_More                           -0.0038      0.016     -0.241      0.810      -0.035       0.027\n",
       "less_10_yrs_and_african_american_breakdown_More                 0.0030      0.009      0.342      0.732      -0.014       0.020\n",
       "yrs_11_64_and_white                                            -0.0011      0.000     -5.786      0.000      -0.001      -0.001\n",
       "yrs_11_64_and_disadvantaged_Yes                                 0.0192      0.006      3.054      0.002       0.007       0.032\n",
       "yrs_11_64_and_white_breakdown_More                             -0.0079      0.008     -1.017      0.309      -0.023       0.007\n",
       "greater_65_and_white                                           -0.0014      0.000     -6.212      0.000      -0.002      -0.001\n",
       "greater_65_and_disadvantaged_Yes                               -0.0114      0.009     -1.229      0.219      -0.029       0.007\n",
       "greater_65_and_white_breakdown_More                             0.0014      0.011      0.128      0.898      -0.020       0.023\n",
       "hispanic_and_african_american                                   0.0004      0.000      2.360      0.018    5.94e-05       0.001\n",
       "hispanic_and_prev_lbw                                          -0.0015      0.001     -1.886      0.059      -0.003    5.74e-05\n",
       "hispanic_and_disadvantaged_Yes                                 -0.0066      0.003     -1.979      0.048      -0.013   -6.25e-05\n",
       "hispanic_and_african_american_breakdown_More                   -0.0056      0.003     -1.895      0.058      -0.011       0.000\n",
       "white_and_prev_pm2_5                                            0.0015      0.001      1.476      0.140      -0.000       0.004\n",
       "white_and_prev_lbw                                              0.0160      0.003      4.742      0.000       0.009       0.023\n",
       "white_and_smoking_prevalence                                    0.0001      0.000      0.466      0.642      -0.000       0.001\n",
       "white_and_white_breakdown_More                                  0.0039      0.003      1.327      0.185      -0.002       0.010\n",
       "african_american_and_prev_pm2_5                                -0.0045      0.003     -1.570      0.116      -0.010       0.001\n",
       "african_american_and_prev_drinking_water                     9.878e-06   1.12e-05      0.879      0.379   -1.22e-05    3.19e-05\n",
       "african_american_and_prev_lbw                                   0.0124      0.004      3.281      0.001       0.005       0.020\n",
       "african_american_and_smoking_prevalence                        -0.0007      0.001     -0.495      0.620      -0.003       0.002\n",
       "african_american_and_cc_los_angeles                             0.0021      0.004      0.469      0.639      -0.007       0.011\n",
       "african_american_and_disadvantaged_Yes                         -0.0057      0.004     -1.365      0.172      -0.014       0.002\n",
       "african_american_and_hispanic_breakdown_More                   -0.0069      0.006     -1.224      0.221      -0.018       0.004\n",
       "african_american_and_african_american_breakdown_More           -0.0552      0.025     -2.217      0.027      -0.104      -0.006\n",
       "other_and_disadvantaged_Yes                                    -0.0202      0.038     -0.526      0.599      -0.095       0.055\n",
       "other_and_white_breakdown_More                                 -0.0401      0.019     -2.117      0.034      -0.077      -0.003\n",
       "prev_pm2_5_and_prev_lbw                                        -0.0182      0.012     -1.477      0.140      -0.042       0.006\n",
       "prev_pm2_5_and_hispanic_breakdown_More                          0.0504      0.031      1.650      0.099      -0.009       0.110\n",
       "prev_pm2_5_and_white_breakdown_More                            -0.0391      0.045     -0.864      0.388      -0.128       0.050\n",
       "prev_pm2_5_and_african_american_breakdown_More                  0.0186      0.028      0.659      0.510      -0.037       0.074\n",
       "prev_diesel_pm_and_disadvantaged_Yes                            0.0004      0.002      0.179      0.858      -0.004       0.005\n",
       "prev_lbw_and_disadvantaged_Yes                                 -0.0170      0.094     -0.182      0.856      -0.200       0.166\n",
       "prev_lbw_and_hispanic_breakdown_More                           -0.1114      0.042     -2.672      0.008      -0.193      -0.030\n",
       "prev_lbw_and_white_breakdown_More                              -0.0559      0.134     -0.416      0.677      -0.319       0.207\n",
       "prev_lbw_and_african_american_breakdown_More                   -0.3195      0.077     -4.177      0.000      -0.469      -0.170\n",
       "smoking_prevalence_and_disadvantaged_Yes                       -0.0283      0.019     -1.491      0.136      -0.065       0.009\n",
       "smoking_prevalence_and_white_breakdown_More                    -0.0077      0.022     -0.345      0.730      -0.051       0.036\n",
       "disadvantaged_Yes_and_hispanic_breakdown_More                   0.0114      0.128      0.090      0.929      -0.239       0.262\n",
       "hispanic_breakdown_More_and_african_american_breakdown_More     0.0851      0.098      0.871      0.384      -0.106       0.277\n",
       "==============================================================================\n",
       "Omnibus:                      490.657   Durbin-Watson:                   1.936\n",
       "Prob(Omnibus):                  0.000   Jarque-Bera (JB):             1322.977\n",
       "Skew:                           0.347   Prob(JB):                    5.24e-288\n",
       "Kurtosis:                       4.893   Cond. No.                     1.20e+16\n",
       "==============================================================================\n",
       "\n",
       "Notes:\n",
       "[1] Standard Errors assume that the covariance matrix of the errors is correctly specified.\n",
       "[2] The smallest eigenvalue is 1.45e-19. This might indicate that there are\n",
       "strong multicollinearity problems or that the design matrix is singular.\n",
       "\"\"\""
      ]
     },
     "execution_count": 79,
     "metadata": {},
     "output_type": "execute_result"
    }
   ],
   "source": [
    "#create ols model\n",
    "outcome = 'lbw'\n",
    "predictors = df18[selected_rfe]\n",
    "pred_sum = '+'.join(predictors.columns)\n",
    "formula = outcome + '~' + pred_sum\n",
    "\n",
    "model = sm.ols(formula=formula, data=df18).fit()\n",
    "model.summary()"
   ]
  },
  {
   "cell_type": "markdown",
   "metadata": {},
   "source": [
    "Looking at the summary shows that the significant features for preditions (those with a p-value less than 0.05) are mostly interactions that include population characteristics and enivornmental health hazards. However, population characteristics appear much more than environmental health hazard features in the significant features. Indicating that population characteristics might be more impactful for predicting LBW percentages by California census tract."
   ]
  },
  {
   "cell_type": "markdown",
   "metadata": {},
   "source": [
    "## Summary"
   ]
  },
  {
   "cell_type": "markdown",
   "metadata": {},
   "source": [
    "The RFE model is deemed the best model due to its lower RMSE score and higher R-Squared score. That makes it the best model for predicting LBW percentages for California census tracts based off of population characteristics and environmental health hazards. Future steps for modeling include creating a gradient boost tree or XGBoost model in order to see if a model with lower RMSE and higher R-Squared scores can be obtained."
   ]
  },
  {
   "cell_type": "markdown",
   "metadata": {},
   "source": [
    "## Next Steps"
   ]
  },
  {
   "cell_type": "markdown",
   "metadata": {},
   "source": [
    "Future steps to improve this project include:\n",
    "  - Adding in clustering\n",
    "  - Running gradient tree boosting and XGBoost models to see if better predictions are achieved\n",
    "  - Creating a causal inference model\n",
    "  - Designing a Streamlit app"
   ]
  },
  {
   "cell_type": "code",
   "execution_count": null,
   "metadata": {},
   "outputs": [],
   "source": []
  }
 ],
 "metadata": {
  "kernelspec": {
   "display_name": "learn-env",
   "language": "python",
   "name": "learn-env"
  },
  "language_info": {
   "codemirror_mode": {
    "name": "ipython",
    "version": 3
   },
   "file_extension": ".py",
   "mimetype": "text/x-python",
   "name": "python",
   "nbconvert_exporter": "python",
   "pygments_lexer": "ipython3",
   "version": "3.8.5"
  },
  "toc": {
   "base_numbering": 1,
   "nav_menu": {},
   "number_sections": true,
   "sideBar": true,
   "skip_h1_title": false,
   "title_cell": "Table of Contents",
   "title_sidebar": "Contents",
   "toc_cell": false,
   "toc_position": {
    "height": "calc(100% - 180px)",
    "left": "10px",
    "top": "150px",
    "width": "281.796875px"
   },
   "toc_section_display": true,
   "toc_window_display": true
  }
 },
 "nbformat": 4,
 "nbformat_minor": 4
}
