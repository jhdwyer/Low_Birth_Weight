{
 "cells": [
  {
   "cell_type": "code",
   "execution_count": 1,
   "metadata": {},
   "outputs": [],
   "source": [
    "import pandas as pd\n",
    "pd.set_option('display.max_columns', 100)\n",
    "import seaborn as sns\n",
    "import matplotlib.pyplot as plt\n",
    "%matplotlib inline\n",
    "import numpy as np\n",
    "import lux\n",
    "from scipy import stats"
   ]
  },
  {
   "cell_type": "code",
   "execution_count": 2,
   "metadata": {},
   "outputs": [],
   "source": [
    "df3 = pd.read_csv('data/df3', index_col = 'Census Tract')"
   ]
  },
  {
   "cell_type": "code",
   "execution_count": 3,
   "metadata": {},
   "outputs": [],
   "source": [
    "dp = pd.read_csv('data/ces3results/demographic_profile_3.csv',  index_col = 'Census Tract ')"
   ]
  },
  {
   "cell_type": "code",
   "execution_count": 4,
   "metadata": {
    "scrolled": true
   },
   "outputs": [
    {
     "name": "stderr",
     "output_type": "stream",
     "text": [
      "/Users/jaclynhenn/opt/anaconda3/envs/learn-env/lib/python3.8/site-packages/IPython/core/formatters.py:345: UserWarning:\n",
      "Lux defaults to Pandas when there are no valid actions defined.\n"
     ]
    },
    {
     "data": {
      "text/html": [
       "<div>\n",
       "<style scoped>\n",
       "    .dataframe tbody tr th:only-of-type {\n",
       "        vertical-align: middle;\n",
       "    }\n",
       "\n",
       "    .dataframe tbody tr th {\n",
       "        vertical-align: top;\n",
       "    }\n",
       "\n",
       "    .dataframe thead th {\n",
       "        text-align: right;\n",
       "    }\n",
       "</style>\n",
       "<table border=\"1\" class=\"dataframe\">\n",
       "  <thead>\n",
       "    <tr style=\"text-align: right;\">\n",
       "      <th></th>\n",
       "      <th>CES 3.0 Score</th>\n",
       "      <th>CES 3.0 Percentile</th>\n",
       "      <th>CES 3.0 \\nPercentile Range</th>\n",
       "      <th>Total Population</th>\n",
       "      <th>County</th>\n",
       "      <th>Children &lt; 10 (%)</th>\n",
       "      <th>Pop 11-64 years (%)</th>\n",
       "      <th>Elderly &gt; 65 (%)</th>\n",
       "      <th>Hispanic (%)</th>\n",
       "      <th>White (%)</th>\n",
       "      <th>African American (%)</th>\n",
       "      <th>Native American (%)</th>\n",
       "      <th>Asian American (%)</th>\n",
       "      <th>Other (%)</th>\n",
       "    </tr>\n",
       "    <tr>\n",
       "      <th>Census Tract</th>\n",
       "      <th></th>\n",
       "      <th></th>\n",
       "      <th></th>\n",
       "      <th></th>\n",
       "      <th></th>\n",
       "      <th></th>\n",
       "      <th></th>\n",
       "      <th></th>\n",
       "      <th></th>\n",
       "      <th></th>\n",
       "      <th></th>\n",
       "      <th></th>\n",
       "      <th></th>\n",
       "      <th></th>\n",
       "    </tr>\n",
       "  </thead>\n",
       "  <tbody>\n",
       "    <tr>\n",
       "      <th>6019001100</th>\n",
       "      <td>94.09</td>\n",
       "      <td>100.00</td>\n",
       "      <td>95-100% (highest scores)</td>\n",
       "      <td>3174</td>\n",
       "      <td>Fresno</td>\n",
       "      <td>18.8</td>\n",
       "      <td>73.6</td>\n",
       "      <td>7.6</td>\n",
       "      <td>65.3</td>\n",
       "      <td>4.2</td>\n",
       "      <td>24.6</td>\n",
       "      <td>0.5</td>\n",
       "      <td>3.5</td>\n",
       "      <td>1.8</td>\n",
       "    </tr>\n",
       "    <tr>\n",
       "      <th>6071001600</th>\n",
       "      <td>90.68</td>\n",
       "      <td>99.99</td>\n",
       "      <td>95-100% (highest scores)</td>\n",
       "      <td>6133</td>\n",
       "      <td>San Bernardino</td>\n",
       "      <td>19.7</td>\n",
       "      <td>76.1</td>\n",
       "      <td>4.2</td>\n",
       "      <td>91.1</td>\n",
       "      <td>5.8</td>\n",
       "      <td>0.7</td>\n",
       "      <td>0.3</td>\n",
       "      <td>1.4</td>\n",
       "      <td>0.7</td>\n",
       "    </tr>\n",
       "    <tr>\n",
       "      <th>6019000200</th>\n",
       "      <td>85.97</td>\n",
       "      <td>99.97</td>\n",
       "      <td>95-100% (highest scores)</td>\n",
       "      <td>3167</td>\n",
       "      <td>Fresno</td>\n",
       "      <td>21.5</td>\n",
       "      <td>72.5</td>\n",
       "      <td>6.0</td>\n",
       "      <td>63.6</td>\n",
       "      <td>5.3</td>\n",
       "      <td>18.9</td>\n",
       "      <td>0.6</td>\n",
       "      <td>9.8</td>\n",
       "      <td>1.8</td>\n",
       "    </tr>\n",
       "    <tr>\n",
       "      <th>6077000801</th>\n",
       "      <td>82.49</td>\n",
       "      <td>99.96</td>\n",
       "      <td>95-100% (highest scores)</td>\n",
       "      <td>6692</td>\n",
       "      <td>San Joaquin</td>\n",
       "      <td>18.7</td>\n",
       "      <td>74.5</td>\n",
       "      <td>6.8</td>\n",
       "      <td>57.4</td>\n",
       "      <td>6.0</td>\n",
       "      <td>12.5</td>\n",
       "      <td>0.3</td>\n",
       "      <td>20.9</td>\n",
       "      <td>2.8</td>\n",
       "    </tr>\n",
       "    <tr>\n",
       "      <th>6019001500</th>\n",
       "      <td>82.03</td>\n",
       "      <td>99.95</td>\n",
       "      <td>95-100% (highest scores)</td>\n",
       "      <td>2206</td>\n",
       "      <td>Fresno</td>\n",
       "      <td>14.8</td>\n",
       "      <td>72.1</td>\n",
       "      <td>13.1</td>\n",
       "      <td>71.8</td>\n",
       "      <td>21.4</td>\n",
       "      <td>1.2</td>\n",
       "      <td>0.5</td>\n",
       "      <td>4.5</td>\n",
       "      <td>0.6</td>\n",
       "    </tr>\n",
       "  </tbody>\n",
       "</table>\n",
       "</div>"
      ],
      "text/plain": [
       "                CES 3.0 Score  CES 3.0 Percentile  CES 3.0 \\nPercentile Range  \\\n",
       "Census Tract                                                                    \n",
       "6019001100              94.09              100.00    95-100% (highest scores)   \n",
       "6071001600              90.68               99.99    95-100% (highest scores)   \n",
       "6019000200              85.97               99.97    95-100% (highest scores)   \n",
       "6077000801              82.49               99.96    95-100% (highest scores)   \n",
       "6019001500              82.03               99.95    95-100% (highest scores)   \n",
       "\n",
       "               Total Population          County  Children < 10 (%)  \\\n",
       "Census Tract                                                         \n",
       "6019001100                 3174         Fresno                18.8   \n",
       "6071001600                 6133  San Bernardino               19.7   \n",
       "6019000200                 3167         Fresno                21.5   \n",
       "6077000801                 6692     San Joaquin               18.7   \n",
       "6019001500                 2206         Fresno                14.8   \n",
       "\n",
       "               Pop 11-64 years (%)  Elderly > 65 (%)  Hispanic (%)  White (%)  \\\n",
       "Census Tract                                                                    \n",
       "6019001100                    73.6               7.6          65.3        4.2   \n",
       "6071001600                    76.1               4.2          91.1        5.8   \n",
       "6019000200                    72.5               6.0          63.6        5.3   \n",
       "6077000801                    74.5               6.8          57.4        6.0   \n",
       "6019001500                    72.1              13.1          71.8       21.4   \n",
       "\n",
       "               African American (%)  Native American (%)  Asian American (%)  \\\n",
       "Census Tract                                                                   \n",
       "6019001100                     24.6                  0.5                 3.5   \n",
       "6071001600                      0.7                  0.3                 1.4   \n",
       "6019000200                     18.9                  0.6                 9.8   \n",
       "6077000801                     12.5                  0.3                20.9   \n",
       "6019001500                      1.2                  0.5                 4.5   \n",
       "\n",
       "               Other (%)  \n",
       "Census Tract              \n",
       "6019001100           1.8  \n",
       "6071001600           0.7  \n",
       "6019000200           1.8  \n",
       "6077000801           2.8  \n",
       "6019001500           0.6  "
      ]
     },
     "metadata": {},
     "output_type": "display_data"
    },
    {
     "data": {
      "text/plain": []
     },
     "execution_count": 4,
     "metadata": {},
     "output_type": "execute_result"
    }
   ],
   "source": [
    "dp.head()"
   ]
  },
  {
   "cell_type": "code",
   "execution_count": 5,
   "metadata": {
    "scrolled": false
   },
   "outputs": [
    {
     "data": {
      "application/vnd.jupyter.widget-view+json": {
       "model_id": "93b5030605814405a7a9775fb83b6115",
       "version_major": 2,
       "version_minor": 0
      },
      "text/plain": [
       "Button(description='Toggle Pandas/Lux', layout=Layout(top='5px', width='140px'), style=ButtonStyle())"
      ]
     },
     "metadata": {},
     "output_type": "display_data"
    },
    {
     "data": {
      "application/vnd.jupyter.widget-view+json": {
       "model_id": "f25a39d3d8804faabd2bbca3b0e6c775",
       "version_major": 2,
       "version_minor": 0
      },
      "text/plain": [
       "Output()"
      ]
     },
     "metadata": {},
     "output_type": "display_data"
    },
    {
     "data": {
      "text/plain": []
     },
     "execution_count": 5,
     "metadata": {},
     "output_type": "execute_result"
    }
   ],
   "source": [
    "dp[dp['Total Population'] == 0]"
   ]
  },
  {
   "cell_type": "code",
   "execution_count": 6,
   "metadata": {},
   "outputs": [],
   "source": [
    "dp.drop([6037320000, 6037980001, 6037980002, 6037980005, 6037980006, 6037980007, 6037980020, 6037980025, \n",
    "        6037980030, 6071980100, 6081984300], inplace = True)"
   ]
  },
  {
   "cell_type": "code",
   "execution_count": 7,
   "metadata": {},
   "outputs": [],
   "source": [
    "dp.drop(columns = [' CES 3.0 Score', 'CES 3.0 Percentile', ' CES 3.0 \\nPercentile Range', \n",
    "                  'Total Population', 'County'], axis = 1, inplace = True)"
   ]
  },
  {
   "cell_type": "code",
   "execution_count": 8,
   "metadata": {},
   "outputs": [
    {
     "name": "stdout",
     "output_type": "stream",
     "text": [
      "<class 'lux.core.frame.LuxDataFrame'>\n",
      "Int64Index: 8024 entries, 6019001100 to 6111980000\n",
      "Data columns (total 9 columns):\n",
      " #   Column                Non-Null Count  Dtype  \n",
      "---  ------                --------------  -----  \n",
      " 0   Children < 10 (%)     8024 non-null   float64\n",
      " 1   Pop 11-64 years (%)   8024 non-null   float64\n",
      " 2   Elderly > 65 (%)      8024 non-null   float64\n",
      " 3   Hispanic (%)          8024 non-null   float64\n",
      " 4   White (%)             8024 non-null   float64\n",
      " 5   African American (%)  8024 non-null   float64\n",
      " 6   Native American (%)   8024 non-null   float64\n",
      " 7   Asian American (%)    8024 non-null   float64\n",
      " 8   Other (%)             8024 non-null   float64\n",
      "dtypes: float64(9)\n",
      "memory usage: 626.9 KB\n"
     ]
    }
   ],
   "source": [
    "dp.info()"
   ]
  },
  {
   "cell_type": "code",
   "execution_count": 9,
   "metadata": {},
   "outputs": [
    {
     "name": "stdout",
     "output_type": "stream",
     "text": [
      "Children < 10 (%)       0\n",
      "Pop 11-64 years (%)     0\n",
      "Elderly > 65 (%)        0\n",
      "Hispanic (%)            0\n",
      "White (%)               0\n",
      "African American (%)    0\n",
      "Native American (%)     0\n",
      "Asian American (%)      0\n",
      "Other (%)               0\n",
      "dtype: int64\n"
     ]
    },
    {
     "name": "stderr",
     "output_type": "stream",
     "text": [
      "/Users/jaclynhenn/opt/anaconda3/envs/learn-env/lib/python3.8/site-packages/IPython/lib/pretty.py:700: UserWarning:\n",
      "Lux defaults to Pandas when there are no valid actions defined.\n"
     ]
    },
    {
     "data": {
      "text/plain": []
     },
     "execution_count": 9,
     "metadata": {},
     "output_type": "execute_result"
    }
   ],
   "source": [
    "dp.isna().sum()"
   ]
  },
  {
   "cell_type": "code",
   "execution_count": 10,
   "metadata": {},
   "outputs": [],
   "source": [
    "dp.rename(columns = {'Census Tract ': 'Census Tract', 'Children < 10 (%)' : 'less_10_yrs', 'Pop 11-64 years (%)' : '11_64_yrs', \n",
    "                    'Elderly > 65 (%)': 'greater_65', 'Hispanic (%)': 'hispanic', \n",
    "                    'White (%)': 'white', 'African American (%)': 'african_american', \n",
    "                    'Native American (%)': 'native_american', 'Asian American (%)': 'asian_american', \n",
    "                    'Other (%)': 'other'}, inplace = True)"
   ]
  },
  {
   "cell_type": "code",
   "execution_count": 11,
   "metadata": {},
   "outputs": [
    {
     "data": {
      "text/html": [
       "<div>\n",
       "<style scoped>\n",
       "    .dataframe tbody tr th:only-of-type {\n",
       "        vertical-align: middle;\n",
       "    }\n",
       "\n",
       "    .dataframe tbody tr th {\n",
       "        vertical-align: top;\n",
       "    }\n",
       "\n",
       "    .dataframe thead th {\n",
       "        text-align: right;\n",
       "    }\n",
       "</style>\n",
       "<table border=\"1\" class=\"dataframe\">\n",
       "  <thead>\n",
       "    <tr style=\"text-align: right;\">\n",
       "      <th></th>\n",
       "      <th>less_10_yrs</th>\n",
       "      <th>11_64_yrs</th>\n",
       "      <th>greater_65</th>\n",
       "      <th>hispanic</th>\n",
       "      <th>white</th>\n",
       "      <th>african_american</th>\n",
       "      <th>native_american</th>\n",
       "      <th>asian_american</th>\n",
       "      <th>other</th>\n",
       "    </tr>\n",
       "    <tr>\n",
       "      <th>Census Tract</th>\n",
       "      <th></th>\n",
       "      <th></th>\n",
       "      <th></th>\n",
       "      <th></th>\n",
       "      <th></th>\n",
       "      <th></th>\n",
       "      <th></th>\n",
       "      <th></th>\n",
       "      <th></th>\n",
       "    </tr>\n",
       "  </thead>\n",
       "  <tbody>\n",
       "    <tr>\n",
       "      <th>6019001100</th>\n",
       "      <td>18.8</td>\n",
       "      <td>73.6</td>\n",
       "      <td>7.6</td>\n",
       "      <td>65.3</td>\n",
       "      <td>4.2</td>\n",
       "      <td>24.6</td>\n",
       "      <td>0.5</td>\n",
       "      <td>3.5</td>\n",
       "      <td>1.8</td>\n",
       "    </tr>\n",
       "    <tr>\n",
       "      <th>6071001600</th>\n",
       "      <td>19.7</td>\n",
       "      <td>76.1</td>\n",
       "      <td>4.2</td>\n",
       "      <td>91.1</td>\n",
       "      <td>5.8</td>\n",
       "      <td>0.7</td>\n",
       "      <td>0.3</td>\n",
       "      <td>1.4</td>\n",
       "      <td>0.7</td>\n",
       "    </tr>\n",
       "  </tbody>\n",
       "</table>\n",
       "</div>"
      ],
      "text/plain": [
       "               less_10_yrs  11_64_yrs  greater_65  hispanic  white  \\\n",
       "Census Tract                                                         \n",
       "6019001100            18.8       73.6         7.6      65.3    4.2   \n",
       "6071001600            19.7       76.1         4.2      91.1    5.8   \n",
       "\n",
       "               african_american  native_american  asian_american  other  \n",
       "Census Tract                                                             \n",
       "6019001100                 24.6              0.5             3.5    1.8  \n",
       "6071001600                  0.7              0.3             1.4    0.7  "
      ]
     },
     "metadata": {},
     "output_type": "display_data"
    },
    {
     "data": {
      "text/plain": []
     },
     "execution_count": 11,
     "metadata": {},
     "output_type": "execute_result"
    }
   ],
   "source": [
    "dp.head(2)"
   ]
  },
  {
   "cell_type": "code",
   "execution_count": 13,
   "metadata": {},
   "outputs": [
    {
     "data": {
      "text/plain": [
       "(8024, 38)"
      ]
     },
     "execution_count": 13,
     "metadata": {},
     "output_type": "execute_result"
    }
   ],
   "source": [
    "df3.shape"
   ]
  },
  {
   "cell_type": "code",
   "execution_count": 14,
   "metadata": {},
   "outputs": [
    {
     "data": {
      "text/plain": [
       "(8024, 9)"
      ]
     },
     "execution_count": 14,
     "metadata": {},
     "output_type": "execute_result"
    }
   ],
   "source": [
    "dp.shape"
   ]
  },
  {
   "cell_type": "code",
   "execution_count": 17,
   "metadata": {},
   "outputs": [],
   "source": [
    "ces3 = pd.merge(df3, dp, left_index = True, right_index = True)"
   ]
  },
  {
   "cell_type": "code",
   "execution_count": 18,
   "metadata": {},
   "outputs": [
    {
     "name": "stderr",
     "output_type": "stream",
     "text": [
      "/Users/jaclynhenn/opt/anaconda3/envs/learn-env/lib/python3.8/site-packages/IPython/core/formatters.py:345: UserWarning:\n",
      "Lux defaults to Pandas when there are no valid actions defined.\n"
     ]
    },
    {
     "data": {
      "text/html": [
       "<div>\n",
       "<style scoped>\n",
       "    .dataframe tbody tr th:only-of-type {\n",
       "        vertical-align: middle;\n",
       "    }\n",
       "\n",
       "    .dataframe tbody tr th {\n",
       "        vertical-align: top;\n",
       "    }\n",
       "\n",
       "    .dataframe thead th {\n",
       "        text-align: right;\n",
       "    }\n",
       "</style>\n",
       "<table border=\"1\" class=\"dataframe\">\n",
       "  <thead>\n",
       "    <tr style=\"text-align: right;\">\n",
       "      <th></th>\n",
       "      <th>Total Population</th>\n",
       "      <th>SB 535 Disadvantaged Community</th>\n",
       "      <th>Ozone</th>\n",
       "      <th>PM2.5</th>\n",
       "      <th>Diesel PM</th>\n",
       "      <th>Drinking Water</th>\n",
       "      <th>Pesticides</th>\n",
       "      <th>Tox. Release</th>\n",
       "      <th>Traffic</th>\n",
       "      <th>Cleanup Sites</th>\n",
       "      <th>Groundwater Threats</th>\n",
       "      <th>Haz. Waste</th>\n",
       "      <th>Imp. Water Bodies</th>\n",
       "      <th>Solid Waste</th>\n",
       "      <th>Pollution Burden Score</th>\n",
       "      <th>Low Birth Weight</th>\n",
       "      <th>Education</th>\n",
       "      <th>Linguistic Isolation</th>\n",
       "      <th>Unemployment</th>\n",
       "      <th>Housing Burden</th>\n",
       "      <th>Pop. Char. Score</th>\n",
       "      <th>disadvantaged_Yes</th>\n",
       "      <th>pm_halves</th>\n",
       "      <th>diesel_levels</th>\n",
       "      <th>pbs</th>\n",
       "      <th>pm_halves_pm_upper</th>\n",
       "      <th>diesel_levels_diesel_2</th>\n",
       "      <th>diesel_levels_diesel_3</th>\n",
       "      <th>diesel_levels_diesel_4</th>\n",
       "      <th>pbs_2</th>\n",
       "      <th>pbs_3</th>\n",
       "      <th>pbs_4</th>\n",
       "      <th>pbs_5</th>\n",
       "      <th>pbs_6</th>\n",
       "      <th>pbs_7</th>\n",
       "      <th>pbs_8</th>\n",
       "      <th>pbs_9</th>\n",
       "      <th>pbs_10</th>\n",
       "      <th>less_10_yrs</th>\n",
       "      <th>11_64_yrs</th>\n",
       "      <th>greater_65</th>\n",
       "      <th>hispanic</th>\n",
       "      <th>white</th>\n",
       "      <th>african_american</th>\n",
       "      <th>native_american</th>\n",
       "      <th>asian_american</th>\n",
       "      <th>other</th>\n",
       "    </tr>\n",
       "  </thead>\n",
       "  <tbody>\n",
       "    <tr>\n",
       "      <th>6019001100</th>\n",
       "      <td>3174</td>\n",
       "      <td>Yes</td>\n",
       "      <td>0.065</td>\n",
       "      <td>15.40</td>\n",
       "      <td>48.524</td>\n",
       "      <td>681.20</td>\n",
       "      <td>2.75</td>\n",
       "      <td>18551.957190</td>\n",
       "      <td>909.14</td>\n",
       "      <td>80.5</td>\n",
       "      <td>45.75</td>\n",
       "      <td>0.795</td>\n",
       "      <td>0</td>\n",
       "      <td>21.75</td>\n",
       "      <td>9.85</td>\n",
       "      <td>7.44</td>\n",
       "      <td>53.3</td>\n",
       "      <td>16.2</td>\n",
       "      <td>17.6</td>\n",
       "      <td>26.0</td>\n",
       "      <td>9.55</td>\n",
       "      <td>1</td>\n",
       "      <td>pm_upper</td>\n",
       "      <td>diesel_4</td>\n",
       "      <td>9</td>\n",
       "      <td>1</td>\n",
       "      <td>0</td>\n",
       "      <td>0</td>\n",
       "      <td>1</td>\n",
       "      <td>0</td>\n",
       "      <td>0</td>\n",
       "      <td>0</td>\n",
       "      <td>0</td>\n",
       "      <td>0</td>\n",
       "      <td>0</td>\n",
       "      <td>0</td>\n",
       "      <td>1</td>\n",
       "      <td>0</td>\n",
       "      <td>18.8</td>\n",
       "      <td>73.6</td>\n",
       "      <td>7.6</td>\n",
       "      <td>65.3</td>\n",
       "      <td>4.2</td>\n",
       "      <td>24.6</td>\n",
       "      <td>0.5</td>\n",
       "      <td>3.5</td>\n",
       "      <td>1.8</td>\n",
       "    </tr>\n",
       "    <tr>\n",
       "      <th>6071001600</th>\n",
       "      <td>6133</td>\n",
       "      <td>Yes</td>\n",
       "      <td>0.062</td>\n",
       "      <td>13.31</td>\n",
       "      <td>38.556</td>\n",
       "      <td>904.66</td>\n",
       "      <td>1.37</td>\n",
       "      <td>7494.236622</td>\n",
       "      <td>782.26</td>\n",
       "      <td>66.2</td>\n",
       "      <td>36.00</td>\n",
       "      <td>1.250</td>\n",
       "      <td>5</td>\n",
       "      <td>12.00</td>\n",
       "      <td>10.00</td>\n",
       "      <td>7.04</td>\n",
       "      <td>53.3</td>\n",
       "      <td>33.4</td>\n",
       "      <td>12.3</td>\n",
       "      <td>34.1</td>\n",
       "      <td>9.07</td>\n",
       "      <td>1</td>\n",
       "      <td>pm_upper</td>\n",
       "      <td>diesel_4</td>\n",
       "      <td>10</td>\n",
       "      <td>1</td>\n",
       "      <td>0</td>\n",
       "      <td>0</td>\n",
       "      <td>1</td>\n",
       "      <td>0</td>\n",
       "      <td>0</td>\n",
       "      <td>0</td>\n",
       "      <td>0</td>\n",
       "      <td>0</td>\n",
       "      <td>0</td>\n",
       "      <td>0</td>\n",
       "      <td>0</td>\n",
       "      <td>1</td>\n",
       "      <td>19.7</td>\n",
       "      <td>76.1</td>\n",
       "      <td>4.2</td>\n",
       "      <td>91.1</td>\n",
       "      <td>5.8</td>\n",
       "      <td>0.7</td>\n",
       "      <td>0.3</td>\n",
       "      <td>1.4</td>\n",
       "      <td>0.7</td>\n",
       "    </tr>\n",
       "  </tbody>\n",
       "</table>\n",
       "</div>"
      ],
      "text/plain": [
       "            Total Population SB 535 Disadvantaged Community  Ozone  PM2.5  \\\n",
       "6019001100              3174                            Yes  0.065  15.40   \n",
       "6071001600              6133                            Yes  0.062  13.31   \n",
       "\n",
       "            Diesel PM  Drinking Water  Pesticides  Tox. Release  Traffic  \\\n",
       "6019001100     48.524          681.20        2.75  18551.957190   909.14   \n",
       "6071001600     38.556          904.66        1.37   7494.236622   782.26   \n",
       "\n",
       "            Cleanup Sites  Groundwater Threats  Haz. Waste  Imp. Water Bodies  \\\n",
       "6019001100           80.5                45.75       0.795                  0   \n",
       "6071001600           66.2                36.00       1.250                  5   \n",
       "\n",
       "            Solid Waste  Pollution Burden Score  Low Birth Weight  Education  \\\n",
       "6019001100        21.75                    9.85              7.44       53.3   \n",
       "6071001600        12.00                   10.00              7.04       53.3   \n",
       "\n",
       "            Linguistic Isolation  Unemployment  Housing Burden  \\\n",
       "6019001100                  16.2          17.6            26.0   \n",
       "6071001600                  33.4          12.3            34.1   \n",
       "\n",
       "            Pop. Char. Score  disadvantaged_Yes pm_halves diesel_levels  pbs  \\\n",
       "6019001100              9.55                  1  pm_upper      diesel_4    9   \n",
       "6071001600              9.07                  1  pm_upper      diesel_4   10   \n",
       "\n",
       "            pm_halves_pm_upper  diesel_levels_diesel_2  \\\n",
       "6019001100                   1                       0   \n",
       "6071001600                   1                       0   \n",
       "\n",
       "            diesel_levels_diesel_3  diesel_levels_diesel_4  pbs_2  pbs_3  \\\n",
       "6019001100                       0                       1      0      0   \n",
       "6071001600                       0                       1      0      0   \n",
       "\n",
       "            pbs_4  pbs_5  pbs_6  pbs_7  pbs_8  pbs_9  pbs_10  less_10_yrs  \\\n",
       "6019001100      0      0      0      0      0      1       0         18.8   \n",
       "6071001600      0      0      0      0      0      0       1         19.7   \n",
       "\n",
       "            11_64_yrs  greater_65  hispanic  white  african_american  \\\n",
       "6019001100       73.6         7.6      65.3    4.2              24.6   \n",
       "6071001600       76.1         4.2      91.1    5.8               0.7   \n",
       "\n",
       "            native_american  asian_american  other  \n",
       "6019001100              0.5             3.5    1.8  \n",
       "6071001600              0.3             1.4    0.7  "
      ]
     },
     "metadata": {},
     "output_type": "display_data"
    },
    {
     "data": {
      "text/plain": []
     },
     "execution_count": 18,
     "metadata": {},
     "output_type": "execute_result"
    }
   ],
   "source": [
    "ces3.head(2)"
   ]
  },
  {
   "cell_type": "code",
   "execution_count": 21,
   "metadata": {},
   "outputs": [],
   "source": [
    "ces3.to_csv('data/ces3')"
   ]
  },
  {
   "cell_type": "code",
   "execution_count": null,
   "metadata": {},
   "outputs": [],
   "source": []
  }
 ],
 "metadata": {
  "kernelspec": {
   "display_name": "learn-env",
   "language": "python",
   "name": "learn-env"
  },
  "language_info": {
   "codemirror_mode": {
    "name": "ipython",
    "version": 3
   },
   "file_extension": ".py",
   "mimetype": "text/x-python",
   "name": "python",
   "nbconvert_exporter": "python",
   "pygments_lexer": "ipython3",
   "version": "3.8.5"
  }
 },
 "nbformat": 4,
 "nbformat_minor": 4
}
