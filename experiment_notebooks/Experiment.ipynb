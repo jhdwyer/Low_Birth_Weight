{
 "cells": [
  {
   "cell_type": "code",
   "execution_count": 48,
   "metadata": {},
   "outputs": [],
   "source": [
    "import pandas as pd\n",
    "pd.set_option('display.max_columns', 100)\n",
    "import seaborn as sns\n",
    "import matplotlib.pyplot as plt\n",
    "%matplotlib inline\n",
    "import numpy as np\n",
    "import lux\n",
    "import plotly.express as px\n",
    "from scipy import stats"
   ]
  },
  {
   "cell_type": "code",
   "execution_count": 2,
   "metadata": {},
   "outputs": [],
   "source": [
    "df3 = pd.read_csv('data/ces3results/CES_3.csv', index_col = 'Census Tract')"
   ]
  },
  {
   "cell_type": "code",
   "execution_count": 3,
   "metadata": {},
   "outputs": [
    {
     "name": "stderr",
     "output_type": "stream",
     "text": [
      "/Users/jaclynhenn/opt/anaconda3/envs/learn-env/lib/python3.8/site-packages/IPython/core/formatters.py:345: UserWarning:\n",
      "Lux defaults to Pandas when there are no valid actions defined.\n"
     ]
    },
    {
     "data": {
      "text/html": [
       "<div>\n",
       "<style scoped>\n",
       "    .dataframe tbody tr th:only-of-type {\n",
       "        vertical-align: middle;\n",
       "    }\n",
       "\n",
       "    .dataframe tbody tr th {\n",
       "        vertical-align: top;\n",
       "    }\n",
       "\n",
       "    .dataframe thead th {\n",
       "        text-align: right;\n",
       "    }\n",
       "</style>\n",
       "<table border=\"1\" class=\"dataframe\">\n",
       "  <thead>\n",
       "    <tr style=\"text-align: right;\">\n",
       "      <th></th>\n",
       "      <th>Total Population</th>\n",
       "      <th>California County</th>\n",
       "      <th>ZIP</th>\n",
       "      <th>Nearby City \\n(to help approximate location only)</th>\n",
       "      <th>Longitude</th>\n",
       "      <th>Latitude</th>\n",
       "      <th>CES 3.0 Score</th>\n",
       "      <th>CES 3.0 Percentile</th>\n",
       "      <th>CES 3.0 \\nPercentile Range</th>\n",
       "      <th>SB 535 Disadvantaged Community</th>\n",
       "      <th>Ozone</th>\n",
       "      <th>Ozone Pctl</th>\n",
       "      <th>PM2.5</th>\n",
       "      <th>PM2.5 Pctl</th>\n",
       "      <th>Diesel PM</th>\n",
       "      <th>Diesel PM Pctl</th>\n",
       "      <th>Drinking Water</th>\n",
       "      <th>Drinking Water Pctl</th>\n",
       "      <th>Pesticides</th>\n",
       "      <th>Pesticides Pctl</th>\n",
       "      <th>Tox. Release</th>\n",
       "      <th>Tox. Release Pctl</th>\n",
       "      <th>Traffic</th>\n",
       "      <th>Traffic Pctl</th>\n",
       "      <th>Cleanup Sites</th>\n",
       "      <th>Cleanup Sites Pctl</th>\n",
       "      <th>Groundwater Threats</th>\n",
       "      <th>Groundwater Threats Pctl</th>\n",
       "      <th>Haz. Waste</th>\n",
       "      <th>Haz. Waste Pctl</th>\n",
       "      <th>Imp. Water Bodies</th>\n",
       "      <th>Imp. Water Bodies Pctl</th>\n",
       "      <th>Solid Waste</th>\n",
       "      <th>Solid Waste Pctl</th>\n",
       "      <th>Pollution Burden</th>\n",
       "      <th>Pollution Burden Score</th>\n",
       "      <th>Pollution Burden Pctl</th>\n",
       "      <th>Asthma</th>\n",
       "      <th>Asthma Pctl</th>\n",
       "      <th>Low Birth Weight</th>\n",
       "      <th>Low Birth Weight Pctl</th>\n",
       "      <th>Cardiovascular Disease</th>\n",
       "      <th>Cardiovascular Disease Pctl</th>\n",
       "      <th>Education</th>\n",
       "      <th>Education Pctl</th>\n",
       "      <th>Linguistic Isolation</th>\n",
       "      <th>Linguistic Isolation Pctl</th>\n",
       "      <th>Poverty</th>\n",
       "      <th>Poverty Pctl</th>\n",
       "      <th>Unemployment</th>\n",
       "      <th>Unemployment Pctl</th>\n",
       "      <th>Housing Burden</th>\n",
       "      <th>Housing Burden Pctl</th>\n",
       "      <th>Pop. Char.</th>\n",
       "      <th>Pop. Char. Score</th>\n",
       "      <th>Pop. Char. Pctl</th>\n",
       "    </tr>\n",
       "    <tr>\n",
       "      <th>Census Tract</th>\n",
       "      <th></th>\n",
       "      <th></th>\n",
       "      <th></th>\n",
       "      <th></th>\n",
       "      <th></th>\n",
       "      <th></th>\n",
       "      <th></th>\n",
       "      <th></th>\n",
       "      <th></th>\n",
       "      <th></th>\n",
       "      <th></th>\n",
       "      <th></th>\n",
       "      <th></th>\n",
       "      <th></th>\n",
       "      <th></th>\n",
       "      <th></th>\n",
       "      <th></th>\n",
       "      <th></th>\n",
       "      <th></th>\n",
       "      <th></th>\n",
       "      <th></th>\n",
       "      <th></th>\n",
       "      <th></th>\n",
       "      <th></th>\n",
       "      <th></th>\n",
       "      <th></th>\n",
       "      <th></th>\n",
       "      <th></th>\n",
       "      <th></th>\n",
       "      <th></th>\n",
       "      <th></th>\n",
       "      <th></th>\n",
       "      <th></th>\n",
       "      <th></th>\n",
       "      <th></th>\n",
       "      <th></th>\n",
       "      <th></th>\n",
       "      <th></th>\n",
       "      <th></th>\n",
       "      <th></th>\n",
       "      <th></th>\n",
       "      <th></th>\n",
       "      <th></th>\n",
       "      <th></th>\n",
       "      <th></th>\n",
       "      <th></th>\n",
       "      <th></th>\n",
       "      <th></th>\n",
       "      <th></th>\n",
       "      <th></th>\n",
       "      <th></th>\n",
       "      <th></th>\n",
       "      <th></th>\n",
       "      <th></th>\n",
       "      <th></th>\n",
       "      <th></th>\n",
       "    </tr>\n",
       "  </thead>\n",
       "  <tbody>\n",
       "    <tr>\n",
       "      <th>6019001100</th>\n",
       "      <td>3174</td>\n",
       "      <td>Fresno</td>\n",
       "      <td>93706</td>\n",
       "      <td>Fresno</td>\n",
       "      <td>-119.781696</td>\n",
       "      <td>36.709695</td>\n",
       "      <td>94.09</td>\n",
       "      <td>100.00</td>\n",
       "      <td>95-100% (highest scores)</td>\n",
       "      <td>Yes</td>\n",
       "      <td>0.065</td>\n",
       "      <td>98.18</td>\n",
       "      <td>15.40</td>\n",
       "      <td>97.22</td>\n",
       "      <td>48.524</td>\n",
       "      <td>95.54</td>\n",
       "      <td>681.20</td>\n",
       "      <td>80.92</td>\n",
       "      <td>2.75</td>\n",
       "      <td>47.82</td>\n",
       "      <td>18551.957190</td>\n",
       "      <td>97.46</td>\n",
       "      <td>909.14</td>\n",
       "      <td>62.98</td>\n",
       "      <td>80.5</td>\n",
       "      <td>98.67</td>\n",
       "      <td>45.75</td>\n",
       "      <td>89.85</td>\n",
       "      <td>0.795</td>\n",
       "      <td>84.32</td>\n",
       "      <td>0</td>\n",
       "      <td>0.00</td>\n",
       "      <td>21.75</td>\n",
       "      <td>97.81</td>\n",
       "      <td>79.96</td>\n",
       "      <td>9.85</td>\n",
       "      <td>99.95</td>\n",
       "      <td>131.64</td>\n",
       "      <td>97.67</td>\n",
       "      <td>7.44</td>\n",
       "      <td>93.84</td>\n",
       "      <td>14.13</td>\n",
       "      <td>96.31</td>\n",
       "      <td>53.3</td>\n",
       "      <td>95.76</td>\n",
       "      <td>16.2</td>\n",
       "      <td>77.51</td>\n",
       "      <td>76.3</td>\n",
       "      <td>97.12</td>\n",
       "      <td>17.6</td>\n",
       "      <td>91.72</td>\n",
       "      <td>26.0</td>\n",
       "      <td>79.40</td>\n",
       "      <td>92.12</td>\n",
       "      <td>9.55</td>\n",
       "      <td>99.70</td>\n",
       "    </tr>\n",
       "    <tr>\n",
       "      <th>6071001600</th>\n",
       "      <td>6133</td>\n",
       "      <td>San Bernardino</td>\n",
       "      <td>91761</td>\n",
       "      <td>Ontario</td>\n",
       "      <td>-117.618013</td>\n",
       "      <td>34.057780</td>\n",
       "      <td>90.68</td>\n",
       "      <td>99.99</td>\n",
       "      <td>95-100% (highest scores)</td>\n",
       "      <td>Yes</td>\n",
       "      <td>0.062</td>\n",
       "      <td>91.10</td>\n",
       "      <td>13.31</td>\n",
       "      <td>93.64</td>\n",
       "      <td>38.556</td>\n",
       "      <td>92.12</td>\n",
       "      <td>904.66</td>\n",
       "      <td>96.11</td>\n",
       "      <td>1.37</td>\n",
       "      <td>41.34</td>\n",
       "      <td>7494.236622</td>\n",
       "      <td>89.05</td>\n",
       "      <td>782.26</td>\n",
       "      <td>55.66</td>\n",
       "      <td>66.2</td>\n",
       "      <td>97.68</td>\n",
       "      <td>36.00</td>\n",
       "      <td>85.57</td>\n",
       "      <td>1.250</td>\n",
       "      <td>88.77</td>\n",
       "      <td>5</td>\n",
       "      <td>55.01</td>\n",
       "      <td>12.00</td>\n",
       "      <td>92.17</td>\n",
       "      <td>81.19</td>\n",
       "      <td>10.00</td>\n",
       "      <td>100.00</td>\n",
       "      <td>60.66</td>\n",
       "      <td>69.78</td>\n",
       "      <td>7.04</td>\n",
       "      <td>90.85</td>\n",
       "      <td>12.94</td>\n",
       "      <td>92.66</td>\n",
       "      <td>53.3</td>\n",
       "      <td>95.76</td>\n",
       "      <td>33.4</td>\n",
       "      <td>96.25</td>\n",
       "      <td>72.5</td>\n",
       "      <td>94.63</td>\n",
       "      <td>12.3</td>\n",
       "      <td>71.82</td>\n",
       "      <td>34.1</td>\n",
       "      <td>93.75</td>\n",
       "      <td>87.44</td>\n",
       "      <td>9.07</td>\n",
       "      <td>98.11</td>\n",
       "    </tr>\n",
       "    <tr>\n",
       "      <th>6019000200</th>\n",
       "      <td>3167</td>\n",
       "      <td>Fresno</td>\n",
       "      <td>93706</td>\n",
       "      <td>Fresno</td>\n",
       "      <td>-119.805504</td>\n",
       "      <td>36.735491</td>\n",
       "      <td>85.97</td>\n",
       "      <td>99.97</td>\n",
       "      <td>95-100% (highest scores)</td>\n",
       "      <td>Yes</td>\n",
       "      <td>0.062</td>\n",
       "      <td>91.10</td>\n",
       "      <td>15.40</td>\n",
       "      <td>97.22</td>\n",
       "      <td>47.445</td>\n",
       "      <td>95.42</td>\n",
       "      <td>681.20</td>\n",
       "      <td>80.92</td>\n",
       "      <td>3.03</td>\n",
       "      <td>48.75</td>\n",
       "      <td>12454.948410</td>\n",
       "      <td>95.42</td>\n",
       "      <td>576.52</td>\n",
       "      <td>39.00</td>\n",
       "      <td>22.0</td>\n",
       "      <td>85.13</td>\n",
       "      <td>30.25</td>\n",
       "      <td>81.93</td>\n",
       "      <td>0.200</td>\n",
       "      <td>60.50</td>\n",
       "      <td>0</td>\n",
       "      <td>0.00</td>\n",
       "      <td>2.50</td>\n",
       "      <td>57.18</td>\n",
       "      <td>71.16</td>\n",
       "      <td>8.76</td>\n",
       "      <td>99.00</td>\n",
       "      <td>142.12</td>\n",
       "      <td>98.33</td>\n",
       "      <td>10.16</td>\n",
       "      <td>99.78</td>\n",
       "      <td>14.96</td>\n",
       "      <td>97.67</td>\n",
       "      <td>42.3</td>\n",
       "      <td>89.06</td>\n",
       "      <td>16.7</td>\n",
       "      <td>78.39</td>\n",
       "      <td>86.8</td>\n",
       "      <td>99.56</td>\n",
       "      <td>16.1</td>\n",
       "      <td>87.98</td>\n",
       "      <td>40.1</td>\n",
       "      <td>97.85</td>\n",
       "      <td>94.58</td>\n",
       "      <td>9.81</td>\n",
       "      <td>99.99</td>\n",
       "    </tr>\n",
       "    <tr>\n",
       "      <th>6077000801</th>\n",
       "      <td>6692</td>\n",
       "      <td>San Joaquin</td>\n",
       "      <td>95203</td>\n",
       "      <td>Stockton</td>\n",
       "      <td>-121.314524</td>\n",
       "      <td>37.940517</td>\n",
       "      <td>82.49</td>\n",
       "      <td>99.96</td>\n",
       "      <td>95-100% (highest scores)</td>\n",
       "      <td>Yes</td>\n",
       "      <td>0.046</td>\n",
       "      <td>53.02</td>\n",
       "      <td>12.54</td>\n",
       "      <td>84.02</td>\n",
       "      <td>24.117</td>\n",
       "      <td>73.52</td>\n",
       "      <td>278.76</td>\n",
       "      <td>29.11</td>\n",
       "      <td>12.93</td>\n",
       "      <td>60.56</td>\n",
       "      <td>2387.782922</td>\n",
       "      <td>69.97</td>\n",
       "      <td>1305.01</td>\n",
       "      <td>78.29</td>\n",
       "      <td>50.1</td>\n",
       "      <td>96.10</td>\n",
       "      <td>132.10</td>\n",
       "      <td>98.41</td>\n",
       "      <td>0.795</td>\n",
       "      <td>84.32</td>\n",
       "      <td>19</td>\n",
       "      <td>98.63</td>\n",
       "      <td>27.00</td>\n",
       "      <td>99.10</td>\n",
       "      <td>74.48</td>\n",
       "      <td>9.17</td>\n",
       "      <td>99.59</td>\n",
       "      <td>142.17</td>\n",
       "      <td>98.34</td>\n",
       "      <td>6.23</td>\n",
       "      <td>80.65</td>\n",
       "      <td>14.72</td>\n",
       "      <td>97.17</td>\n",
       "      <td>40.8</td>\n",
       "      <td>87.52</td>\n",
       "      <td>15.3</td>\n",
       "      <td>75.14</td>\n",
       "      <td>61.3</td>\n",
       "      <td>85.57</td>\n",
       "      <td>19.6</td>\n",
       "      <td>94.97</td>\n",
       "      <td>21.1</td>\n",
       "      <td>63.54</td>\n",
       "      <td>86.70</td>\n",
       "      <td>8.99</td>\n",
       "      <td>97.72</td>\n",
       "    </tr>\n",
       "    <tr>\n",
       "      <th>6019001500</th>\n",
       "      <td>2206</td>\n",
       "      <td>Fresno</td>\n",
       "      <td>93725</td>\n",
       "      <td>Fresno</td>\n",
       "      <td>-119.717843</td>\n",
       "      <td>36.681600</td>\n",
       "      <td>82.03</td>\n",
       "      <td>99.95</td>\n",
       "      <td>95-100% (highest scores)</td>\n",
       "      <td>Yes</td>\n",
       "      <td>0.065</td>\n",
       "      <td>98.18</td>\n",
       "      <td>15.40</td>\n",
       "      <td>97.22</td>\n",
       "      <td>18.846</td>\n",
       "      <td>58.22</td>\n",
       "      <td>1000.24</td>\n",
       "      <td>98.64</td>\n",
       "      <td>3518.41</td>\n",
       "      <td>95.15</td>\n",
       "      <td>21790.706720</td>\n",
       "      <td>98.15</td>\n",
       "      <td>435.16</td>\n",
       "      <td>24.30</td>\n",
       "      <td>60.0</td>\n",
       "      <td>97.15</td>\n",
       "      <td>54.20</td>\n",
       "      <td>92.09</td>\n",
       "      <td>13.100</td>\n",
       "      <td>99.70</td>\n",
       "      <td>0</td>\n",
       "      <td>0.00</td>\n",
       "      <td>50.80</td>\n",
       "      <td>99.91</td>\n",
       "      <td>80.20</td>\n",
       "      <td>9.88</td>\n",
       "      <td>99.99</td>\n",
       "      <td>90.48</td>\n",
       "      <td>89.54</td>\n",
       "      <td>4.50</td>\n",
       "      <td>38.92</td>\n",
       "      <td>12.82</td>\n",
       "      <td>92.36</td>\n",
       "      <td>45.1</td>\n",
       "      <td>91.13</td>\n",
       "      <td>14.7</td>\n",
       "      <td>73.72</td>\n",
       "      <td>66.4</td>\n",
       "      <td>90.23</td>\n",
       "      <td>18.6</td>\n",
       "      <td>93.65</td>\n",
       "      <td>28.1</td>\n",
       "      <td>83.98</td>\n",
       "      <td>80.08</td>\n",
       "      <td>8.30</td>\n",
       "      <td>92.76</td>\n",
       "    </tr>\n",
       "  </tbody>\n",
       "</table>\n",
       "</div>"
      ],
      "text/plain": [
       "              Total Population California County    ZIP  \\\n",
       "Census Tract                                              \n",
       "6019001100                3174           Fresno   93706   \n",
       "6071001600                6133    San Bernardino  91761   \n",
       "6019000200                3167           Fresno   93706   \n",
       "6077000801                6692       San Joaquin  95203   \n",
       "6019001500                2206           Fresno   93725   \n",
       "\n",
       "             Nearby City \\n(to help approximate location only)   Longitude  \\\n",
       "Census Tract                                                                 \n",
       "6019001100                                              Fresno -119.781696   \n",
       "6071001600                                             Ontario -117.618013   \n",
       "6019000200                                              Fresno -119.805504   \n",
       "6077000801                                            Stockton -121.314524   \n",
       "6019001500                                              Fresno -119.717843   \n",
       "\n",
       "               Latitude  CES 3.0 Score   CES 3.0 Percentile  \\\n",
       "Census Tract                                                  \n",
       "6019001100    36.709695          94.09               100.00   \n",
       "6071001600    34.057780          90.68                99.99   \n",
       "6019000200    36.735491          85.97                99.97   \n",
       "6077000801    37.940517          82.49                99.96   \n",
       "6019001500    36.681600          82.03                99.95   \n",
       "\n",
       "             CES 3.0 \\nPercentile Range SB 535 Disadvantaged Community  Ozone  \\\n",
       "Census Tract                                                                    \n",
       "6019001100     95-100% (highest scores)                            Yes  0.065   \n",
       "6071001600     95-100% (highest scores)                            Yes  0.062   \n",
       "6019000200     95-100% (highest scores)                            Yes  0.062   \n",
       "6077000801     95-100% (highest scores)                            Yes  0.046   \n",
       "6019001500     95-100% (highest scores)                            Yes  0.065   \n",
       "\n",
       "              Ozone Pctl  PM2.5  PM2.5 Pctl  Diesel PM  Diesel PM Pctl  \\\n",
       "Census Tract                                                             \n",
       "6019001100         98.18  15.40       97.22     48.524           95.54   \n",
       "6071001600         91.10  13.31       93.64     38.556           92.12   \n",
       "6019000200         91.10  15.40       97.22     47.445           95.42   \n",
       "6077000801         53.02  12.54       84.02     24.117           73.52   \n",
       "6019001500         98.18  15.40       97.22     18.846           58.22   \n",
       "\n",
       "              Drinking Water  Drinking Water Pctl  Pesticides  \\\n",
       "Census Tract                                                    \n",
       "6019001100            681.20                80.92        2.75   \n",
       "6071001600            904.66                96.11        1.37   \n",
       "6019000200            681.20                80.92        3.03   \n",
       "6077000801            278.76                29.11       12.93   \n",
       "6019001500           1000.24                98.64     3518.41   \n",
       "\n",
       "              Pesticides Pctl  Tox. Release  Tox. Release Pctl  Traffic  \\\n",
       "Census Tract                                                              \n",
       "6019001100              47.82  18551.957190              97.46   909.14   \n",
       "6071001600              41.34   7494.236622              89.05   782.26   \n",
       "6019000200              48.75  12454.948410              95.42   576.52   \n",
       "6077000801              60.56   2387.782922              69.97  1305.01   \n",
       "6019001500              95.15  21790.706720              98.15   435.16   \n",
       "\n",
       "              Traffic Pctl  Cleanup Sites  Cleanup Sites Pctl  \\\n",
       "Census Tract                                                    \n",
       "6019001100           62.98           80.5               98.67   \n",
       "6071001600           55.66           66.2               97.68   \n",
       "6019000200           39.00           22.0               85.13   \n",
       "6077000801           78.29           50.1               96.10   \n",
       "6019001500           24.30           60.0               97.15   \n",
       "\n",
       "              Groundwater Threats  Groundwater Threats Pctl  Haz. Waste  \\\n",
       "Census Tract                                                              \n",
       "6019001100                  45.75                     89.85       0.795   \n",
       "6071001600                  36.00                     85.57       1.250   \n",
       "6019000200                  30.25                     81.93       0.200   \n",
       "6077000801                 132.10                     98.41       0.795   \n",
       "6019001500                  54.20                     92.09      13.100   \n",
       "\n",
       "              Haz. Waste Pctl  Imp. Water Bodies  Imp. Water Bodies Pctl  \\\n",
       "Census Tract                                                               \n",
       "6019001100              84.32                  0                    0.00   \n",
       "6071001600              88.77                  5                   55.01   \n",
       "6019000200              60.50                  0                    0.00   \n",
       "6077000801              84.32                 19                   98.63   \n",
       "6019001500              99.70                  0                    0.00   \n",
       "\n",
       "              Solid Waste  Solid Waste Pctl  Pollution Burden  \\\n",
       "Census Tract                                                    \n",
       "6019001100          21.75             97.81             79.96   \n",
       "6071001600          12.00             92.17             81.19   \n",
       "6019000200           2.50             57.18             71.16   \n",
       "6077000801          27.00             99.10             74.48   \n",
       "6019001500          50.80             99.91             80.20   \n",
       "\n",
       "              Pollution Burden Score  Pollution Burden Pctl  Asthma  \\\n",
       "Census Tract                                                          \n",
       "6019001100                      9.85                  99.95  131.64   \n",
       "6071001600                     10.00                 100.00   60.66   \n",
       "6019000200                      8.76                  99.00  142.12   \n",
       "6077000801                      9.17                  99.59  142.17   \n",
       "6019001500                      9.88                  99.99   90.48   \n",
       "\n",
       "              Asthma Pctl  Low Birth Weight  Low Birth Weight Pctl  \\\n",
       "Census Tract                                                         \n",
       "6019001100          97.67              7.44                  93.84   \n",
       "6071001600          69.78              7.04                  90.85   \n",
       "6019000200          98.33             10.16                  99.78   \n",
       "6077000801          98.34              6.23                  80.65   \n",
       "6019001500          89.54              4.50                  38.92   \n",
       "\n",
       "              Cardiovascular Disease  Cardiovascular Disease Pctl  Education  \\\n",
       "Census Tract                                                                   \n",
       "6019001100                     14.13                        96.31       53.3   \n",
       "6071001600                     12.94                        92.66       53.3   \n",
       "6019000200                     14.96                        97.67       42.3   \n",
       "6077000801                     14.72                        97.17       40.8   \n",
       "6019001500                     12.82                        92.36       45.1   \n",
       "\n",
       "              Education Pctl  Linguistic Isolation  Linguistic Isolation Pctl  \\\n",
       "Census Tract                                                                    \n",
       "6019001100             95.76                  16.2                      77.51   \n",
       "6071001600             95.76                  33.4                      96.25   \n",
       "6019000200             89.06                  16.7                      78.39   \n",
       "6077000801             87.52                  15.3                      75.14   \n",
       "6019001500             91.13                  14.7                      73.72   \n",
       "\n",
       "              Poverty  Poverty Pctl  Unemployment  Unemployment Pctl  \\\n",
       "Census Tract                                                           \n",
       "6019001100       76.3         97.12          17.6              91.72   \n",
       "6071001600       72.5         94.63          12.3              71.82   \n",
       "6019000200       86.8         99.56          16.1              87.98   \n",
       "6077000801       61.3         85.57          19.6              94.97   \n",
       "6019001500       66.4         90.23          18.6              93.65   \n",
       "\n",
       "              Housing Burden  Housing Burden Pctl  Pop. Char.   \\\n",
       "Census Tract                                                     \n",
       "6019001100              26.0                79.40        92.12   \n",
       "6071001600              34.1                93.75        87.44   \n",
       "6019000200              40.1                97.85        94.58   \n",
       "6077000801              21.1                63.54        86.70   \n",
       "6019001500              28.1                83.98        80.08   \n",
       "\n",
       "              Pop. Char. Score  Pop. Char. Pctl  \n",
       "Census Tract                                     \n",
       "6019001100                9.55            99.70  \n",
       "6071001600                9.07            98.11  \n",
       "6019000200                9.81            99.99  \n",
       "6077000801                8.99            97.72  \n",
       "6019001500                8.30            92.76  "
      ]
     },
     "metadata": {},
     "output_type": "display_data"
    },
    {
     "data": {
      "text/plain": []
     },
     "execution_count": 3,
     "metadata": {},
     "output_type": "execute_result"
    }
   ],
   "source": [
    "df3.head()"
   ]
  },
  {
   "cell_type": "code",
   "execution_count": 4,
   "metadata": {},
   "outputs": [
    {
     "data": {
      "text/plain": [
       "(8035, 56)"
      ]
     },
     "execution_count": 4,
     "metadata": {},
     "output_type": "execute_result"
    }
   ],
   "source": [
    "df3.shape"
   ]
  },
  {
   "cell_type": "code",
   "execution_count": 5,
   "metadata": {
    "scrolled": true
   },
   "outputs": [
    {
     "name": "stdout",
     "output_type": "stream",
     "text": [
      "<class 'lux.core.frame.LuxDataFrame'>\n",
      "Int64Index: 8035 entries, 6019001100 to 6111980000\n",
      "Data columns (total 56 columns):\n",
      " #   Column                                            Non-Null Count  Dtype  \n",
      "---  ------                                            --------------  -----  \n",
      " 0   Total Population                                  8035 non-null   int64  \n",
      " 1   California County                                 8035 non-null   object \n",
      " 2   ZIP                                               8035 non-null   int64  \n",
      " 3   Nearby City \n",
      "(to help approximate location only)  8035 non-null   object \n",
      " 4   Longitude                                         8035 non-null   float64\n",
      " 5   Latitude                                          8035 non-null   float64\n",
      " 6   CES 3.0 Score                                     7929 non-null   float64\n",
      " 7    CES 3.0 Percentile                               7929 non-null   float64\n",
      " 8   CES 3.0 \n",
      "Percentile Range                         7929 non-null   object \n",
      " 9   SB 535 Disadvantaged Community                    8035 non-null   object \n",
      " 10  Ozone                                             8035 non-null   float64\n",
      " 11  Ozone Pctl                                        8035 non-null   float64\n",
      " 12  PM2.5                                             8016 non-null   float64\n",
      " 13  PM2.5 Pctl                                        8016 non-null   float64\n",
      " 14  Diesel PM                                         8035 non-null   float64\n",
      " 15  Diesel PM Pctl                                    8035 non-null   float64\n",
      " 16  Drinking Water                                    8017 non-null   float64\n",
      " 17  Drinking Water Pctl                               8017 non-null   float64\n",
      " 18  Pesticides                                        8035 non-null   float64\n",
      " 19  Pesticides Pctl                                   8035 non-null   float64\n",
      " 20  Tox. Release                                      8035 non-null   float64\n",
      " 21  Tox. Release Pctl                                 8035 non-null   float64\n",
      " 22  Traffic                                           7979 non-null   float64\n",
      " 23  Traffic Pctl                                      7979 non-null   float64\n",
      " 24  Cleanup Sites                                     8035 non-null   float64\n",
      " 25  Cleanup Sites Pctl                                8035 non-null   float64\n",
      " 26  Groundwater Threats                               8035 non-null   float64\n",
      " 27  Groundwater Threats Pctl                          8035 non-null   float64\n",
      " 28  Haz. Waste                                        8035 non-null   float64\n",
      " 29  Haz. Waste Pctl                                   8035 non-null   float64\n",
      " 30  Imp. Water Bodies                                 8035 non-null   int64  \n",
      " 31  Imp. Water Bodies Pctl                            8035 non-null   float64\n",
      " 32  Solid Waste                                       8035 non-null   float64\n",
      " 33  Solid Waste Pctl                                  8035 non-null   float64\n",
      " 34  Pollution Burden                                  8035 non-null   float64\n",
      " 35  Pollution Burden Score                            8035 non-null   float64\n",
      " 36  Pollution Burden Pctl                             8035 non-null   float64\n",
      " 37  Asthma                                            8035 non-null   float64\n",
      " 38  Asthma Pctl                                       8035 non-null   float64\n",
      " 39  Low Birth Weight                                  7813 non-null   float64\n",
      " 40  Low Birth Weight Pctl                             7813 non-null   float64\n",
      " 41  Cardiovascular Disease                            8035 non-null   float64\n",
      " 42  Cardiovascular Disease Pctl                       8035 non-null   float64\n",
      " 43  Education                                         7939 non-null   float64\n",
      " 44  Education Pctl                                    7939 non-null   float64\n",
      " 45  Linguistic Isolation                              7793 non-null   float64\n",
      " 46  Linguistic Isolation Pctl                         7793 non-null   float64\n",
      " 47  Poverty                                           7956 non-null   float64\n",
      " 48  Poverty Pctl                                      7956 non-null   float64\n",
      " 49  Unemployment                                      7880 non-null   float64\n",
      " 50  Unemployment Pctl                                 7880 non-null   float64\n",
      " 51  Housing Burden                                    7878 non-null   float64\n",
      " 52  Housing Burden Pctl                               7878 non-null   float64\n",
      " 53  Pop. Char.                                        7929 non-null   float64\n",
      " 54  Pop. Char. Score                                  7929 non-null   float64\n",
      " 55  Pop. Char. Pctl                                   7929 non-null   float64\n",
      "dtypes: float64(49), int64(3), object(4)\n",
      "memory usage: 3.5+ MB\n"
     ]
    }
   ],
   "source": [
    "df3.info()"
   ]
  },
  {
   "cell_type": "code",
   "execution_count": 6,
   "metadata": {},
   "outputs": [],
   "source": [
    "df3.drop(columns = [' CES 3.0 Percentile', 'CES 3.0 Score', 'CES 3.0 \\nPercentile Range', 'Ozone Pctl', \n",
    "                    'PM2.5 Pctl', 'Diesel PM Pctl', 'Drinking Water Pctl', \n",
    "                    'Pesticides Pctl', 'Tox. Release Pctl', 'Traffic Pctl', 'Cleanup Sites Pctl', \n",
    "                    'Groundwater Threats Pctl', 'Haz. Waste Pctl', 'Imp. Water Bodies Pctl', \n",
    "                    'Solid Waste Pctl', 'Pollution Burden Pctl', 'Asthma', 'Asthma Pctl', \n",
    "                    'Low Birth Weight Pctl', 'Cardiovascular Disease', 'Cardiovascular Disease Pctl', \n",
    "                    'Education Pctl', 'Linguistic Isolation Pctl', 'Poverty Pctl', 'Unemployment Pctl', \n",
    "                    'Housing Burden Pctl', 'Pop. Char. ', 'Pop. Char. Pctl'], axis = 1, inplace = True)"
   ]
  },
  {
   "cell_type": "code",
   "execution_count": 7,
   "metadata": {},
   "outputs": [
    {
     "data": {
      "text/plain": [
       "(8035, 28)"
      ]
     },
     "execution_count": 7,
     "metadata": {},
     "output_type": "execute_result"
    }
   ],
   "source": [
    "df3.shape"
   ]
  },
  {
   "cell_type": "code",
   "execution_count": 8,
   "metadata": {
    "scrolled": true
   },
   "outputs": [
    {
     "data": {
      "text/html": [
       "<div>\n",
       "<style scoped>\n",
       "    .dataframe tbody tr th:only-of-type {\n",
       "        vertical-align: middle;\n",
       "    }\n",
       "\n",
       "    .dataframe tbody tr th {\n",
       "        vertical-align: top;\n",
       "    }\n",
       "\n",
       "    .dataframe thead th {\n",
       "        text-align: right;\n",
       "    }\n",
       "</style>\n",
       "<table border=\"1\" class=\"dataframe\">\n",
       "  <thead>\n",
       "    <tr style=\"text-align: right;\">\n",
       "      <th></th>\n",
       "      <th>Total Population</th>\n",
       "      <th>California County</th>\n",
       "      <th>ZIP</th>\n",
       "      <th>Nearby City \\n(to help approximate location only)</th>\n",
       "      <th>Longitude</th>\n",
       "      <th>Latitude</th>\n",
       "      <th>SB 535 Disadvantaged Community</th>\n",
       "      <th>Ozone</th>\n",
       "      <th>PM2.5</th>\n",
       "      <th>Diesel PM</th>\n",
       "      <th>Drinking Water</th>\n",
       "      <th>Pesticides</th>\n",
       "      <th>Tox. Release</th>\n",
       "      <th>Traffic</th>\n",
       "      <th>Cleanup Sites</th>\n",
       "      <th>Groundwater Threats</th>\n",
       "      <th>Haz. Waste</th>\n",
       "      <th>Imp. Water Bodies</th>\n",
       "      <th>Solid Waste</th>\n",
       "      <th>Pollution Burden</th>\n",
       "      <th>Pollution Burden Score</th>\n",
       "      <th>Low Birth Weight</th>\n",
       "      <th>Education</th>\n",
       "      <th>Linguistic Isolation</th>\n",
       "      <th>Poverty</th>\n",
       "      <th>Unemployment</th>\n",
       "      <th>Housing Burden</th>\n",
       "      <th>Pop. Char. Score</th>\n",
       "    </tr>\n",
       "    <tr>\n",
       "      <th>Census Tract</th>\n",
       "      <th></th>\n",
       "      <th></th>\n",
       "      <th></th>\n",
       "      <th></th>\n",
       "      <th></th>\n",
       "      <th></th>\n",
       "      <th></th>\n",
       "      <th></th>\n",
       "      <th></th>\n",
       "      <th></th>\n",
       "      <th></th>\n",
       "      <th></th>\n",
       "      <th></th>\n",
       "      <th></th>\n",
       "      <th></th>\n",
       "      <th></th>\n",
       "      <th></th>\n",
       "      <th></th>\n",
       "      <th></th>\n",
       "      <th></th>\n",
       "      <th></th>\n",
       "      <th></th>\n",
       "      <th></th>\n",
       "      <th></th>\n",
       "      <th></th>\n",
       "      <th></th>\n",
       "      <th></th>\n",
       "      <th></th>\n",
       "    </tr>\n",
       "  </thead>\n",
       "  <tbody>\n",
       "    <tr>\n",
       "      <th>6019001100</th>\n",
       "      <td>3174</td>\n",
       "      <td>Fresno</td>\n",
       "      <td>93706</td>\n",
       "      <td>Fresno</td>\n",
       "      <td>-119.781696</td>\n",
       "      <td>36.709695</td>\n",
       "      <td>Yes</td>\n",
       "      <td>0.065</td>\n",
       "      <td>15.40</td>\n",
       "      <td>48.524</td>\n",
       "      <td>681.20</td>\n",
       "      <td>2.75</td>\n",
       "      <td>18551.957190</td>\n",
       "      <td>909.14</td>\n",
       "      <td>80.5</td>\n",
       "      <td>45.75</td>\n",
       "      <td>0.795</td>\n",
       "      <td>0</td>\n",
       "      <td>21.75</td>\n",
       "      <td>79.96</td>\n",
       "      <td>9.85</td>\n",
       "      <td>7.44</td>\n",
       "      <td>53.3</td>\n",
       "      <td>16.2</td>\n",
       "      <td>76.3</td>\n",
       "      <td>17.6</td>\n",
       "      <td>26.0</td>\n",
       "      <td>9.55</td>\n",
       "    </tr>\n",
       "    <tr>\n",
       "      <th>6071001600</th>\n",
       "      <td>6133</td>\n",
       "      <td>San Bernardino</td>\n",
       "      <td>91761</td>\n",
       "      <td>Ontario</td>\n",
       "      <td>-117.618013</td>\n",
       "      <td>34.057780</td>\n",
       "      <td>Yes</td>\n",
       "      <td>0.062</td>\n",
       "      <td>13.31</td>\n",
       "      <td>38.556</td>\n",
       "      <td>904.66</td>\n",
       "      <td>1.37</td>\n",
       "      <td>7494.236622</td>\n",
       "      <td>782.26</td>\n",
       "      <td>66.2</td>\n",
       "      <td>36.00</td>\n",
       "      <td>1.250</td>\n",
       "      <td>5</td>\n",
       "      <td>12.00</td>\n",
       "      <td>81.19</td>\n",
       "      <td>10.00</td>\n",
       "      <td>7.04</td>\n",
       "      <td>53.3</td>\n",
       "      <td>33.4</td>\n",
       "      <td>72.5</td>\n",
       "      <td>12.3</td>\n",
       "      <td>34.1</td>\n",
       "      <td>9.07</td>\n",
       "    </tr>\n",
       "  </tbody>\n",
       "</table>\n",
       "</div>"
      ],
      "text/plain": [
       "              Total Population California County    ZIP  \\\n",
       "Census Tract                                              \n",
       "6019001100                3174           Fresno   93706   \n",
       "6071001600                6133    San Bernardino  91761   \n",
       "\n",
       "             Nearby City \\n(to help approximate location only)   Longitude  \\\n",
       "Census Tract                                                                 \n",
       "6019001100                                              Fresno -119.781696   \n",
       "6071001600                                             Ontario -117.618013   \n",
       "\n",
       "               Latitude SB 535 Disadvantaged Community  Ozone  PM2.5  \\\n",
       "Census Tract                                                           \n",
       "6019001100    36.709695                            Yes  0.065  15.40   \n",
       "6071001600    34.057780                            Yes  0.062  13.31   \n",
       "\n",
       "              Diesel PM  Drinking Water  Pesticides  Tox. Release  Traffic  \\\n",
       "Census Tract                                                                 \n",
       "6019001100       48.524          681.20        2.75  18551.957190   909.14   \n",
       "6071001600       38.556          904.66        1.37   7494.236622   782.26   \n",
       "\n",
       "              Cleanup Sites  Groundwater Threats  Haz. Waste  \\\n",
       "Census Tract                                                   \n",
       "6019001100             80.5                45.75       0.795   \n",
       "6071001600             66.2                36.00       1.250   \n",
       "\n",
       "              Imp. Water Bodies  Solid Waste  Pollution Burden  \\\n",
       "Census Tract                                                     \n",
       "6019001100                    0        21.75             79.96   \n",
       "6071001600                    5        12.00             81.19   \n",
       "\n",
       "              Pollution Burden Score  Low Birth Weight  Education  \\\n",
       "Census Tract                                                        \n",
       "6019001100                      9.85              7.44       53.3   \n",
       "6071001600                     10.00              7.04       53.3   \n",
       "\n",
       "              Linguistic Isolation  Poverty  Unemployment  Housing Burden  \\\n",
       "Census Tract                                                                \n",
       "6019001100                    16.2     76.3          17.6            26.0   \n",
       "6071001600                    33.4     72.5          12.3            34.1   \n",
       "\n",
       "              Pop. Char. Score  \n",
       "Census Tract                    \n",
       "6019001100                9.55  \n",
       "6071001600                9.07  "
      ]
     },
     "metadata": {},
     "output_type": "display_data"
    },
    {
     "data": {
      "text/plain": []
     },
     "execution_count": 8,
     "metadata": {},
     "output_type": "execute_result"
    }
   ],
   "source": [
    "df3.head(2)"
   ]
  },
  {
   "cell_type": "code",
   "execution_count": 9,
   "metadata": {},
   "outputs": [
    {
     "data": {
      "text/html": [
       "<div>\n",
       "<style scoped>\n",
       "    .dataframe tbody tr th:only-of-type {\n",
       "        vertical-align: middle;\n",
       "    }\n",
       "\n",
       "    .dataframe tbody tr th {\n",
       "        vertical-align: top;\n",
       "    }\n",
       "\n",
       "    .dataframe thead th {\n",
       "        text-align: right;\n",
       "    }\n",
       "</style>\n",
       "<table border=\"1\" class=\"dataframe\">\n",
       "  <thead>\n",
       "    <tr style=\"text-align: right;\">\n",
       "      <th></th>\n",
       "      <th>Total Population</th>\n",
       "      <th>California County</th>\n",
       "      <th>ZIP</th>\n",
       "      <th>Nearby City \\n(to help approximate location only)</th>\n",
       "      <th>Longitude</th>\n",
       "      <th>Latitude</th>\n",
       "      <th>SB 535 Disadvantaged Community</th>\n",
       "      <th>Ozone</th>\n",
       "      <th>PM2.5</th>\n",
       "      <th>Diesel PM</th>\n",
       "      <th>Drinking Water</th>\n",
       "      <th>Pesticides</th>\n",
       "      <th>Tox. Release</th>\n",
       "      <th>Traffic</th>\n",
       "      <th>Cleanup Sites</th>\n",
       "      <th>Groundwater Threats</th>\n",
       "      <th>Haz. Waste</th>\n",
       "      <th>Imp. Water Bodies</th>\n",
       "      <th>Solid Waste</th>\n",
       "      <th>Pollution Burden</th>\n",
       "      <th>Pollution Burden Score</th>\n",
       "      <th>Low Birth Weight</th>\n",
       "      <th>Education</th>\n",
       "      <th>Linguistic Isolation</th>\n",
       "      <th>Poverty</th>\n",
       "      <th>Unemployment</th>\n",
       "      <th>Housing Burden</th>\n",
       "      <th>Pop. Char. Score</th>\n",
       "    </tr>\n",
       "    <tr>\n",
       "      <th>Census Tract</th>\n",
       "      <th></th>\n",
       "      <th></th>\n",
       "      <th></th>\n",
       "      <th></th>\n",
       "      <th></th>\n",
       "      <th></th>\n",
       "      <th></th>\n",
       "      <th></th>\n",
       "      <th></th>\n",
       "      <th></th>\n",
       "      <th></th>\n",
       "      <th></th>\n",
       "      <th></th>\n",
       "      <th></th>\n",
       "      <th></th>\n",
       "      <th></th>\n",
       "      <th></th>\n",
       "      <th></th>\n",
       "      <th></th>\n",
       "      <th></th>\n",
       "      <th></th>\n",
       "      <th></th>\n",
       "      <th></th>\n",
       "      <th></th>\n",
       "      <th></th>\n",
       "      <th></th>\n",
       "      <th></th>\n",
       "      <th></th>\n",
       "    </tr>\n",
       "  </thead>\n",
       "  <tbody>\n",
       "    <tr>\n",
       "      <th>6037980002</th>\n",
       "      <td>0</td>\n",
       "      <td>Los Angeles</td>\n",
       "      <td>90745</td>\n",
       "      <td>Carson</td>\n",
       "      <td>-118.238671</td>\n",
       "      <td>33.810408</td>\n",
       "      <td>Yes</td>\n",
       "      <td>0.042</td>\n",
       "      <td>11.210000</td>\n",
       "      <td>34.772</td>\n",
       "      <td>NaN</td>\n",
       "      <td>0.03</td>\n",
       "      <td>27287.996490</td>\n",
       "      <td>1021.83</td>\n",
       "      <td>105.45</td>\n",
       "      <td>153.55</td>\n",
       "      <td>19.275</td>\n",
       "      <td>22</td>\n",
       "      <td>31.30</td>\n",
       "      <td>73.96</td>\n",
       "      <td>9.11</td>\n",
       "      <td>NaN</td>\n",
       "      <td>NaN</td>\n",
       "      <td>NaN</td>\n",
       "      <td>NaN</td>\n",
       "      <td>NaN</td>\n",
       "      <td>NaN</td>\n",
       "      <td>NaN</td>\n",
       "    </tr>\n",
       "    <tr>\n",
       "      <th>6037980001</th>\n",
       "      <td>0</td>\n",
       "      <td>Los Angeles</td>\n",
       "      <td>91505</td>\n",
       "      <td>Burbank</td>\n",
       "      <td>-118.357536</td>\n",
       "      <td>34.199716</td>\n",
       "      <td>Yes</td>\n",
       "      <td>0.055</td>\n",
       "      <td>12.050000</td>\n",
       "      <td>41.370</td>\n",
       "      <td>NaN</td>\n",
       "      <td>0.00</td>\n",
       "      <td>1289.457958</td>\n",
       "      <td>889.16</td>\n",
       "      <td>23.85</td>\n",
       "      <td>155.50</td>\n",
       "      <td>1.335</td>\n",
       "      <td>6</td>\n",
       "      <td>2.20</td>\n",
       "      <td>68.03</td>\n",
       "      <td>8.38</td>\n",
       "      <td>NaN</td>\n",
       "      <td>NaN</td>\n",
       "      <td>NaN</td>\n",
       "      <td>NaN</td>\n",
       "      <td>NaN</td>\n",
       "      <td>NaN</td>\n",
       "      <td>NaN</td>\n",
       "    </tr>\n",
       "    <tr>\n",
       "      <th>6037980025</th>\n",
       "      <td>0</td>\n",
       "      <td>Los Angeles</td>\n",
       "      <td>90745</td>\n",
       "      <td>Carson</td>\n",
       "      <td>-118.240029</td>\n",
       "      <td>33.843375</td>\n",
       "      <td>Yes</td>\n",
       "      <td>0.042</td>\n",
       "      <td>11.630000</td>\n",
       "      <td>26.670</td>\n",
       "      <td>NaN</td>\n",
       "      <td>0.09</td>\n",
       "      <td>9630.390899</td>\n",
       "      <td>381.64</td>\n",
       "      <td>75.75</td>\n",
       "      <td>75.15</td>\n",
       "      <td>4.185</td>\n",
       "      <td>24</td>\n",
       "      <td>11.45</td>\n",
       "      <td>66.86</td>\n",
       "      <td>8.24</td>\n",
       "      <td>NaN</td>\n",
       "      <td>NaN</td>\n",
       "      <td>NaN</td>\n",
       "      <td>NaN</td>\n",
       "      <td>NaN</td>\n",
       "      <td>NaN</td>\n",
       "      <td>NaN</td>\n",
       "    </tr>\n",
       "    <tr>\n",
       "      <th>6037320000</th>\n",
       "      <td>0</td>\n",
       "      <td>Los Angeles</td>\n",
       "      <td>91608</td>\n",
       "      <td>Universal City</td>\n",
       "      <td>-118.350933</td>\n",
       "      <td>34.138761</td>\n",
       "      <td>Yes</td>\n",
       "      <td>0.053</td>\n",
       "      <td>12.050000</td>\n",
       "      <td>20.950</td>\n",
       "      <td>NaN</td>\n",
       "      <td>0.00</td>\n",
       "      <td>1597.861820</td>\n",
       "      <td>3359.09</td>\n",
       "      <td>30.00</td>\n",
       "      <td>15.00</td>\n",
       "      <td>1.010</td>\n",
       "      <td>6</td>\n",
       "      <td>2.00</td>\n",
       "      <td>66.09</td>\n",
       "      <td>8.14</td>\n",
       "      <td>NaN</td>\n",
       "      <td>NaN</td>\n",
       "      <td>NaN</td>\n",
       "      <td>NaN</td>\n",
       "      <td>NaN</td>\n",
       "      <td>NaN</td>\n",
       "      <td>NaN</td>\n",
       "    </tr>\n",
       "    <tr>\n",
       "      <th>6037980005</th>\n",
       "      <td>0</td>\n",
       "      <td>Los Angeles</td>\n",
       "      <td>90501</td>\n",
       "      <td>Torrance</td>\n",
       "      <td>-118.327339</td>\n",
       "      <td>33.853459</td>\n",
       "      <td>Yes</td>\n",
       "      <td>0.042</td>\n",
       "      <td>12.050000</td>\n",
       "      <td>17.874</td>\n",
       "      <td>NaN</td>\n",
       "      <td>0.35</td>\n",
       "      <td>77200.687730</td>\n",
       "      <td>979.89</td>\n",
       "      <td>67.80</td>\n",
       "      <td>71.45</td>\n",
       "      <td>12.625</td>\n",
       "      <td>0</td>\n",
       "      <td>6.70</td>\n",
       "      <td>65.36</td>\n",
       "      <td>8.05</td>\n",
       "      <td>NaN</td>\n",
       "      <td>NaN</td>\n",
       "      <td>NaN</td>\n",
       "      <td>NaN</td>\n",
       "      <td>NaN</td>\n",
       "      <td>NaN</td>\n",
       "      <td>NaN</td>\n",
       "    </tr>\n",
       "    <tr>\n",
       "      <th>6071980100</th>\n",
       "      <td>0</td>\n",
       "      <td>San Bernardino</td>\n",
       "      <td>92408</td>\n",
       "      <td>San Bernardino</td>\n",
       "      <td>-117.239834</td>\n",
       "      <td>34.097865</td>\n",
       "      <td>Yes</td>\n",
       "      <td>0.065</td>\n",
       "      <td>12.050000</td>\n",
       "      <td>21.496</td>\n",
       "      <td>NaN</td>\n",
       "      <td>0.66</td>\n",
       "      <td>476.470362</td>\n",
       "      <td>517.35</td>\n",
       "      <td>40.50</td>\n",
       "      <td>36.25</td>\n",
       "      <td>6.410</td>\n",
       "      <td>0</td>\n",
       "      <td>12.75</td>\n",
       "      <td>65.10</td>\n",
       "      <td>8.02</td>\n",
       "      <td>NaN</td>\n",
       "      <td>NaN</td>\n",
       "      <td>NaN</td>\n",
       "      <td>NaN</td>\n",
       "      <td>NaN</td>\n",
       "      <td>NaN</td>\n",
       "      <td>NaN</td>\n",
       "    </tr>\n",
       "    <tr>\n",
       "      <th>6037980030</th>\n",
       "      <td>0</td>\n",
       "      <td>Los Angeles</td>\n",
       "      <td>90245</td>\n",
       "      <td>El Segundo</td>\n",
       "      <td>-118.409478</td>\n",
       "      <td>33.909624</td>\n",
       "      <td>Yes</td>\n",
       "      <td>0.044</td>\n",
       "      <td>12.050000</td>\n",
       "      <td>36.630</td>\n",
       "      <td>NaN</td>\n",
       "      <td>0.00</td>\n",
       "      <td>14009.896360</td>\n",
       "      <td>753.26</td>\n",
       "      <td>48.00</td>\n",
       "      <td>43.50</td>\n",
       "      <td>12.885</td>\n",
       "      <td>6</td>\n",
       "      <td>0.25</td>\n",
       "      <td>64.46</td>\n",
       "      <td>7.94</td>\n",
       "      <td>NaN</td>\n",
       "      <td>NaN</td>\n",
       "      <td>NaN</td>\n",
       "      <td>NaN</td>\n",
       "      <td>NaN</td>\n",
       "      <td>NaN</td>\n",
       "      <td>NaN</td>\n",
       "    </tr>\n",
       "    <tr>\n",
       "      <th>6037980007</th>\n",
       "      <td>0</td>\n",
       "      <td>Los Angeles</td>\n",
       "      <td>90803</td>\n",
       "      <td>Long Beach</td>\n",
       "      <td>-118.100741</td>\n",
       "      <td>33.766304</td>\n",
       "      <td>No</td>\n",
       "      <td>0.042</td>\n",
       "      <td>11.210000</td>\n",
       "      <td>12.660</td>\n",
       "      <td>NaN</td>\n",
       "      <td>0.00</td>\n",
       "      <td>9154.757204</td>\n",
       "      <td>925.45</td>\n",
       "      <td>33.75</td>\n",
       "      <td>18.60</td>\n",
       "      <td>1.000</td>\n",
       "      <td>16</td>\n",
       "      <td>12.75</td>\n",
       "      <td>62.17</td>\n",
       "      <td>7.66</td>\n",
       "      <td>NaN</td>\n",
       "      <td>NaN</td>\n",
       "      <td>NaN</td>\n",
       "      <td>NaN</td>\n",
       "      <td>NaN</td>\n",
       "      <td>NaN</td>\n",
       "      <td>NaN</td>\n",
       "    </tr>\n",
       "    <tr>\n",
       "      <th>6037980006</th>\n",
       "      <td>0</td>\n",
       "      <td>Los Angeles</td>\n",
       "      <td>90808</td>\n",
       "      <td>Long Beach</td>\n",
       "      <td>-118.086379</td>\n",
       "      <td>33.814394</td>\n",
       "      <td>No</td>\n",
       "      <td>0.044</td>\n",
       "      <td>11.210000</td>\n",
       "      <td>15.430</td>\n",
       "      <td>NaN</td>\n",
       "      <td>0.00</td>\n",
       "      <td>6917.135082</td>\n",
       "      <td>2350.06</td>\n",
       "      <td>4.90</td>\n",
       "      <td>7.75</td>\n",
       "      <td>0.100</td>\n",
       "      <td>22</td>\n",
       "      <td>2.25</td>\n",
       "      <td>55.97</td>\n",
       "      <td>6.89</td>\n",
       "      <td>NaN</td>\n",
       "      <td>NaN</td>\n",
       "      <td>NaN</td>\n",
       "      <td>NaN</td>\n",
       "      <td>NaN</td>\n",
       "      <td>NaN</td>\n",
       "      <td>NaN</td>\n",
       "    </tr>\n",
       "    <tr>\n",
       "      <th>6081984300</th>\n",
       "      <td>0</td>\n",
       "      <td>San Mateo</td>\n",
       "      <td>94128</td>\n",
       "      <td>San Francisco</td>\n",
       "      <td>-122.376861</td>\n",
       "      <td>37.614758</td>\n",
       "      <td>No</td>\n",
       "      <td>0.030</td>\n",
       "      <td>8.697944</td>\n",
       "      <td>40.043</td>\n",
       "      <td>NaN</td>\n",
       "      <td>0.00</td>\n",
       "      <td>137.419351</td>\n",
       "      <td>2193.63</td>\n",
       "      <td>11.25</td>\n",
       "      <td>226.60</td>\n",
       "      <td>0.975</td>\n",
       "      <td>10</td>\n",
       "      <td>2.50</td>\n",
       "      <td>54.46</td>\n",
       "      <td>6.71</td>\n",
       "      <td>NaN</td>\n",
       "      <td>NaN</td>\n",
       "      <td>NaN</td>\n",
       "      <td>NaN</td>\n",
       "      <td>NaN</td>\n",
       "      <td>NaN</td>\n",
       "      <td>NaN</td>\n",
       "    </tr>\n",
       "    <tr>\n",
       "      <th>6037980020</th>\n",
       "      <td>0</td>\n",
       "      <td>Los Angeles</td>\n",
       "      <td>91352</td>\n",
       "      <td>Sun Valley</td>\n",
       "      <td>-118.303403</td>\n",
       "      <td>34.226689</td>\n",
       "      <td>No</td>\n",
       "      <td>0.055</td>\n",
       "      <td>11.630000</td>\n",
       "      <td>10.114</td>\n",
       "      <td>NaN</td>\n",
       "      <td>0.00</td>\n",
       "      <td>1152.409613</td>\n",
       "      <td>1340.75</td>\n",
       "      <td>1.20</td>\n",
       "      <td>1.30</td>\n",
       "      <td>0.020</td>\n",
       "      <td>6</td>\n",
       "      <td>0.90</td>\n",
       "      <td>43.44</td>\n",
       "      <td>5.35</td>\n",
       "      <td>NaN</td>\n",
       "      <td>NaN</td>\n",
       "      <td>NaN</td>\n",
       "      <td>NaN</td>\n",
       "      <td>NaN</td>\n",
       "      <td>NaN</td>\n",
       "      <td>NaN</td>\n",
       "    </tr>\n",
       "  </tbody>\n",
       "</table>\n",
       "</div>"
      ],
      "text/plain": [
       "              Total Population California County    ZIP  \\\n",
       "Census Tract                                              \n",
       "6037980002                   0       Los Angeles  90745   \n",
       "6037980001                   0       Los Angeles  91505   \n",
       "6037980025                   0       Los Angeles  90745   \n",
       "6037320000                   0       Los Angeles  91608   \n",
       "6037980005                   0       Los Angeles  90501   \n",
       "6071980100                   0    San Bernardino  92408   \n",
       "6037980030                   0       Los Angeles  90245   \n",
       "6037980007                   0       Los Angeles  90803   \n",
       "6037980006                   0       Los Angeles  90808   \n",
       "6081984300                   0         San Mateo  94128   \n",
       "6037980020                   0       Los Angeles  91352   \n",
       "\n",
       "             Nearby City \\n(to help approximate location only)   Longitude  \\\n",
       "Census Tract                                                                 \n",
       "6037980002                                              Carson -118.238671   \n",
       "6037980001                                             Burbank -118.357536   \n",
       "6037980025                                              Carson -118.240029   \n",
       "6037320000                                      Universal City -118.350933   \n",
       "6037980005                                            Torrance -118.327339   \n",
       "6071980100                                      San Bernardino -117.239834   \n",
       "6037980030                                          El Segundo -118.409478   \n",
       "6037980007                                          Long Beach -118.100741   \n",
       "6037980006                                          Long Beach -118.086379   \n",
       "6081984300                                       San Francisco -122.376861   \n",
       "6037980020                                          Sun Valley -118.303403   \n",
       "\n",
       "               Latitude SB 535 Disadvantaged Community  Ozone      PM2.5  \\\n",
       "Census Tract                                                               \n",
       "6037980002    33.810408                            Yes  0.042  11.210000   \n",
       "6037980001    34.199716                            Yes  0.055  12.050000   \n",
       "6037980025    33.843375                            Yes  0.042  11.630000   \n",
       "6037320000    34.138761                            Yes  0.053  12.050000   \n",
       "6037980005    33.853459                            Yes  0.042  12.050000   \n",
       "6071980100    34.097865                            Yes  0.065  12.050000   \n",
       "6037980030    33.909624                            Yes  0.044  12.050000   \n",
       "6037980007    33.766304                             No  0.042  11.210000   \n",
       "6037980006    33.814394                             No  0.044  11.210000   \n",
       "6081984300    37.614758                             No  0.030   8.697944   \n",
       "6037980020    34.226689                             No  0.055  11.630000   \n",
       "\n",
       "              Diesel PM  Drinking Water  Pesticides  Tox. Release  Traffic  \\\n",
       "Census Tract                                                                 \n",
       "6037980002       34.772             NaN        0.03  27287.996490  1021.83   \n",
       "6037980001       41.370             NaN        0.00   1289.457958   889.16   \n",
       "6037980025       26.670             NaN        0.09   9630.390899   381.64   \n",
       "6037320000       20.950             NaN        0.00   1597.861820  3359.09   \n",
       "6037980005       17.874             NaN        0.35  77200.687730   979.89   \n",
       "6071980100       21.496             NaN        0.66    476.470362   517.35   \n",
       "6037980030       36.630             NaN        0.00  14009.896360   753.26   \n",
       "6037980007       12.660             NaN        0.00   9154.757204   925.45   \n",
       "6037980006       15.430             NaN        0.00   6917.135082  2350.06   \n",
       "6081984300       40.043             NaN        0.00    137.419351  2193.63   \n",
       "6037980020       10.114             NaN        0.00   1152.409613  1340.75   \n",
       "\n",
       "              Cleanup Sites  Groundwater Threats  Haz. Waste  \\\n",
       "Census Tract                                                   \n",
       "6037980002           105.45               153.55      19.275   \n",
       "6037980001            23.85               155.50       1.335   \n",
       "6037980025            75.75                75.15       4.185   \n",
       "6037320000            30.00                15.00       1.010   \n",
       "6037980005            67.80                71.45      12.625   \n",
       "6071980100            40.50                36.25       6.410   \n",
       "6037980030            48.00                43.50      12.885   \n",
       "6037980007            33.75                18.60       1.000   \n",
       "6037980006             4.90                 7.75       0.100   \n",
       "6081984300            11.25               226.60       0.975   \n",
       "6037980020             1.20                 1.30       0.020   \n",
       "\n",
       "              Imp. Water Bodies  Solid Waste  Pollution Burden  \\\n",
       "Census Tract                                                     \n",
       "6037980002                   22        31.30             73.96   \n",
       "6037980001                    6         2.20             68.03   \n",
       "6037980025                   24        11.45             66.86   \n",
       "6037320000                    6         2.00             66.09   \n",
       "6037980005                    0         6.70             65.36   \n",
       "6071980100                    0        12.75             65.10   \n",
       "6037980030                    6         0.25             64.46   \n",
       "6037980007                   16        12.75             62.17   \n",
       "6037980006                   22         2.25             55.97   \n",
       "6081984300                   10         2.50             54.46   \n",
       "6037980020                    6         0.90             43.44   \n",
       "\n",
       "              Pollution Burden Score  Low Birth Weight  Education  \\\n",
       "Census Tract                                                        \n",
       "6037980002                      9.11               NaN        NaN   \n",
       "6037980001                      8.38               NaN        NaN   \n",
       "6037980025                      8.24               NaN        NaN   \n",
       "6037320000                      8.14               NaN        NaN   \n",
       "6037980005                      8.05               NaN        NaN   \n",
       "6071980100                      8.02               NaN        NaN   \n",
       "6037980030                      7.94               NaN        NaN   \n",
       "6037980007                      7.66               NaN        NaN   \n",
       "6037980006                      6.89               NaN        NaN   \n",
       "6081984300                      6.71               NaN        NaN   \n",
       "6037980020                      5.35               NaN        NaN   \n",
       "\n",
       "              Linguistic Isolation  Poverty  Unemployment  Housing Burden  \\\n",
       "Census Tract                                                                \n",
       "6037980002                     NaN      NaN           NaN             NaN   \n",
       "6037980001                     NaN      NaN           NaN             NaN   \n",
       "6037980025                     NaN      NaN           NaN             NaN   \n",
       "6037320000                     NaN      NaN           NaN             NaN   \n",
       "6037980005                     NaN      NaN           NaN             NaN   \n",
       "6071980100                     NaN      NaN           NaN             NaN   \n",
       "6037980030                     NaN      NaN           NaN             NaN   \n",
       "6037980007                     NaN      NaN           NaN             NaN   \n",
       "6037980006                     NaN      NaN           NaN             NaN   \n",
       "6081984300                     NaN      NaN           NaN             NaN   \n",
       "6037980020                     NaN      NaN           NaN             NaN   \n",
       "\n",
       "              Pop. Char. Score  \n",
       "Census Tract                    \n",
       "6037980002                 NaN  \n",
       "6037980001                 NaN  \n",
       "6037980025                 NaN  \n",
       "6037320000                 NaN  \n",
       "6037980005                 NaN  \n",
       "6071980100                 NaN  \n",
       "6037980030                 NaN  \n",
       "6037980007                 NaN  \n",
       "6037980006                 NaN  \n",
       "6081984300                 NaN  \n",
       "6037980020                 NaN  "
      ]
     },
     "metadata": {},
     "output_type": "display_data"
    },
    {
     "data": {
      "text/plain": []
     },
     "execution_count": 9,
     "metadata": {},
     "output_type": "execute_result"
    }
   ],
   "source": [
    "df3[df3['Total Population'] == 0]"
   ]
  },
  {
   "cell_type": "markdown",
   "metadata": {},
   "source": [
    "### FILL NA"
   ]
  },
  {
   "cell_type": "code",
   "execution_count": 10,
   "metadata": {
    "scrolled": true
   },
   "outputs": [
    {
     "data": {
      "application/vnd.jupyter.widget-view+json": {
       "model_id": "0f543f4d324741e7a3e047f6273a1aa9",
       "version_major": 2,
       "version_minor": 0
      },
      "text/plain": [
       "Button(description='Toggle Pandas/Lux', layout=Layout(top='5px', width='140px'), style=ButtonStyle())"
      ]
     },
     "metadata": {},
     "output_type": "display_data"
    },
    {
     "data": {
      "application/vnd.jupyter.widget-view+json": {
       "model_id": "abb0abafa2454b04a42cc44c2120e84d",
       "version_major": 2,
       "version_minor": 0
      },
      "text/plain": [
       "Output()"
      ]
     },
     "metadata": {},
     "output_type": "display_data"
    },
    {
     "data": {
      "text/plain": []
     },
     "execution_count": 10,
     "metadata": {},
     "output_type": "execute_result"
    }
   ],
   "source": [
    "df3.isna().sum()"
   ]
  },
  {
   "cell_type": "code",
   "execution_count": 11,
   "metadata": {},
   "outputs": [],
   "source": [
    "#PM2.5 \n",
    "df3['PM2.5'] = df3['PM2.5'].fillna(df3['PM2.5'].mean())\n",
    "\n",
    "#Drinking Water\n",
    "df3['Drinking Water'] = df3['Drinking Water'].fillna(df3['Drinking Water'].mean())\n",
    "\n",
    "#Traffic \n",
    "df3['Traffic'] = df3['Traffic'].fillna(df3['Traffic'].mean())\n",
    "\n",
    "#Traffic \n",
    "df3['Traffic'] = df3['Traffic'].fillna(df3['Traffic'].mean())\n",
    "\n",
    "#Low Birth Weight\n",
    "df3['Low Birth Weight'] = df3['Low Birth Weight'].fillna(df3['Low Birth Weight'].mean())\n",
    "\n",
    "#Education\n",
    "df3['Education'] = df3['Education'].fillna(df3['Education'].mean())\n",
    "\n",
    "#Linguistic Isolation\n",
    "df3['Linguistic Isolation'] = df3['Linguistic Isolation'].fillna(df3['Linguistic Isolation'].mean())\n",
    "\n",
    "#Poverty\n",
    "df3['Poverty'] = df3['Poverty'].fillna(df3['Poverty'].mean())\n",
    "\n",
    "#Unemployment\n",
    "df3['Unemployment'] = df3['Unemployment'].fillna(df3['Unemployment'].mean())\n",
    "\n",
    "#Housing Burden\n",
    "df3['Housing Burden'] = df3['Housing Burden'].fillna(df3['Housing Burden'].mean())\n",
    "\n",
    "#Pop. Char. Score\n",
    "df3['Pop. Char. Score'] = df3['Pop. Char. Score'].fillna(df3['Pop. Char. Score'].mean())\n"
   ]
  },
  {
   "cell_type": "code",
   "execution_count": 12,
   "metadata": {
    "scrolled": true
   },
   "outputs": [
    {
     "name": "stdout",
     "output_type": "stream",
     "text": [
      "Total Population                                     0\n",
      "California County                                    0\n",
      "ZIP                                                  0\n",
      "Nearby City \\n(to help approximate location only)    0\n",
      "Longitude                                            0\n",
      "Latitude                                             0\n",
      "SB 535 Disadvantaged Community                       0\n",
      "Ozone                                                0\n",
      "PM2.5                                                0\n",
      "Diesel PM                                            0\n",
      "Drinking Water                                       0\n",
      "Pesticides                                           0\n",
      "Tox. Release                                         0\n",
      "Traffic                                              0\n",
      "Cleanup Sites                                        0\n",
      "Groundwater Threats                                  0\n",
      "Haz. Waste                                           0\n",
      "Imp. Water Bodies                                    0\n",
      "Solid Waste                                          0\n",
      "Pollution Burden                                     0\n",
      "Pollution Burden Score                               0\n",
      "Low Birth Weight                                     0\n",
      "Education                                            0\n",
      "Linguistic Isolation                                 0\n",
      "Poverty                                              0\n",
      "Unemployment                                         0\n",
      "Housing Burden                                       0\n",
      "Pop. Char. Score                                     0\n",
      "dtype: int64\n"
     ]
    },
    {
     "name": "stderr",
     "output_type": "stream",
     "text": [
      "/Users/jaclynhenn/opt/anaconda3/envs/learn-env/lib/python3.8/site-packages/IPython/lib/pretty.py:700: UserWarning:\n",
      "Lux defaults to Pandas when there are no valid actions defined.\n"
     ]
    },
    {
     "data": {
      "text/plain": []
     },
     "execution_count": 12,
     "metadata": {},
     "output_type": "execute_result"
    }
   ],
   "source": [
    "df3.isna().sum()"
   ]
  },
  {
   "cell_type": "markdown",
   "metadata": {},
   "source": [
    "## Multicollinearity "
   ]
  },
  {
   "cell_type": "code",
   "execution_count": 13,
   "metadata": {
    "scrolled": true
   },
   "outputs": [
    {
     "data": {
      "image/png": "[encoded data removed]",
      "text/plain": [
       "<Figure size 1440x1440 with 2 Axes>"
      ]
     },
     "metadata": {
      "needs_background": "light"
     },
     "output_type": "display_data"
    }
   ],
   "source": [
    "#create correlation heatmap\n",
    "plt.figure(figsize = (20,20))\n",
    "sns.heatmap(df3.corr(), cmap = 'OrRd', annot = True, annot_kws={\"size\":7}, square = True)\n",
    "plt.title('Correlation Heatmap', fontsize = 18);"
   ]
  },
  {
   "cell_type": "code",
   "execution_count": 14,
   "metadata": {},
   "outputs": [],
   "source": [
    "df3.drop(columns = ['Poverty', 'Pollution Burden'], axis = 1, inplace = True)"
   ]
  },
  {
   "cell_type": "markdown",
   "metadata": {},
   "source": [
    "## Categorical Features"
   ]
  },
  {
   "cell_type": "code",
   "execution_count": 15,
   "metadata": {
    "scrolled": true
   },
   "outputs": [
    {
     "data": {
      "text/html": [
       "<div>\n",
       "<style scoped>\n",
       "    .dataframe tbody tr th:only-of-type {\n",
       "        vertical-align: middle;\n",
       "    }\n",
       "\n",
       "    .dataframe tbody tr th {\n",
       "        vertical-align: top;\n",
       "    }\n",
       "\n",
       "    .dataframe thead th {\n",
       "        text-align: right;\n",
       "    }\n",
       "</style>\n",
       "<table border=\"1\" class=\"dataframe\">\n",
       "  <thead>\n",
       "    <tr style=\"text-align: right;\">\n",
       "      <th></th>\n",
       "      <th>Total Population</th>\n",
       "      <th>California County</th>\n",
       "      <th>ZIP</th>\n",
       "      <th>Nearby City \\n(to help approximate location only)</th>\n",
       "      <th>Longitude</th>\n",
       "      <th>Latitude</th>\n",
       "      <th>SB 535 Disadvantaged Community</th>\n",
       "      <th>Ozone</th>\n",
       "      <th>PM2.5</th>\n",
       "      <th>Diesel PM</th>\n",
       "      <th>Drinking Water</th>\n",
       "      <th>Pesticides</th>\n",
       "      <th>Tox. Release</th>\n",
       "      <th>Traffic</th>\n",
       "      <th>Cleanup Sites</th>\n",
       "      <th>Groundwater Threats</th>\n",
       "      <th>Haz. Waste</th>\n",
       "      <th>Imp. Water Bodies</th>\n",
       "      <th>Solid Waste</th>\n",
       "      <th>Pollution Burden Score</th>\n",
       "      <th>Low Birth Weight</th>\n",
       "      <th>Education</th>\n",
       "      <th>Linguistic Isolation</th>\n",
       "      <th>Unemployment</th>\n",
       "      <th>Housing Burden</th>\n",
       "      <th>Pop. Char. Score</th>\n",
       "    </tr>\n",
       "    <tr>\n",
       "      <th>Census Tract</th>\n",
       "      <th></th>\n",
       "      <th></th>\n",
       "      <th></th>\n",
       "      <th></th>\n",
       "      <th></th>\n",
       "      <th></th>\n",
       "      <th></th>\n",
       "      <th></th>\n",
       "      <th></th>\n",
       "      <th></th>\n",
       "      <th></th>\n",
       "      <th></th>\n",
       "      <th></th>\n",
       "      <th></th>\n",
       "      <th></th>\n",
       "      <th></th>\n",
       "      <th></th>\n",
       "      <th></th>\n",
       "      <th></th>\n",
       "      <th></th>\n",
       "      <th></th>\n",
       "      <th></th>\n",
       "      <th></th>\n",
       "      <th></th>\n",
       "      <th></th>\n",
       "      <th></th>\n",
       "    </tr>\n",
       "  </thead>\n",
       "  <tbody>\n",
       "    <tr>\n",
       "      <th>6019001100</th>\n",
       "      <td>3174</td>\n",
       "      <td>Fresno</td>\n",
       "      <td>93706</td>\n",
       "      <td>Fresno</td>\n",
       "      <td>-119.781696</td>\n",
       "      <td>36.709695</td>\n",
       "      <td>Yes</td>\n",
       "      <td>0.065</td>\n",
       "      <td>15.40</td>\n",
       "      <td>48.524</td>\n",
       "      <td>681.20</td>\n",
       "      <td>2.75</td>\n",
       "      <td>18551.957190</td>\n",
       "      <td>909.14</td>\n",
       "      <td>80.5</td>\n",
       "      <td>45.75</td>\n",
       "      <td>0.795</td>\n",
       "      <td>0</td>\n",
       "      <td>21.75</td>\n",
       "      <td>9.85</td>\n",
       "      <td>7.44</td>\n",
       "      <td>53.3</td>\n",
       "      <td>16.2</td>\n",
       "      <td>17.6</td>\n",
       "      <td>26.0</td>\n",
       "      <td>9.55</td>\n",
       "    </tr>\n",
       "    <tr>\n",
       "      <th>6071001600</th>\n",
       "      <td>6133</td>\n",
       "      <td>San Bernardino</td>\n",
       "      <td>91761</td>\n",
       "      <td>Ontario</td>\n",
       "      <td>-117.618013</td>\n",
       "      <td>34.057780</td>\n",
       "      <td>Yes</td>\n",
       "      <td>0.062</td>\n",
       "      <td>13.31</td>\n",
       "      <td>38.556</td>\n",
       "      <td>904.66</td>\n",
       "      <td>1.37</td>\n",
       "      <td>7494.236622</td>\n",
       "      <td>782.26</td>\n",
       "      <td>66.2</td>\n",
       "      <td>36.00</td>\n",
       "      <td>1.250</td>\n",
       "      <td>5</td>\n",
       "      <td>12.00</td>\n",
       "      <td>10.00</td>\n",
       "      <td>7.04</td>\n",
       "      <td>53.3</td>\n",
       "      <td>33.4</td>\n",
       "      <td>12.3</td>\n",
       "      <td>34.1</td>\n",
       "      <td>9.07</td>\n",
       "    </tr>\n",
       "  </tbody>\n",
       "</table>\n",
       "</div>"
      ],
      "text/plain": [
       "              Total Population California County    ZIP  \\\n",
       "Census Tract                                              \n",
       "6019001100                3174           Fresno   93706   \n",
       "6071001600                6133    San Bernardino  91761   \n",
       "\n",
       "             Nearby City \\n(to help approximate location only)   Longitude  \\\n",
       "Census Tract                                                                 \n",
       "6019001100                                              Fresno -119.781696   \n",
       "6071001600                                             Ontario -117.618013   \n",
       "\n",
       "               Latitude SB 535 Disadvantaged Community  Ozone  PM2.5  \\\n",
       "Census Tract                                                           \n",
       "6019001100    36.709695                            Yes  0.065  15.40   \n",
       "6071001600    34.057780                            Yes  0.062  13.31   \n",
       "\n",
       "              Diesel PM  Drinking Water  Pesticides  Tox. Release  Traffic  \\\n",
       "Census Tract                                                                 \n",
       "6019001100       48.524          681.20        2.75  18551.957190   909.14   \n",
       "6071001600       38.556          904.66        1.37   7494.236622   782.26   \n",
       "\n",
       "              Cleanup Sites  Groundwater Threats  Haz. Waste  \\\n",
       "Census Tract                                                   \n",
       "6019001100             80.5                45.75       0.795   \n",
       "6071001600             66.2                36.00       1.250   \n",
       "\n",
       "              Imp. Water Bodies  Solid Waste  Pollution Burden Score  \\\n",
       "Census Tract                                                           \n",
       "6019001100                    0        21.75                    9.85   \n",
       "6071001600                    5        12.00                   10.00   \n",
       "\n",
       "              Low Birth Weight  Education  Linguistic Isolation  Unemployment  \\\n",
       "Census Tract                                                                    \n",
       "6019001100                7.44       53.3                  16.2          17.6   \n",
       "6071001600                7.04       53.3                  33.4          12.3   \n",
       "\n",
       "              Housing Burden  Pop. Char. Score  \n",
       "Census Tract                                    \n",
       "6019001100              26.0              9.55  \n",
       "6071001600              34.1              9.07  "
      ]
     },
     "metadata": {},
     "output_type": "display_data"
    },
    {
     "data": {
      "text/plain": []
     },
     "execution_count": 15,
     "metadata": {},
     "output_type": "execute_result"
    }
   ],
   "source": [
    "df3.head(2)"
   ]
  },
  {
   "cell_type": "code",
   "execution_count": 16,
   "metadata": {},
   "outputs": [],
   "source": [
    "#create dummy variables\n",
    "disadvantaged_dummies = pd.get_dummies(df3['SB 535 Disadvantaged Community'], prefix='disadvantaged', drop_first=True)\n",
    "\n",
    "df3 = pd.concat([df3, disadvantaged_dummies], \n",
    "                   axis=1)"
   ]
  },
  {
   "cell_type": "code",
   "execution_count": null,
   "metadata": {},
   "outputs": [],
   "source": [
    "df3.head(2)"
   ]
  },
  {
   "cell_type": "markdown",
   "metadata": {},
   "source": [
    "## Columns"
   ]
  },
  {
   "cell_type": "markdown",
   "metadata": {},
   "source": [
    "**TOTAL POPULATION**"
   ]
  },
  {
   "cell_type": "code",
   "execution_count": 17,
   "metadata": {
    "scrolled": false
   },
   "outputs": [
    {
     "data": {
      "application/vnd.jupyter.widget-view+json": {
       "model_id": "4c4779236ef14c8f8beeb1b109654a9b",
       "version_major": 2,
       "version_minor": 0
      },
      "text/plain": [
       "Button(description='Toggle Pandas/Lux', layout=Layout(top='5px', width='140px'), style=ButtonStyle())"
      ]
     },
     "metadata": {},
     "output_type": "display_data"
    },
    {
     "data": {
      "application/vnd.jupyter.widget-view+json": {
       "model_id": "085ed3a855484bd3b0df37939fdfce72",
       "version_major": 2,
       "version_minor": 0
      },
      "text/plain": [
       "Output()"
      ]
     },
     "metadata": {},
     "output_type": "display_data"
    },
    {
     "data": {
      "text/plain": []
     },
     "execution_count": 17,
     "metadata": {},
     "output_type": "execute_result"
    }
   ],
   "source": [
    "df3[df3['Total Population'] == 0]"
   ]
  },
  {
   "cell_type": "code",
   "execution_count": 18,
   "metadata": {},
   "outputs": [],
   "source": [
    "df3.drop([6037320000, 6037980001, 6037980002, 6037980005, 6037980006, 6037980007, 6037980020, 6037980025, \n",
    "        6037980030, 6071980100, 6081984300], inplace = True)\n",
    "\n",
    "# #Drinking Water\n",
    "# df3['Drinking Water']= np.where(df3['Total Population'] == 0, 0, df3['Drinking Water'])\n",
    "\n",
    "# #Low Birth Weight\n",
    "# df3['Low Birth Weight']= np.where(df3['Total Population'] == 0, 0, df3['Low Birth Weight'])\n",
    "\n",
    "# #Education\n",
    "# df3['Education']= np.where(df3['Total Population'] == 0, 0, df3['Education'])\n",
    "\n",
    "# #Linguistic Isolation\n",
    "# df3['Linguistic Isolation']= np.where(df3['Total Population'] == 0, 0, df3['Linguistic Isolation'])\n",
    "\n",
    "# #Unemployment\n",
    "# df3['Unemployment']= np.where(df3['Total Population'] == 0, 0, df3['Unemployment'])\n",
    "\n",
    "# #Housing Burden\n",
    "# df3['Housing Burden']= np.where(df3['Total Population'] == 0, 0, df3['Housing Burden'])\n",
    "\n",
    "# #Pop. Char. Score\n",
    "# df3['Pop. Char. Score']= np.where(df3['Total Population'] == 0, 0, df3['Pop. Char. Score'])"
   ]
  },
  {
   "cell_type": "code",
   "execution_count": 19,
   "metadata": {
    "scrolled": true
   },
   "outputs": [
    {
     "name": "stderr",
     "output_type": "stream",
     "text": [
      "/Users/jaclynhenn/opt/anaconda3/envs/learn-env/lib/python3.8/site-packages/IPython/core/formatters.py:345: UserWarning:\n",
      "Lux can not operate on an empty dataframe.\n",
      "Please check your input again.\n",
      "\n"
     ]
    },
    {
     "data": {
      "text/html": [
       "<div>\n",
       "<style scoped>\n",
       "    .dataframe tbody tr th:only-of-type {\n",
       "        vertical-align: middle;\n",
       "    }\n",
       "\n",
       "    .dataframe tbody tr th {\n",
       "        vertical-align: top;\n",
       "    }\n",
       "\n",
       "    .dataframe thead th {\n",
       "        text-align: right;\n",
       "    }\n",
       "</style>\n",
       "<table border=\"1\" class=\"dataframe\">\n",
       "  <thead>\n",
       "    <tr style=\"text-align: right;\">\n",
       "      <th></th>\n",
       "      <th>Total Population</th>\n",
       "      <th>California County</th>\n",
       "      <th>ZIP</th>\n",
       "      <th>Nearby City \\n(to help approximate location only)</th>\n",
       "      <th>Longitude</th>\n",
       "      <th>Latitude</th>\n",
       "      <th>SB 535 Disadvantaged Community</th>\n",
       "      <th>Ozone</th>\n",
       "      <th>PM2.5</th>\n",
       "      <th>Diesel PM</th>\n",
       "      <th>Drinking Water</th>\n",
       "      <th>Pesticides</th>\n",
       "      <th>Tox. Release</th>\n",
       "      <th>Traffic</th>\n",
       "      <th>Cleanup Sites</th>\n",
       "      <th>Groundwater Threats</th>\n",
       "      <th>Haz. Waste</th>\n",
       "      <th>Imp. Water Bodies</th>\n",
       "      <th>Solid Waste</th>\n",
       "      <th>Pollution Burden Score</th>\n",
       "      <th>Low Birth Weight</th>\n",
       "      <th>Education</th>\n",
       "      <th>Linguistic Isolation</th>\n",
       "      <th>Unemployment</th>\n",
       "      <th>Housing Burden</th>\n",
       "      <th>Pop. Char. Score</th>\n",
       "      <th>disadvantaged_Yes</th>\n",
       "    </tr>\n",
       "    <tr>\n",
       "      <th>Census Tract</th>\n",
       "      <th></th>\n",
       "      <th></th>\n",
       "      <th></th>\n",
       "      <th></th>\n",
       "      <th></th>\n",
       "      <th></th>\n",
       "      <th></th>\n",
       "      <th></th>\n",
       "      <th></th>\n",
       "      <th></th>\n",
       "      <th></th>\n",
       "      <th></th>\n",
       "      <th></th>\n",
       "      <th></th>\n",
       "      <th></th>\n",
       "      <th></th>\n",
       "      <th></th>\n",
       "      <th></th>\n",
       "      <th></th>\n",
       "      <th></th>\n",
       "      <th></th>\n",
       "      <th></th>\n",
       "      <th></th>\n",
       "      <th></th>\n",
       "      <th></th>\n",
       "      <th></th>\n",
       "      <th></th>\n",
       "    </tr>\n",
       "  </thead>\n",
       "  <tbody>\n",
       "  </tbody>\n",
       "</table>\n",
       "</div>"
      ],
      "text/plain": [
       "Empty DataFrame\n",
       "Columns: [Total Population, California County, ZIP, Nearby City \n",
       "(to help approximate location only), Longitude, Latitude, SB 535 Disadvantaged Community, Ozone, PM2.5, Diesel PM, Drinking Water, Pesticides, Tox. Release, Traffic, Cleanup Sites, Groundwater Threats, Haz. Waste, Imp. Water Bodies, Solid Waste, Pollution Burden Score, Low Birth Weight, Education, Linguistic Isolation, Unemployment, Housing Burden, Pop. Char. Score, disadvantaged_Yes]\n",
       "Index: []"
      ]
     },
     "metadata": {},
     "output_type": "display_data"
    },
    {
     "data": {
      "text/plain": []
     },
     "execution_count": 19,
     "metadata": {},
     "output_type": "execute_result"
    }
   ],
   "source": [
    "df3[df3['Total Population'] == 0]"
   ]
  },
  {
   "cell_type": "markdown",
   "metadata": {},
   "source": [
    "**CALIFORNIA COUNTY**"
   ]
  },
  {
   "cell_type": "code",
   "execution_count": 20,
   "metadata": {},
   "outputs": [
    {
     "data": {
      "image/png": "[encoded data removed]",
      "text/plain": [
       "<Figure size 1080x360 with 1 Axes>"
      ]
     },
     "metadata": {
      "needs_background": "light"
     },
     "output_type": "display_data"
    }
   ],
   "source": [
    "f, axes = plt.subplots(1, figsize=(15,5))\n",
    "cc = sns.barplot(x=df3['California County'].value_counts().index ,y=df3['California County'].value_counts().values)\n",
    "cc.tick_params(labelsize=12, rotation = 90)"
   ]
  },
  {
   "cell_type": "code",
   "execution_count": 21,
   "metadata": {},
   "outputs": [
    {
     "data": {
      "application/vnd.jupyter.widget-view+json": {
       "model_id": "6700db9fd85347e7a593e49f09ce74a6",
       "version_major": 2,
       "version_minor": 0
      },
      "text/plain": [
       "Button(description='Toggle Pandas/Lux', layout=Layout(top='5px', width='140px'), style=ButtonStyle())"
      ]
     },
     "metadata": {},
     "output_type": "display_data"
    },
    {
     "data": {
      "application/vnd.jupyter.widget-view+json": {
       "model_id": "0cd792d55c0448d081aa395c5eec52d1",
       "version_major": 2,
       "version_minor": 0
      },
      "text/plain": [
       "Output()"
      ]
     },
     "metadata": {},
     "output_type": "display_data"
    },
    {
     "data": {
      "image/png": "[encoded data removed]",
      "text/plain": [
       "<Figure size 1080x360 with 1 Axes>"
      ]
     },
     "metadata": {
      "needs_background": "light"
     },
     "output_type": "display_data"
    }
   ],
   "source": [
    "#Create boxplot to look to see if difference\n",
    "f, axes = plt.subplots(1, figsize=(15,5))\n",
    "bx = sns.boxplot(x=df3['California County'],y=df3['Low Birth Weight'])\n",
    "bx.axes.set_title(\"California Counties\",fontsize=18)\n",
    "bx.set_xlabel(\"California County\",fontsize=15)\n",
    "bx.set_ylabel(\"LBW\",fontsize=15)\n",
    "bx.tick_params(labelsize=12, rotation = 90)"
   ]
  },
  {
   "cell_type": "markdown",
   "metadata": {},
   "source": [
    "**SB 535 DISADVANTAGED COMMUNITY**\n",
    "\n",
    "SB 535 requires CalEPA\n",
    "to identify disadvantaged communities based on\n",
    "geographic, socioeconomic, public health and\n",
    "environmental hazard criteria."
   ]
  },
  {
   "cell_type": "code",
   "execution_count": 22,
   "metadata": {},
   "outputs": [
    {
     "data": {
      "image/png": "[encoded data removed]",
      "text/plain": [
       "<Figure size 1080x360 with 1 Axes>"
      ]
     },
     "metadata": {
      "needs_background": "light"
     },
     "output_type": "display_data"
    }
   ],
   "source": [
    "f, axes = plt.subplots(1, figsize=(15,5))\n",
    "zc = sns.barplot(x=df3['SB 535 Disadvantaged Community'].value_counts().index ,y=df3['SB 535 Disadvantaged Community'].value_counts().values)\n",
    "zc.tick_params(labelsize=12, rotation = 90)"
   ]
  },
  {
   "cell_type": "code",
   "execution_count": 23,
   "metadata": {
    "scrolled": false
   },
   "outputs": [
    {
     "data": {
      "application/vnd.jupyter.widget-view+json": {
       "model_id": "35d304a1279243cc927c6dc126e5b68f",
       "version_major": 2,
       "version_minor": 0
      },
      "text/plain": [
       "Button(description='Toggle Pandas/Lux', layout=Layout(top='5px', width='140px'), style=ButtonStyle())"
      ]
     },
     "metadata": {},
     "output_type": "display_data"
    },
    {
     "data": {
      "application/vnd.jupyter.widget-view+json": {
       "model_id": "4a3e00c7180842c0880c9540c74f9a07",
       "version_major": 2,
       "version_minor": 0
      },
      "text/plain": [
       "Output()"
      ]
     },
     "metadata": {},
     "output_type": "display_data"
    },
    {
     "data": {
      "image/png": "[encoded data removed]",
      "text/plain": [
       "<Figure size 1080x360 with 1 Axes>"
      ]
     },
     "metadata": {
      "needs_background": "light"
     },
     "output_type": "display_data"
    }
   ],
   "source": [
    "#Create boxplot to look to see if difference\n",
    "f, axes = plt.subplots(1, figsize=(15,5))\n",
    "bx = sns.boxplot(x=df3['SB 535 Disadvantaged Community'],y=df3['Low Birth Weight'])\n",
    "bx.axes.set_title(\"California Counties\",fontsize=18)\n",
    "bx.set_xlabel(\"California County\",fontsize=15)\n",
    "bx.set_ylabel(\"LBW\",fontsize=15)\n",
    "bx.tick_params(labelsize=12, rotation = 90)"
   ]
  },
  {
   "cell_type": "code",
   "execution_count": 24,
   "metadata": {},
   "outputs": [
    {
     "data": {
      "text/plain": [
       "Ttest_indResult(statistic=31.964300394306264, pvalue=3.917726552667787e-211)"
      ]
     },
     "execution_count": 24,
     "metadata": {},
     "output_type": "execute_result"
    }
   ],
   "source": [
    "disadvantage_y = df3[df3['SB 535 Disadvantaged Community'] == 'Yes']['Low Birth Weight']\n",
    "disadvantage_n = df3[df3['SB 535 Disadvantaged Community'] == 'No']['Low Birth Weight']\n",
    "\n",
    "stats.ttest_ind(disadvantage_y, disadvantage_n)"
   ]
  },
  {
   "cell_type": "markdown",
   "metadata": {},
   "source": [
    "**OZONE**"
   ]
  },
  {
   "cell_type": "code",
   "execution_count": 25,
   "metadata": {},
   "outputs": [
    {
     "data": {
      "application/vnd.jupyter.widget-view+json": {
       "model_id": "cafbcd74093943999123a81f27072296",
       "version_major": 2,
       "version_minor": 0
      },
      "text/plain": [
       "Button(description='Toggle Pandas/Lux', layout=Layout(top='5px', width='140px'), style=ButtonStyle())"
      ]
     },
     "metadata": {},
     "output_type": "display_data"
    },
    {
     "data": {
      "application/vnd.jupyter.widget-view+json": {
       "model_id": "bf5f48a0f68f49f6ba75a0c4ccd2d89f",
       "version_major": 2,
       "version_minor": 0
      },
      "text/plain": [
       "Output()"
      ]
     },
     "metadata": {},
     "output_type": "display_data"
    },
    {
     "data": {
      "text/plain": []
     },
     "execution_count": 25,
     "metadata": {},
     "output_type": "execute_result"
    }
   ],
   "source": [
    "df3['Ozone'].describe()"
   ]
  },
  {
   "cell_type": "code",
   "execution_count": 26,
   "metadata": {},
   "outputs": [
    {
     "data": {
      "text/plain": [
       "Ttest_indResult(statistic=-0.6867864586461339, pvalue=0.4922371559939064)"
      ]
     },
     "execution_count": 26,
     "metadata": {},
     "output_type": "execute_result"
    }
   ],
   "source": [
    "ozone_lhalf = df3[df3['Ozone'] <= 0.046000]['Low Birth Weight']\n",
    "ozone_uhalf = df3[df3['Ozone'] > 0.046000]['Low Birth Weight']\n",
    "\n",
    "stats.ttest_ind(ozone_lhalf, ozone_uhalf)"
   ]
  },
  {
   "cell_type": "code",
   "execution_count": 27,
   "metadata": {},
   "outputs": [],
   "source": [
    "less_25 = df3[df3['Ozone'] <= 0.040000]['Low Birth Weight'].mean()\n",
    "less_50 = df3[(df3['Ozone'] > 0.040000) & (df3['Ozone'] <= 0.046000)]['Low Birth Weight'].mean()\n",
    "less_75 = df3[(df3['Ozone'] > 0.046000) & (df3['Ozone'] <= 0.055000)]['Low Birth Weight'].mean()\n",
    "less_100 = df3[df3['Ozone'] > 0.055000]['Low Birth Weight'].mean()"
   ]
  },
  {
   "cell_type": "code",
   "execution_count": 28,
   "metadata": {},
   "outputs": [
    {
     "data": {
      "image/png": "[encoded data removed]",
      "text/plain": [
       "<Figure size 1080x360 with 1 Axes>"
      ]
     },
     "metadata": {
      "needs_background": "light"
     },
     "output_type": "display_data"
    }
   ],
   "source": [
    "x = ['Less 25th Percentile', 'Less 50th Percentile', 'Less 75th Percentile', 'Less 100th Percentile']\n",
    "y = [less_25, less_50, less_75, less_100]\n",
    "\n",
    "#Create boxplot to look to see if difference\n",
    "f, axes = plt.subplots(1, figsize=(15,5))\n",
    "bx = sns.barplot(x=x,y=y)\n",
    "bx.axes.set_title(\"California Counties\",fontsize=18)\n",
    "bx.set_xlabel(\"California County\",fontsize=15)\n",
    "bx.set_ylabel(\"LBW\",fontsize=15)\n",
    "bx.tick_params(labelsize=12, rotation = 90)"
   ]
  },
  {
   "cell_type": "markdown",
   "metadata": {},
   "source": [
    "**PM2.5**"
   ]
  },
  {
   "cell_type": "code",
   "execution_count": 29,
   "metadata": {},
   "outputs": [
    {
     "data": {
      "application/vnd.jupyter.widget-view+json": {
       "model_id": "53027eb9cfab43c7918061c4ba4dfbb2",
       "version_major": 2,
       "version_minor": 0
      },
      "text/plain": [
       "Button(description='Toggle Pandas/Lux', layout=Layout(top='5px', width='140px'), style=ButtonStyle())"
      ]
     },
     "metadata": {},
     "output_type": "display_data"
    },
    {
     "data": {
      "application/vnd.jupyter.widget-view+json": {
       "model_id": "0b090bdb66574d6ebc456481f855a6c6",
       "version_major": 2,
       "version_minor": 0
      },
      "text/plain": [
       "Output()"
      ]
     },
     "metadata": {},
     "output_type": "display_data"
    },
    {
     "data": {
      "text/plain": []
     },
     "execution_count": 29,
     "metadata": {},
     "output_type": "execute_result"
    }
   ],
   "source": [
    "df3['PM2.5'].describe()"
   ]
  },
  {
   "cell_type": "code",
   "execution_count": 30,
   "metadata": {},
   "outputs": [
    {
     "data": {
      "text/plain": [
       "Ttest_indResult(statistic=-15.329330556539206, pvalue=2.672102603540114e-52)"
      ]
     },
     "execution_count": 30,
     "metadata": {},
     "output_type": "execute_result"
    }
   ],
   "source": [
    "pm_lhalf = df3[df3['PM2.5'] <= 10.370000]['Low Birth Weight']\n",
    "pm_uhalf = df3[df3['PM2.5'] > 10.370000]['Low Birth Weight']\n",
    "\n",
    "stats.ttest_ind(pm_lhalf, pm_uhalf)"
   ]
  },
  {
   "cell_type": "code",
   "execution_count": 31,
   "metadata": {},
   "outputs": [],
   "source": [
    "conditions = [(df3['PM2.5'] <= 10.370000),\n",
    "             (df3['PM2.5'] > 10.370000)]\n",
    "\n",
    "choice = [('pm_lower'), ('pm_upper')]\n",
    "\n",
    "df3['pm_halves'] = np.select(conditions, choice)"
   ]
  },
  {
   "cell_type": "code",
   "execution_count": 32,
   "metadata": {},
   "outputs": [
    {
     "data": {
      "application/vnd.jupyter.widget-view+json": {
       "model_id": "f2a3e1655e9f41a2bf6514f663f1ae83",
       "version_major": 2,
       "version_minor": 0
      },
      "text/plain": [
       "Button(description='Toggle Pandas/Lux', layout=Layout(top='5px', width='140px'), style=ButtonStyle())"
      ]
     },
     "metadata": {},
     "output_type": "display_data"
    },
    {
     "data": {
      "application/vnd.jupyter.widget-view+json": {
       "model_id": "68fd3d0d54334b0e88dbe827a8f93d0b",
       "version_major": 2,
       "version_minor": 0
      },
      "text/plain": [
       "Output()"
      ]
     },
     "metadata": {},
     "output_type": "display_data"
    },
    {
     "data": {
      "image/png": "[encoded data removed]",
      "text/plain": [
       "<Figure size 720x576 with 1 Axes>"
      ]
     },
     "metadata": {
      "needs_background": "light"
     },
     "output_type": "display_data"
    }
   ],
   "source": [
    "f, axes = plt.subplots(1, figsize=(10,8))\n",
    "bx = sns.boxplot(x=df3['pm_halves'],y=df3['Low Birth Weight'], palette = 'Set3_r')\n",
    "bx.axes.set_title(\"LBW For PM2.5 Halves\",fontsize=18)\n",
    "bx.set_xlabel(\"SPM2.5 Halves\",fontsize=15)\n",
    "bx.set_ylabel(\"LBW %\",fontsize=15)\n",
    "bx.tick_params(labelsize=12)"
   ]
  },
  {
   "cell_type": "code",
   "execution_count": 33,
   "metadata": {},
   "outputs": [
    {
     "data": {
      "image/png": "[encoded data removed]",
      "text/plain": [
       "<Figure size 1080x360 with 1 Axes>"
      ]
     },
     "metadata": {
      "needs_background": "light"
     },
     "output_type": "display_data"
    }
   ],
   "source": [
    "x = ['PM2.5 Upper Half', 'PM2.5 Lower Half']\n",
    "y = [pm_uhalf.mean(), pm_lhalf.mean()]\n",
    "\n",
    "#Create boxplot to look to see if difference\n",
    "f, axes = plt.subplots(1, figsize=(15,5))\n",
    "bx = sns.barplot(x=x,y=y, palette = 'Set3_r')\n",
    "bx.axes.set_title(\"Mean LBW % For PM2.5 Halves\",fontsize=18)\n",
    "bx.set_xlabel(\"PM2.5 Halves\",fontsize=15)\n",
    "bx.set_ylabel(\"LBW % Mean\",fontsize=15)\n",
    "bx.tick_params(labelsize=12)"
   ]
  },
  {
   "cell_type": "markdown",
   "metadata": {},
   "source": [
    "**DIESEL PM**\n",
    "\n",
    "Diesel PM emissions from on-road and non-road sources"
   ]
  },
  {
   "cell_type": "code",
   "execution_count": 34,
   "metadata": {},
   "outputs": [
    {
     "data": {
      "application/vnd.jupyter.widget-view+json": {
       "model_id": "56278fef1b404eb9a5b8a1bb86309708",
       "version_major": 2,
       "version_minor": 0
      },
      "text/plain": [
       "Button(description='Toggle Pandas/Lux', layout=Layout(top='5px', width='140px'), style=ButtonStyle())"
      ]
     },
     "metadata": {},
     "output_type": "display_data"
    },
    {
     "data": {
      "application/vnd.jupyter.widget-view+json": {
       "model_id": "c4c36d6d47bd4dc9b9f8ba7136be4c1a",
       "version_major": 2,
       "version_minor": 0
      },
      "text/plain": [
       "Output()"
      ]
     },
     "metadata": {},
     "output_type": "display_data"
    },
    {
     "data": {
      "text/plain": []
     },
     "execution_count": 34,
     "metadata": {},
     "output_type": "execute_result"
    }
   ],
   "source": [
    "df3['Diesel PM'].describe()"
   ]
  },
  {
   "cell_type": "code",
   "execution_count": 35,
   "metadata": {},
   "outputs": [],
   "source": [
    "diesel_1 = df3[(df3['Diesel PM'] <= 8.812000)]\n",
    "diesel_2 = df3[(df3['Diesel PM'] > 8.812000) & (df3['Diesel PM'] <= 16.448000)]\n",
    "diesel_3 = df3[(df3['Diesel PM'] > 6.448000) & (df3['Diesel PM'] <= 24.646500)]\n",
    "diesel_4 = df3[(df3['Diesel PM'] > 24.646500)]"
   ]
  },
  {
   "cell_type": "code",
   "execution_count": 36,
   "metadata": {},
   "outputs": [],
   "source": [
    "conditions = [(df3['Diesel PM'] <= 8.812000),\n",
    "              ((df3['Diesel PM'] > 8.812000) & (df3['Diesel PM'] <= 16.448000)), \n",
    "              ((df3['Diesel PM'] > 6.448000) & (df3['Diesel PM'] <= 24.646500)), \n",
    "              (df3['Diesel PM'] > 24.646500)]\n",
    "\n",
    "choice = [('diesel_1'), ('diesel_2'), ('diesel_3'), ('diesel_4')]\n",
    "\n",
    "df3['diesel_levels'] = np.select(conditions, choice)"
   ]
  },
  {
   "cell_type": "code",
   "execution_count": 37,
   "metadata": {},
   "outputs": [
    {
     "data": {
      "application/vnd.jupyter.widget-view+json": {
       "model_id": "be5c93d9a1714846b5954b6fddf9b100",
       "version_major": 2,
       "version_minor": 0
      },
      "text/plain": [
       "Button(description='Toggle Pandas/Lux', layout=Layout(top='5px', width='140px'), style=ButtonStyle())"
      ]
     },
     "metadata": {},
     "output_type": "display_data"
    },
    {
     "data": {
      "application/vnd.jupyter.widget-view+json": {
       "model_id": "864300b855b1427ab6dbb737775049f9",
       "version_major": 2,
       "version_minor": 0
      },
      "text/plain": [
       "Output()"
      ]
     },
     "metadata": {},
     "output_type": "display_data"
    },
    {
     "data": {
      "image/png": "[encoded data removed]",
      "text/plain": [
       "<Figure size 720x576 with 1 Axes>"
      ]
     },
     "metadata": {
      "needs_background": "light"
     },
     "output_type": "display_data"
    }
   ],
   "source": [
    "f, axes = plt.subplots(1, figsize=(10,8))\n",
    "bx = sns.boxplot(x=df3['diesel_levels'],y=df3['Low Birth Weight'])\n",
    "bx.axes.set_title(\"LBW For Diesel PM Levels\",fontsize=18)\n",
    "bx.set_xlabel(\"Diesel PM Levels\",fontsize=15)\n",
    "bx.set_ylabel(\"LBW %\",fontsize=15)\n",
    "bx.tick_params(labelsize=12)"
   ]
  },
  {
   "cell_type": "markdown",
   "metadata": {},
   "source": [
    "**POLLUTION BURDEN SCORE**"
   ]
  },
  {
   "cell_type": "code",
   "execution_count": 38,
   "metadata": {},
   "outputs": [
    {
     "data": {
      "application/vnd.jupyter.widget-view+json": {
       "model_id": "1515233d1b2b4d5e88cb900b6766ddb3",
       "version_major": 2,
       "version_minor": 0
      },
      "text/plain": [
       "Button(description='Toggle Pandas/Lux', layout=Layout(top='5px', width='140px'), style=ButtonStyle())"
      ]
     },
     "metadata": {},
     "output_type": "display_data"
    },
    {
     "data": {
      "application/vnd.jupyter.widget-view+json": {
       "model_id": "aac150b896064aadbe86a05985c00604",
       "version_major": 2,
       "version_minor": 0
      },
      "text/plain": [
       "Output()"
      ]
     },
     "metadata": {},
     "output_type": "display_data"
    },
    {
     "data": {
      "text/plain": []
     },
     "execution_count": 38,
     "metadata": {},
     "output_type": "execute_result"
    }
   ],
   "source": [
    "df3['Pollution Burden Score'].describe()"
   ]
  },
  {
   "cell_type": "code",
   "execution_count": 39,
   "metadata": {},
   "outputs": [],
   "source": [
    "conditions = [(df3['Pollution Burden Score'] < 1),\n",
    "              ((df3['Pollution Burden Score'] >= 1) & (df3['Pollution Burden Score'] < 2)),\n",
    "              ((df3['Pollution Burden Score'] >= 2) & (df3['Pollution Burden Score'] < 3)),\n",
    "              ((df3['Pollution Burden Score'] >= 3) & (df3['Pollution Burden Score'] < 4)),\n",
    "              ((df3['Pollution Burden Score'] >= 4) & (df3['Pollution Burden Score'] < 5)),\n",
    "              ((df3['Pollution Burden Score'] >= 5) & (df3['Pollution Burden Score'] < 6)),\n",
    "              ((df3['Pollution Burden Score'] >= 6) & (df3['Pollution Burden Score'] < 7)),\n",
    "              ((df3['Pollution Burden Score'] >= 7) & (df3['Pollution Burden Score'] < 8)),\n",
    "              ((df3['Pollution Burden Score'] >= 8) & (df3['Pollution Burden Score'] < 9)),\n",
    "              ((df3['Pollution Burden Score'] >= 9) & (df3['Pollution Burden Score'] < 10)),\n",
    "              (df3['Pollution Burden Score'] == 10)]\n",
    "\n",
    "choice = [(0), (1), (2), (3), (4), (5),\n",
    "           (6), (7), (8), (9), (10)]\n",
    "\n",
    "df3['pbs'] = np.select(conditions, choice)"
   ]
  },
  {
   "cell_type": "code",
   "execution_count": 40,
   "metadata": {},
   "outputs": [
    {
     "data": {
      "application/vnd.jupyter.widget-view+json": {
       "model_id": "0d45a79013214f0bab8d5f1d3ec91347",
       "version_major": 2,
       "version_minor": 0
      },
      "text/plain": [
       "Button(description='Toggle Pandas/Lux', layout=Layout(top='5px', width='140px'), style=ButtonStyle())"
      ]
     },
     "metadata": {},
     "output_type": "display_data"
    },
    {
     "data": {
      "application/vnd.jupyter.widget-view+json": {
       "model_id": "a2851de6ed59440cae4c857763db02e7",
       "version_major": 2,
       "version_minor": 0
      },
      "text/plain": [
       "Output()"
      ]
     },
     "metadata": {},
     "output_type": "display_data"
    },
    {
     "data": {
      "image/png": "[encoded data removed]",
      "text/plain": [
       "<Figure size 720x576 with 1 Axes>"
      ]
     },
     "metadata": {
      "needs_background": "light"
     },
     "output_type": "display_data"
    }
   ],
   "source": [
    "f, axes = plt.subplots(1, figsize=(10,8))\n",
    "bx = sns.boxplot(x=df3['pbs'],y=df3['Low Birth Weight'])\n",
    "bx.axes.set_title(\"LBW For Pollution Burden Score Breakdown\",fontsize=18)\n",
    "bx.set_xlabel(\"Pollution Burden Score Breakdown\",fontsize=15)\n",
    "bx.set_ylabel(\"LBW %\",fontsize=15)\n",
    "bx.tick_params(labelsize=12)"
   ]
  },
  {
   "cell_type": "code",
   "execution_count": 41,
   "metadata": {},
   "outputs": [],
   "source": [
    "x = [1, 2, 3, 4, 5, 6, 7, 8, 9, 10]\n",
    "y = [(df3[df3['pbs'] == 1]['Low Birth Weight'].mean()), \n",
    "     (df3[df3['pbs'] == 2]['Low Birth Weight'].mean()), \n",
    "     (df3[df3['pbs'] == 3]['Low Birth Weight'].mean()), \n",
    "     (df3[df3['pbs'] == 4]['Low Birth Weight'].mean()), \n",
    "     (df3[df3['pbs'] == 5]['Low Birth Weight'].mean()), \n",
    "     (df3[df3['pbs'] == 6]['Low Birth Weight'].mean()), \n",
    "     (df3[df3['pbs'] == 7]['Low Birth Weight'].mean()), \n",
    "     (df3[df3['pbs'] == 8]['Low Birth Weight'].mean()), \n",
    "     (df3[df3['pbs'] == 9]['Low Birth Weight'].mean()), \n",
    "     (df3[df3['pbs'] == 10]['Low Birth Weight'].mean())]"
   ]
  },
  {
   "cell_type": "code",
   "execution_count": 42,
   "metadata": {},
   "outputs": [
    {
     "data": {
      "image/png": "[encoded data removed]",
      "text/plain": [
       "<Figure size 1080x360 with 1 Axes>"
      ]
     },
     "metadata": {
      "needs_background": "light"
     },
     "output_type": "display_data"
    }
   ],
   "source": [
    "#Create boxplot to look to see if difference\n",
    "f, axes = plt.subplots(1, figsize=(15,5))\n",
    "bx = sns.barplot(x=x,y=y, palette = 'Set3_r')\n",
    "bx.axes.set_title(\"Mean LBW % For Pollution Burden Score\",fontsize=18)\n",
    "bx.set_xlabel(\"Pollution Burden Score Breakdown\",fontsize=15)\n",
    "bx.set_ylabel(\"LBW % Mean\",fontsize=15)\n",
    "bx.tick_params(labelsize=12)"
   ]
  },
  {
   "cell_type": "code",
   "execution_count": 43,
   "metadata": {},
   "outputs": [],
   "source": [
    "#create dummy variables\n",
    "pm_halves_dummies = pd.get_dummies(df3['pm_halves'], prefix='pm_halves', drop_first=True)\n",
    "diesel_levels_dummies = pd.get_dummies(df3['diesel_levels'], prefix='diesel_levels', drop_first=True)\n",
    "pbs_dummies = pd.get_dummies(df3['pbs'], prefix='pbs', drop_first=True)\n",
    "\n",
    "\n",
    "df3 = pd.concat([df3, pm_halves_dummies, diesel_levels_dummies, pbs_dummies], \n",
    "                   axis=1)"
   ]
  },
  {
   "cell_type": "code",
   "execution_count": 44,
   "metadata": {},
   "outputs": [
    {
     "name": "stderr",
     "output_type": "stream",
     "text": [
      "/Users/jaclynhenn/opt/anaconda3/envs/learn-env/lib/python3.8/site-packages/IPython/core/formatters.py:345: UserWarning:\n",
      "Lux defaults to Pandas when there are no valid actions defined.\n"
     ]
    },
    {
     "data": {
      "text/html": [
       "<div>\n",
       "<style scoped>\n",
       "    .dataframe tbody tr th:only-of-type {\n",
       "        vertical-align: middle;\n",
       "    }\n",
       "\n",
       "    .dataframe tbody tr th {\n",
       "        vertical-align: top;\n",
       "    }\n",
       "\n",
       "    .dataframe thead th {\n",
       "        text-align: right;\n",
       "    }\n",
       "</style>\n",
       "<table border=\"1\" class=\"dataframe\">\n",
       "  <thead>\n",
       "    <tr style=\"text-align: right;\">\n",
       "      <th></th>\n",
       "      <th>Total Population</th>\n",
       "      <th>California County</th>\n",
       "      <th>ZIP</th>\n",
       "      <th>Nearby City \\n(to help approximate location only)</th>\n",
       "      <th>Longitude</th>\n",
       "      <th>Latitude</th>\n",
       "      <th>SB 535 Disadvantaged Community</th>\n",
       "      <th>Ozone</th>\n",
       "      <th>PM2.5</th>\n",
       "      <th>Diesel PM</th>\n",
       "      <th>Drinking Water</th>\n",
       "      <th>Pesticides</th>\n",
       "      <th>Tox. Release</th>\n",
       "      <th>Traffic</th>\n",
       "      <th>Cleanup Sites</th>\n",
       "      <th>Groundwater Threats</th>\n",
       "      <th>Haz. Waste</th>\n",
       "      <th>Imp. Water Bodies</th>\n",
       "      <th>Solid Waste</th>\n",
       "      <th>Pollution Burden Score</th>\n",
       "      <th>Low Birth Weight</th>\n",
       "      <th>Education</th>\n",
       "      <th>Linguistic Isolation</th>\n",
       "      <th>Unemployment</th>\n",
       "      <th>Housing Burden</th>\n",
       "      <th>Pop. Char. Score</th>\n",
       "      <th>disadvantaged_Yes</th>\n",
       "      <th>pm_halves</th>\n",
       "      <th>diesel_levels</th>\n",
       "      <th>pbs</th>\n",
       "      <th>pm_halves_pm_upper</th>\n",
       "      <th>diesel_levels_diesel_2</th>\n",
       "      <th>diesel_levels_diesel_3</th>\n",
       "      <th>diesel_levels_diesel_4</th>\n",
       "      <th>pbs_2</th>\n",
       "      <th>pbs_3</th>\n",
       "      <th>pbs_4</th>\n",
       "      <th>pbs_5</th>\n",
       "      <th>pbs_6</th>\n",
       "      <th>pbs_7</th>\n",
       "      <th>pbs_8</th>\n",
       "      <th>pbs_9</th>\n",
       "      <th>pbs_10</th>\n",
       "    </tr>\n",
       "    <tr>\n",
       "      <th>Census Tract</th>\n",
       "      <th></th>\n",
       "      <th></th>\n",
       "      <th></th>\n",
       "      <th></th>\n",
       "      <th></th>\n",
       "      <th></th>\n",
       "      <th></th>\n",
       "      <th></th>\n",
       "      <th></th>\n",
       "      <th></th>\n",
       "      <th></th>\n",
       "      <th></th>\n",
       "      <th></th>\n",
       "      <th></th>\n",
       "      <th></th>\n",
       "      <th></th>\n",
       "      <th></th>\n",
       "      <th></th>\n",
       "      <th></th>\n",
       "      <th></th>\n",
       "      <th></th>\n",
       "      <th></th>\n",
       "      <th></th>\n",
       "      <th></th>\n",
       "      <th></th>\n",
       "      <th></th>\n",
       "      <th></th>\n",
       "      <th></th>\n",
       "      <th></th>\n",
       "      <th></th>\n",
       "      <th></th>\n",
       "      <th></th>\n",
       "      <th></th>\n",
       "      <th></th>\n",
       "      <th></th>\n",
       "      <th></th>\n",
       "      <th></th>\n",
       "      <th></th>\n",
       "      <th></th>\n",
       "      <th></th>\n",
       "      <th></th>\n",
       "      <th></th>\n",
       "      <th></th>\n",
       "    </tr>\n",
       "  </thead>\n",
       "  <tbody>\n",
       "    <tr>\n",
       "      <th>6019001100</th>\n",
       "      <td>3174</td>\n",
       "      <td>Fresno</td>\n",
       "      <td>93706</td>\n",
       "      <td>Fresno</td>\n",
       "      <td>-119.781696</td>\n",
       "      <td>36.709695</td>\n",
       "      <td>Yes</td>\n",
       "      <td>0.065</td>\n",
       "      <td>15.40</td>\n",
       "      <td>48.524</td>\n",
       "      <td>681.20</td>\n",
       "      <td>2.75</td>\n",
       "      <td>18551.957190</td>\n",
       "      <td>909.14</td>\n",
       "      <td>80.5</td>\n",
       "      <td>45.75</td>\n",
       "      <td>0.795</td>\n",
       "      <td>0</td>\n",
       "      <td>21.75</td>\n",
       "      <td>9.85</td>\n",
       "      <td>7.44</td>\n",
       "      <td>53.3</td>\n",
       "      <td>16.2</td>\n",
       "      <td>17.6</td>\n",
       "      <td>26.0</td>\n",
       "      <td>9.55</td>\n",
       "      <td>1</td>\n",
       "      <td>pm_upper</td>\n",
       "      <td>diesel_4</td>\n",
       "      <td>9</td>\n",
       "      <td>1</td>\n",
       "      <td>0</td>\n",
       "      <td>0</td>\n",
       "      <td>1</td>\n",
       "      <td>0</td>\n",
       "      <td>0</td>\n",
       "      <td>0</td>\n",
       "      <td>0</td>\n",
       "      <td>0</td>\n",
       "      <td>0</td>\n",
       "      <td>0</td>\n",
       "      <td>1</td>\n",
       "      <td>0</td>\n",
       "    </tr>\n",
       "    <tr>\n",
       "      <th>6071001600</th>\n",
       "      <td>6133</td>\n",
       "      <td>San Bernardino</td>\n",
       "      <td>91761</td>\n",
       "      <td>Ontario</td>\n",
       "      <td>-117.618013</td>\n",
       "      <td>34.057780</td>\n",
       "      <td>Yes</td>\n",
       "      <td>0.062</td>\n",
       "      <td>13.31</td>\n",
       "      <td>38.556</td>\n",
       "      <td>904.66</td>\n",
       "      <td>1.37</td>\n",
       "      <td>7494.236622</td>\n",
       "      <td>782.26</td>\n",
       "      <td>66.2</td>\n",
       "      <td>36.00</td>\n",
       "      <td>1.250</td>\n",
       "      <td>5</td>\n",
       "      <td>12.00</td>\n",
       "      <td>10.00</td>\n",
       "      <td>7.04</td>\n",
       "      <td>53.3</td>\n",
       "      <td>33.4</td>\n",
       "      <td>12.3</td>\n",
       "      <td>34.1</td>\n",
       "      <td>9.07</td>\n",
       "      <td>1</td>\n",
       "      <td>pm_upper</td>\n",
       "      <td>diesel_4</td>\n",
       "      <td>10</td>\n",
       "      <td>1</td>\n",
       "      <td>0</td>\n",
       "      <td>0</td>\n",
       "      <td>1</td>\n",
       "      <td>0</td>\n",
       "      <td>0</td>\n",
       "      <td>0</td>\n",
       "      <td>0</td>\n",
       "      <td>0</td>\n",
       "      <td>0</td>\n",
       "      <td>0</td>\n",
       "      <td>0</td>\n",
       "      <td>1</td>\n",
       "    </tr>\n",
       "  </tbody>\n",
       "</table>\n",
       "</div>"
      ],
      "text/plain": [
       "              Total Population California County    ZIP  \\\n",
       "Census Tract                                              \n",
       "6019001100                3174           Fresno   93706   \n",
       "6071001600                6133    San Bernardino  91761   \n",
       "\n",
       "             Nearby City \\n(to help approximate location only)   Longitude  \\\n",
       "Census Tract                                                                 \n",
       "6019001100                                              Fresno -119.781696   \n",
       "6071001600                                             Ontario -117.618013   \n",
       "\n",
       "               Latitude SB 535 Disadvantaged Community  Ozone  PM2.5  \\\n",
       "Census Tract                                                           \n",
       "6019001100    36.709695                            Yes  0.065  15.40   \n",
       "6071001600    34.057780                            Yes  0.062  13.31   \n",
       "\n",
       "              Diesel PM  Drinking Water  Pesticides  Tox. Release  Traffic  \\\n",
       "Census Tract                                                                 \n",
       "6019001100       48.524          681.20        2.75  18551.957190   909.14   \n",
       "6071001600       38.556          904.66        1.37   7494.236622   782.26   \n",
       "\n",
       "              Cleanup Sites  Groundwater Threats  Haz. Waste  \\\n",
       "Census Tract                                                   \n",
       "6019001100             80.5                45.75       0.795   \n",
       "6071001600             66.2                36.00       1.250   \n",
       "\n",
       "              Imp. Water Bodies  Solid Waste  Pollution Burden Score  \\\n",
       "Census Tract                                                           \n",
       "6019001100                    0        21.75                    9.85   \n",
       "6071001600                    5        12.00                   10.00   \n",
       "\n",
       "              Low Birth Weight  Education  Linguistic Isolation  Unemployment  \\\n",
       "Census Tract                                                                    \n",
       "6019001100                7.44       53.3                  16.2          17.6   \n",
       "6071001600                7.04       53.3                  33.4          12.3   \n",
       "\n",
       "              Housing Burden  Pop. Char. Score  disadvantaged_Yes pm_halves  \\\n",
       "Census Tract                                                                  \n",
       "6019001100              26.0              9.55                  1  pm_upper   \n",
       "6071001600              34.1              9.07                  1  pm_upper   \n",
       "\n",
       "             diesel_levels  pbs  pm_halves_pm_upper  diesel_levels_diesel_2  \\\n",
       "Census Tract                                                                  \n",
       "6019001100        diesel_4    9                   1                       0   \n",
       "6071001600        diesel_4   10                   1                       0   \n",
       "\n",
       "              diesel_levels_diesel_3  diesel_levels_diesel_4  pbs_2  pbs_3  \\\n",
       "Census Tract                                                                 \n",
       "6019001100                         0                       1      0      0   \n",
       "6071001600                         0                       1      0      0   \n",
       "\n",
       "              pbs_4  pbs_5  pbs_6  pbs_7  pbs_8  pbs_9  pbs_10  \n",
       "Census Tract                                                    \n",
       "6019001100        0      0      0      0      0      1       0  \n",
       "6071001600        0      0      0      0      0      0       1  "
      ]
     },
     "metadata": {},
     "output_type": "display_data"
    },
    {
     "data": {
      "text/plain": []
     },
     "execution_count": 44,
     "metadata": {},
     "output_type": "execute_result"
    }
   ],
   "source": [
    "df3.head(2)"
   ]
  },
  {
   "cell_type": "code",
   "execution_count": 45,
   "metadata": {},
   "outputs": [
    {
     "data": {
      "application/vnd.jupyter.widget-view+json": {
       "model_id": "a553bec47ed84dd5b0b4cc0b74435626",
       "version_major": 2,
       "version_minor": 0
      },
      "text/plain": [
       "Button(description='Toggle Pandas/Lux', layout=Layout(top='5px', width='140px'), style=ButtonStyle())"
      ]
     },
     "metadata": {},
     "output_type": "display_data"
    },
    {
     "data": {
      "application/vnd.jupyter.widget-view+json": {
       "model_id": "63344ee24e1044e3960217944411e7ae",
       "version_major": 2,
       "version_minor": 0
      },
      "text/plain": [
       "Output()"
      ]
     },
     "metadata": {},
     "output_type": "display_data"
    },
    {
     "data": {
      "text/plain": []
     },
     "execution_count": 45,
     "metadata": {},
     "output_type": "execute_result"
    }
   ],
   "source": [
    "df3.head(2)"
   ]
  },
  {
   "cell_type": "code",
   "execution_count": 46,
   "metadata": {},
   "outputs": [],
   "source": [
    "df3.drop(columns = ['California County', 'ZIP', \n",
    "                    'Nearby City \\n(to help approximate location only)', \n",
    "                    'Longitude', 'Latitude'], axis = 1, inplace = True)"
   ]
  },
  {
   "cell_type": "code",
   "execution_count": 47,
   "metadata": {},
   "outputs": [],
   "source": [
    "df3.to_csv('data/df3')"
   ]
  },
  {
   "cell_type": "code",
   "execution_count": null,
   "metadata": {},
   "outputs": [],
   "source": []
  }
 ],
 "metadata": {
  "kernelspec": {
   "display_name": "learn-env",
   "language": "python",
   "name": "learn-env"
  },
  "language_info": {
   "codemirror_mode": {
    "name": "ipython",
    "version": 3
   },
   "file_extension": ".py",
   "mimetype": "text/x-python",
   "name": "python",
   "nbconvert_exporter": "python",
   "pygments_lexer": "ipython3",
   "version": "3.8.5"
  }
 },
 "nbformat": 4,
 "nbformat_minor": 4
}
